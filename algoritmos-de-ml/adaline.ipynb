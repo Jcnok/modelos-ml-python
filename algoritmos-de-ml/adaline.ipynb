{
 "cells": [
  {
   "cell_type": "code",
   "execution_count": 1,
   "metadata": {},
   "outputs": [],
   "source": [
    "# Carregando bibliotecas\n",
    "import numpy as np\n",
    "import pandas as pd\n",
    "import matplotlib.pyplot as plt"
   ]
  },
  {
   "cell_type": "code",
   "execution_count": 2,
   "metadata": {},
   "outputs": [],
   "source": [
    "# Carregando o conjunto iris dataset do link oficial\n",
    "df = pd.read_csv('https://archive.ics.uci.edu/ml/'\n",
    "                       'machine-learning-databases/iris/iris.data',\n",
    "                       header=None)\n",
    "\n",
    "# Obtendo o conjunto de dados X e o vetor de alvos y\n",
    "y = df.iloc[0:100, 4].values\n",
    "y = np.where(y == 'Iris-setosa', -1, 1)\n",
    "X = df.iloc[0:100, [0, 2]].values\n",
    "\n",
    "# Adicionando a coluna do bias (nunca esqueça, nos nossos algoritmos \n",
    "#                               baseados em perceptron/gradiente é necessário incluir!)\n",
    "X = np.c_[np.ones(X.shape[0]), X]"
   ]
  },
  {
   "cell_type": "code",
   "execution_count": 3,
   "metadata": {},
   "outputs": [
    {
     "data": {
      "image/png": "[encoded data removed]",
      "text/plain": [
       "<Figure size 432x288 with 1 Axes>"
      ]
     },
     "metadata": {
      "needs_background": "light"
     },
     "output_type": "display_data"
    }
   ],
   "source": [
    "# Visualizando os dados (estamos pulando a coluna do bias)\n",
    "plt.scatter(X[:50, 1], X[:50, 2],\n",
    "            color='red', marker='o', label='setosa')\n",
    "plt.scatter(X[50:100, 1], X[50:100, 2],\n",
    "             color='blue', marker='x', label='versicolor')\n",
    "plt.xlabel('largura da sépala [cm]')\n",
    "plt.ylabel('largura da pétala [cm]')\n",
    "plt.legend(loc='upper left')\n",
    "plt.show()"
   ]
  },
  {
   "cell_type": "code",
   "execution_count": 4,
   "metadata": {},
   "outputs": [],
   "source": [
    "from matplotlib.colors import ListedColormap\n",
    "\n",
    "#\n",
    "#  Função para plotar fronteiras de decisão\n",
    "#\n",
    "#  Extraída do livro: Python Machine Learning do autor Sebastian Raschka. \n",
    "#\n",
    "#    Entradas : X_{m, n}      = uma matriz (ou vetor) de características\n",
    "#               y_{m, 1}      = um vetor de alvos em \\{-1,1\\}\n",
    "#               thetas_{n, 1} = um vetor de pesos\n",
    "#               f             = função de predição\n",
    "#               resolution    = resolução do gráfico (cuidado valores altos dão estouro de memória)\n",
    "#\n",
    "#    Observação: X deve estar com a coluna bias adicionada\n",
    "#\n",
    "def plot_decision_regions(X, y, thetas, f, resolution=0.02):\n",
    "    # setup marker generator and color map\n",
    "    markers = ('s', 'x', 'o', '^', 'v')\n",
    "    colors = ('red', 'blue', 'lightgreen', 'gray', 'cyan')\n",
    "    cmap = ListedColormap(colors[:len(np.unique(y))])\n",
    "    # plot the decision surface\n",
    "    x1_min, x1_max = X[:, 1].min() - 1, X[:, 1].max() + 1\n",
    "    x2_min, x2_max = X[:, 2].min() - 1, X[:, 2].max() + 1\n",
    "    xx1, xx2 = np.meshgrid(np.arange(x1_min, x1_max, resolution),\n",
    "                              np.arange(x2_min, x2_max, resolution))\n",
    "\n",
    "    Z = f(np.array([np.ones(xx1.ravel().shape[0]), xx1.ravel(), xx2.ravel()]).T, thetas)\n",
    "    Z = Z.reshape(xx1.shape)\n",
    "    plt.contourf(xx1, xx2, Z, alpha=0.3, cmap=cmap)\n",
    "    plt.xlim(xx1.min(), xx1.max())\n",
    "    plt.ylim(xx2.min(), xx2.max())\n",
    "    # plot class samples\n",
    "    for idx, cl in enumerate(np.unique(y)):\n",
    "        plt.scatter(x=X[y == cl, 1],\n",
    "                    y=X[y == cl, 2],\n",
    "                    alpha=0.8,\n",
    "                    c=colors[idx],\n",
    "                    marker=markers[idx],\n",
    "                    label=cl,\n",
    "                    edgecolor='black')"
   ]
  },
  {
   "cell_type": "code",
   "execution_count": 8,
   "metadata": {},
   "outputs": [],
   "source": [
    "#\n",
    "#  Hipótese vetorizada do Adaline\n",
    "#\n",
    "#    Entradas : X_{m, n}      = uma matriz (ou vetor) de características\n",
    "#               thetas_{n, 1} = um vetor de pesos\n",
    "#\n",
    "#\n",
    "#    Saída : função identidade.\n",
    "#\n",
    "#    Observação: X deve estar com a coluna bias adicionada\n",
    "#\n",
    "\n",
    "def h(X, thetas):\n",
    "    return X.dot(thetas)\n",
    "\n",
    "#\n",
    "#  Predição vetorizada do Adaline\n",
    "#\n",
    "#    Entradas : X_{m, n}      = uma matriz (ou vetor) de características\n",
    "#               thetas_{n, 1} = um vetor de pesos\n",
    "#\n",
    "#\n",
    "#    Saída : resultado da função degrau.\n",
    "#\n",
    "#    Observação: X deve estar com a coluna bias adicionada\n",
    "#\n",
    "\n",
    "def p(X, thetas):\n",
    "    return np.where(h(X, thetas) >= 0.0, 1, -1)\n",
    "\n",
    "#\n",
    "#  Função de custo do Adaline\n",
    "#\n",
    "#    Entradas : X_{m, n}      = uma matriz (ou vetor) de características\n",
    "#               thetas_{n, 1} = um vetor de pesos\n",
    "#               y_{m, 1}      = um vetor de alvos em \\{-1,1\\}\n",
    "#\n",
    "#    Observação: X deve estar com a coluna bias adicionada\n",
    "#\n",
    "\n",
    "def J(X, thetas, y):\n",
    "    return ((y - h(X, thetas))**2).sum()/2.0\n",
    "\n",
    "#\n",
    "#  Algoritmo de aprendizagem supervisionada do Adaline GDB (classificação binária)\n",
    "#\n",
    "#    Entradas : X_{m, n}      = uma matriz (ou vetor) de características\n",
    "#               y_{m, 1}      = um vetor de alvos em \\{-1,1\\}\n",
    "#               iterations    = número máximo de iterações do algoritmo\n",
    "#               alpha         = taxa de aprendizagem, tipicamente um valor entre (0.0 e 1)\n",
    "#\n",
    "#\n",
    "#    Saída : thetas = vetor de pesos aprendido pelo Adaline\n",
    "#            custos = vetor de custos acumulados durante as iterações\n",
    "#\n",
    "#    Observação: X deve estar com a coluna bias adicionada\n",
    "#\n",
    "\n",
    "def adalineGDB(X, y, iterations, alpha):\n",
    "    thetas = np.zeros(X.shape[1])\n",
    "    custos = []\n",
    "    for i in range(iterations):        \n",
    "        thetas = thetas + alpha * X.T.dot((y - h(X, thetas)))\n",
    "        custos.append(J(X, thetas, y))\n",
    "        \n",
    "    return thetas, custos"
   ]
  },
  {
   "cell_type": "code",
   "execution_count": 15,
   "metadata": {},
   "outputs": [],
   "source": [
    "# Treinando nosso modelo...\n",
    "iterations = 1000 \n",
    "alpha = 0.0001\n",
    "(thetas, custos) = adalineGDB(X, y, iterations, alpha)"
   ]
  },
  {
   "cell_type": "code",
   "execution_count": 16,
   "metadata": {},
   "outputs": [
    {
     "data": {
      "image/png": "[encoded data removed]",
      "text/plain": [
       "<Figure size 432x288 with 1 Axes>"
      ]
     },
     "metadata": {
      "needs_background": "light"
     },
     "output_type": "display_data"
    }
   ],
   "source": [
    "# Plotando a fronteira de decisão do Adaline\n",
    "plot_decision_regions(X, y, thetas, p)\n",
    "plt.xlabel('largura da sépala [cm]')\n",
    "plt.ylabel('largura da pétala [cm]')\n",
    "plt.legend(loc='upper left')\n",
    "plt.show()"
   ]
  },
  {
   "cell_type": "code",
   "execution_count": 14,
   "metadata": {},
   "outputs": [
    {
     "data": {
      "image/png": "[encoded data removed]",
      "text/plain": [
       "<Figure size 432x288 with 1 Axes>"
      ]
     },
     "metadata": {
      "needs_background": "light"
     },
     "output_type": "display_data"
    }
   ],
   "source": [
    "# Plotando a curva de custo\n",
    "plt.plot(range(1, len(custos)+1), custos)\n",
    "plt.xlabel('Épocas')\n",
    "plt.ylabel('Custo')\n",
    "plt.show()"
   ]
  }
 ],
 "metadata": {
  "kernelspec": {
   "display_name": "Python 3",
   "language": "python",
   "name": "python3"
  },
  "language_info": {
   "codemirror_mode": {
    "name": "ipython",
    "version": 3
   },
   "file_extension": ".py",
   "mimetype": "text/x-python",
   "name": "python",
   "nbconvert_exporter": "python",
   "pygments_lexer": "ipython3",
   "version": "3.7.3"
  }
 },
 "nbformat": 4,
 "nbformat_minor": 2
}
