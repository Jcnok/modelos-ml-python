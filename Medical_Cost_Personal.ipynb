{
  "nbformat": 4,
  "nbformat_minor": 0,
  "metadata": {
    "colab": {
      "name": "Medical_Cost_Personal.ipynb",
      "provenance": [],
      "collapsed_sections": [
        "Vci7Xu_yxnm_"
      ],
      "toc_visible": true,
      "authorship_tag": "ABX9TyOtzzG/fgd+j8BLGmtYWCop",
      "include_colab_link": true
    },
    "kernelspec": {
      "name": "python3",
      "display_name": "Python 3"
    },
    "language_info": {
      "name": "python"
    }
  },
  "cells": [
    {
      "cell_type": "markdown",
      "metadata": {
        "id": "view-in-github",
        "colab_type": "text"
      },
      "source": [
        "<a href=\"https://colab.research.google.com/github/Jcnok/modelos-ml-python/blob/master/Medical_Cost_Personal.ipynb\" target=\"_parent\"><img src=\"https://colab.research.google.com/assets/colab-badge.svg\" alt=\"Open In Colab\"/></a>"
      ]
    },
    {
      "cell_type": "markdown",
      "metadata": {
        "id": "0QWNtDRMMoSE"
      },
      "source": [
        "# Prevendo os custos de tratamento de pacientes, utilizando a aprendizagem de máquina.\n",
        "\n",
        "![](https://img.rawpixel.com/s3fs-private/rawpixel_images/website_content/rm373batch7-202.jpg?w=800&dpr=1&fit=default&crop=default&q=65&vib=3&con=3&usm=15&bg=F4F4F3&ixlib=js-2.2.1&s=332d84a34167996dd957df1f1c045571)\n",
        "\n",
        " * Hoje vamos explorar um conjunto de dados '[Medical Cost Personal Datasets](https://www.kaggle.com/mirichoi0218/insurance)' fornecido pelo Kaggle. O conjunto possui os dados de custos de tratamento de diferentes pacientes. Apesar do conjunto não dispor de dados sobre o diagnóstico dos pacientes, temos algumas informações que podem nos ajudar a chegar a uma conclusão sobre o estados dos mesmos e tentar prever os custos do seguro com a maior precisão possível.\n",
        " *  Descrição das variáveis:\n",
        "\n",
        "  - **Age**: idade do beneficiário principal.\n",
        "\n",
        "  - **Sex**: sexo do contratante do seguro, feminino, masculino.\n",
        "\n",
        "  - **Bmi**: Índice de massa corporal.\n",
        "\n",
        "  - **Children**: Número de filhos cobertos pelo seguro saúde / Número de dependentes.\n",
        "\n",
        "  - **Smoker**: fumante ou não fumante.\n",
        "\n",
        "  - **Region**: área residencial do beneficiário nos EUA, nordeste, sudeste, sudoeste, noroeste.\n",
        "\n",
        "  - **Charges**: despesas médicas individuais cobradas pelo seguro saúde."
      ]
    },
    {
      "cell_type": "markdown",
      "metadata": {
        "id": "syAuPVbmlvgr"
      },
      "source": [
        "# 1 - Importando as bibliotecas e Carregando o data set para análise!"
      ]
    },
    {
      "cell_type": "code",
      "metadata": {
        "id": "X5wAHcoblmix"
      },
      "source": [
        "#instalação do pacote Lazy para testar vários modelos em uma única vez!\n",
        "#!pip install Lazypredict\n"
      ],
      "execution_count": null,
      "outputs": []
    },
    {
      "cell_type": "code",
      "metadata": {
        "id": "XmqymCb3tgav"
      },
      "source": [
        "#instalação do pacote yellowbrick para visualização gráfica dos erros/acertos dos modelos.\n",
        "#!pip install  yellowbrick"
      ],
      "execution_count": null,
      "outputs": []
    },
    {
      "cell_type": "code",
      "metadata": {
        "id": "zEzzqRFWtzOS"
      },
      "source": [
        "# importando a bibliotera para visualização dos erros\n",
        "#from yellowbrick.regressor import PredictionError\n",
        "#biblioteca para testar vários modelos juntos!\n",
        "#from lazypredict.Supervised import LazyRegressor"
      ],
      "execution_count": null,
      "outputs": []
    },
    {
      "cell_type": "code",
      "metadata": {
        "id": "UJC9Qnl_yAPH"
      },
      "source": [
        "# Carregamento e análise dos dados!\n",
        "import pandas as pd\n",
        "import numpy as np\n",
        "#Bibliotera para análise estatística!\n",
        "#from scipy.stats import norm, boxcox\n",
        "#from scipy import stats\n",
        "\n",
        "# visualização gráfica!\n",
        "import matplotlib.pyplot as plt\n",
        "import seaborn as sns"
      ],
      "execution_count": 1,
      "outputs": []
    },
    {
      "cell_type": "code",
      "metadata": {
        "id": "35GXBd3clc4j"
      },
      "source": [
        "#importe das bibliotecas necessárias para nossa análise.\n",
        "\n",
        "# Carregamento e análise dos dados!\n",
        "import pandas as pd\n",
        "import numpy as np\n",
        "#Bibliotera para análise estatística!\n",
        "#from scipy.stats import norm, boxcox\n",
        "#from scipy import stats\n",
        "\n",
        "# visualização gráfica!\n",
        "import matplotlib.pyplot as plt\n",
        "import seaborn as sns\n",
        "\n",
        "#ML!\n",
        "# Divisão do modelo para treino e teste!\n",
        "from sklearn.model_selection import train_test_split\n",
        "# Modelos para testes individuais!\n",
        "from sklearn.linear_model import LinearRegression\n",
        "from sklearn.neighbors import KNeighborsRegressor\n",
        "from sklearn.tree import DecisionTreeRegressor\n",
        "from sklearn.ensemble import GradientBoostingRegressor\n",
        "from sklearn.preprocessing import LabelEncoder\n",
        "from sklearn.ensemble import RandomForestRegressor\n",
        "#métricas\n",
        "from sklearn.metrics import mean_squared_error\n",
        "from sklearn.metrics import r2_score\n"
      ],
      "execution_count": null,
      "outputs": []
    },
    {
      "cell_type": "code",
      "metadata": {
        "id": "UPSmksgGmBpR"
      },
      "source": [
        "df = pd.read_csv('https://raw.githubusercontent.com/stedy/Machine-Learning-with-R-datasets/master/insurance.csv')"
      ],
      "execution_count": null,
      "outputs": []
    },
    {
      "cell_type": "code",
      "metadata": {
        "colab": {
          "base_uri": "https://localhost:8080/",
          "height": 204
        },
        "id": "lUKF_ZDMmlZ1",
        "outputId": "b917c160-e9dd-42e0-efe4-e50490cf74cf"
      },
      "source": [
        "df.head()"
      ],
      "execution_count": null,
      "outputs": [
        {
          "output_type": "execute_result",
          "data": {
            "text/html": [
              "<div>\n",
              "<style scoped>\n",
              "    .dataframe tbody tr th:only-of-type {\n",
              "        vertical-align: middle;\n",
              "    }\n",
              "\n",
              "    .dataframe tbody tr th {\n",
              "        vertical-align: top;\n",
              "    }\n",
              "\n",
              "    .dataframe thead th {\n",
              "        text-align: right;\n",
              "    }\n",
              "</style>\n",
              "<table border=\"1\" class=\"dataframe\">\n",
              "  <thead>\n",
              "    <tr style=\"text-align: right;\">\n",
              "      <th></th>\n",
              "      <th>age</th>\n",
              "      <th>sex</th>\n",
              "      <th>bmi</th>\n",
              "      <th>children</th>\n",
              "      <th>smoker</th>\n",
              "      <th>region</th>\n",
              "      <th>charges</th>\n",
              "    </tr>\n",
              "  </thead>\n",
              "  <tbody>\n",
              "    <tr>\n",
              "      <th>0</th>\n",
              "      <td>19</td>\n",
              "      <td>female</td>\n",
              "      <td>27.900</td>\n",
              "      <td>0</td>\n",
              "      <td>yes</td>\n",
              "      <td>southwest</td>\n",
              "      <td>16884.92400</td>\n",
              "    </tr>\n",
              "    <tr>\n",
              "      <th>1</th>\n",
              "      <td>18</td>\n",
              "      <td>male</td>\n",
              "      <td>33.770</td>\n",
              "      <td>1</td>\n",
              "      <td>no</td>\n",
              "      <td>southeast</td>\n",
              "      <td>1725.55230</td>\n",
              "    </tr>\n",
              "    <tr>\n",
              "      <th>2</th>\n",
              "      <td>28</td>\n",
              "      <td>male</td>\n",
              "      <td>33.000</td>\n",
              "      <td>3</td>\n",
              "      <td>no</td>\n",
              "      <td>southeast</td>\n",
              "      <td>4449.46200</td>\n",
              "    </tr>\n",
              "    <tr>\n",
              "      <th>3</th>\n",
              "      <td>33</td>\n",
              "      <td>male</td>\n",
              "      <td>22.705</td>\n",
              "      <td>0</td>\n",
              "      <td>no</td>\n",
              "      <td>northwest</td>\n",
              "      <td>21984.47061</td>\n",
              "    </tr>\n",
              "    <tr>\n",
              "      <th>4</th>\n",
              "      <td>32</td>\n",
              "      <td>male</td>\n",
              "      <td>28.880</td>\n",
              "      <td>0</td>\n",
              "      <td>no</td>\n",
              "      <td>northwest</td>\n",
              "      <td>3866.85520</td>\n",
              "    </tr>\n",
              "  </tbody>\n",
              "</table>\n",
              "</div>"
            ],
            "text/plain": [
              "   age     sex     bmi  children smoker     region      charges\n",
              "0   19  female  27.900         0    yes  southwest  16884.92400\n",
              "1   18    male  33.770         1     no  southeast   1725.55230\n",
              "2   28    male  33.000         3     no  southeast   4449.46200\n",
              "3   33    male  22.705         0     no  northwest  21984.47061\n",
              "4   32    male  28.880         0     no  northwest   3866.85520"
            ]
          },
          "metadata": {
            "tags": []
          },
          "execution_count": 3
        }
      ]
    },
    {
      "cell_type": "code",
      "metadata": {
        "colab": {
          "base_uri": "https://localhost:8080/"
        },
        "id": "WR81Ky8KmmgF",
        "outputId": "d2fc8a1e-9292-4899-c268-feb9558bdceb"
      },
      "source": [
        "# verificando o tamanho do meu dataset\n",
        "print('qtd linhas x qtd colunas')\n",
        "df.shape"
      ],
      "execution_count": null,
      "outputs": [
        {
          "output_type": "stream",
          "text": [
            "qtd linhas x qtd colunas\n"
          ],
          "name": "stdout"
        },
        {
          "output_type": "execute_result",
          "data": {
            "text/plain": [
              "(1338, 7)"
            ]
          },
          "metadata": {
            "tags": []
          },
          "execution_count": 4
        }
      ]
    },
    {
      "cell_type": "code",
      "metadata": {
        "colab": {
          "base_uri": "https://localhost:8080/"
        },
        "id": "vfAIIZxGqbab",
        "outputId": "a8f6e773-21b5-4c69-9e49-a203d75bdee5"
      },
      "source": [
        "# visualizando os tipos de variaveis\n",
        "df.info()"
      ],
      "execution_count": null,
      "outputs": [
        {
          "output_type": "stream",
          "text": [
            "<class 'pandas.core.frame.DataFrame'>\n",
            "RangeIndex: 1338 entries, 0 to 1337\n",
            "Data columns (total 7 columns):\n",
            " #   Column    Non-Null Count  Dtype  \n",
            "---  ------    --------------  -----  \n",
            " 0   age       1338 non-null   int64  \n",
            " 1   sex       1338 non-null   object \n",
            " 2   bmi       1338 non-null   float64\n",
            " 3   children  1338 non-null   int64  \n",
            " 4   smoker    1338 non-null   object \n",
            " 5   region    1338 non-null   object \n",
            " 6   charges   1338 non-null   float64\n",
            "dtypes: float64(2), int64(2), object(3)\n",
            "memory usage: 73.3+ KB\n"
          ],
          "name": "stdout"
        }
      ]
    },
    {
      "cell_type": "code",
      "metadata": {
        "colab": {
          "base_uri": "https://localhost:8080/",
          "height": 297
        },
        "id": "8TSRz48DqpuJ",
        "outputId": "a0f1aa5f-d00a-4d8e-edcc-cb99dc563f95"
      },
      "source": [
        "#Descrição dos dados numericos\n",
        "df.describe()"
      ],
      "execution_count": null,
      "outputs": [
        {
          "output_type": "execute_result",
          "data": {
            "text/html": [
              "<div>\n",
              "<style scoped>\n",
              "    .dataframe tbody tr th:only-of-type {\n",
              "        vertical-align: middle;\n",
              "    }\n",
              "\n",
              "    .dataframe tbody tr th {\n",
              "        vertical-align: top;\n",
              "    }\n",
              "\n",
              "    .dataframe thead th {\n",
              "        text-align: right;\n",
              "    }\n",
              "</style>\n",
              "<table border=\"1\" class=\"dataframe\">\n",
              "  <thead>\n",
              "    <tr style=\"text-align: right;\">\n",
              "      <th></th>\n",
              "      <th>age</th>\n",
              "      <th>bmi</th>\n",
              "      <th>children</th>\n",
              "      <th>charges</th>\n",
              "    </tr>\n",
              "  </thead>\n",
              "  <tbody>\n",
              "    <tr>\n",
              "      <th>count</th>\n",
              "      <td>1338.000000</td>\n",
              "      <td>1338.000000</td>\n",
              "      <td>1338.000000</td>\n",
              "      <td>1338.000000</td>\n",
              "    </tr>\n",
              "    <tr>\n",
              "      <th>mean</th>\n",
              "      <td>39.207025</td>\n",
              "      <td>30.663397</td>\n",
              "      <td>1.094918</td>\n",
              "      <td>13270.422265</td>\n",
              "    </tr>\n",
              "    <tr>\n",
              "      <th>std</th>\n",
              "      <td>14.049960</td>\n",
              "      <td>6.098187</td>\n",
              "      <td>1.205493</td>\n",
              "      <td>12110.011237</td>\n",
              "    </tr>\n",
              "    <tr>\n",
              "      <th>min</th>\n",
              "      <td>18.000000</td>\n",
              "      <td>15.960000</td>\n",
              "      <td>0.000000</td>\n",
              "      <td>1121.873900</td>\n",
              "    </tr>\n",
              "    <tr>\n",
              "      <th>25%</th>\n",
              "      <td>27.000000</td>\n",
              "      <td>26.296250</td>\n",
              "      <td>0.000000</td>\n",
              "      <td>4740.287150</td>\n",
              "    </tr>\n",
              "    <tr>\n",
              "      <th>50%</th>\n",
              "      <td>39.000000</td>\n",
              "      <td>30.400000</td>\n",
              "      <td>1.000000</td>\n",
              "      <td>9382.033000</td>\n",
              "    </tr>\n",
              "    <tr>\n",
              "      <th>75%</th>\n",
              "      <td>51.000000</td>\n",
              "      <td>34.693750</td>\n",
              "      <td>2.000000</td>\n",
              "      <td>16639.912515</td>\n",
              "    </tr>\n",
              "    <tr>\n",
              "      <th>max</th>\n",
              "      <td>64.000000</td>\n",
              "      <td>53.130000</td>\n",
              "      <td>5.000000</td>\n",
              "      <td>63770.428010</td>\n",
              "    </tr>\n",
              "  </tbody>\n",
              "</table>\n",
              "</div>"
            ],
            "text/plain": [
              "               age          bmi     children       charges\n",
              "count  1338.000000  1338.000000  1338.000000   1338.000000\n",
              "mean     39.207025    30.663397     1.094918  13270.422265\n",
              "std      14.049960     6.098187     1.205493  12110.011237\n",
              "min      18.000000    15.960000     0.000000   1121.873900\n",
              "25%      27.000000    26.296250     0.000000   4740.287150\n",
              "50%      39.000000    30.400000     1.000000   9382.033000\n",
              "75%      51.000000    34.693750     2.000000  16639.912515\n",
              "max      64.000000    53.130000     5.000000  63770.428010"
            ]
          },
          "metadata": {
            "tags": []
          },
          "execution_count": 6
        }
      ]
    },
    {
      "cell_type": "markdown",
      "metadata": {
        "id": "Vci7Xu_yxnm_"
      },
      "source": [
        "# 2 - Perguntas a serem respondidas pela análise dos dados!"
      ]
    },
    {
      "cell_type": "markdown",
      "metadata": {
        "id": "OFI25e5_rVua"
      },
      "source": [
        "* *1. Quem teve mais despesas? Homem ou Mulher?*"
      ]
    },
    {
      "cell_type": "code",
      "metadata": {
        "colab": {
          "base_uri": "https://localhost:8080/"
        },
        "id": "YAgbh--_s6xH",
        "outputId": "bf47bbeb-9aae-469d-ca0b-119edffa9e8e"
      },
      "source": [
        "df[['sex','charges']].groupby(['sex']).mean()"
      ],
      "execution_count": null,
      "outputs": [
        {
          "output_type": "execute_result",
          "data": {
            "text/html": [
              "<div>\n",
              "<style scoped>\n",
              "    .dataframe tbody tr th:only-of-type {\n",
              "        vertical-align: middle;\n",
              "    }\n",
              "\n",
              "    .dataframe tbody tr th {\n",
              "        vertical-align: top;\n",
              "    }\n",
              "\n",
              "    .dataframe thead th {\n",
              "        text-align: right;\n",
              "    }\n",
              "</style>\n",
              "<table border=\"1\" class=\"dataframe\">\n",
              "  <thead>\n",
              "    <tr style=\"text-align: right;\">\n",
              "      <th></th>\n",
              "      <th>charges</th>\n",
              "    </tr>\n",
              "    <tr>\n",
              "      <th>sex</th>\n",
              "      <th></th>\n",
              "    </tr>\n",
              "  </thead>\n",
              "  <tbody>\n",
              "    <tr>\n",
              "      <th>female</th>\n",
              "      <td>12569.578844</td>\n",
              "    </tr>\n",
              "    <tr>\n",
              "      <th>male</th>\n",
              "      <td>13956.751178</td>\n",
              "    </tr>\n",
              "  </tbody>\n",
              "</table>\n",
              "</div>"
            ],
            "text/plain": [
              "             charges\n",
              "sex                 \n",
              "female  12569.578844\n",
              "male    13956.751178"
            ]
          },
          "metadata": {
            "tags": []
          },
          "execution_count": 7
        }
      ]
    },
    {
      "cell_type": "markdown",
      "metadata": {
        "id": "c-ZvjBMztvQT"
      },
      "source": [
        "R.: Pela média aparentemente o sexo masculino foi quem tem um custo maior. \n",
        "Para confirmar podemos analisar os dados separadamente, com uma análise mais detalhada.\n"
      ]
    },
    {
      "cell_type": "markdown",
      "metadata": {
        "id": "ms-C-DS40IPM"
      },
      "source": [
        "* *2. Informe o maior e o menor custo de ambos os sexos?*"
      ]
    },
    {
      "cell_type": "code",
      "metadata": {
        "colab": {
          "base_uri": "https://localhost:8080/"
        },
        "id": "nFw3E5zJtT9S",
        "outputId": "a7fe78af-f73a-4950-8a66-05fc46cec29e"
      },
      "source": [
        "df[['sex','charges']].groupby(['sex']).describe()"
      ],
      "execution_count": null,
      "outputs": [
        {
          "output_type": "execute_result",
          "data": {
            "text/html": [
              "<div>\n",
              "<style scoped>\n",
              "    .dataframe tbody tr th:only-of-type {\n",
              "        vertical-align: middle;\n",
              "    }\n",
              "\n",
              "    .dataframe tbody tr th {\n",
              "        vertical-align: top;\n",
              "    }\n",
              "\n",
              "    .dataframe thead tr th {\n",
              "        text-align: left;\n",
              "    }\n",
              "\n",
              "    .dataframe thead tr:last-of-type th {\n",
              "        text-align: right;\n",
              "    }\n",
              "</style>\n",
              "<table border=\"1\" class=\"dataframe\">\n",
              "  <thead>\n",
              "    <tr>\n",
              "      <th></th>\n",
              "      <th colspan=\"8\" halign=\"left\">charges</th>\n",
              "    </tr>\n",
              "    <tr>\n",
              "      <th></th>\n",
              "      <th>count</th>\n",
              "      <th>mean</th>\n",
              "      <th>std</th>\n",
              "      <th>min</th>\n",
              "      <th>25%</th>\n",
              "      <th>50%</th>\n",
              "      <th>75%</th>\n",
              "      <th>max</th>\n",
              "    </tr>\n",
              "    <tr>\n",
              "      <th>sex</th>\n",
              "      <th></th>\n",
              "      <th></th>\n",
              "      <th></th>\n",
              "      <th></th>\n",
              "      <th></th>\n",
              "      <th></th>\n",
              "      <th></th>\n",
              "      <th></th>\n",
              "    </tr>\n",
              "  </thead>\n",
              "  <tbody>\n",
              "    <tr>\n",
              "      <th>female</th>\n",
              "      <td>662.0</td>\n",
              "      <td>12569.578844</td>\n",
              "      <td>11128.703801</td>\n",
              "      <td>1607.5101</td>\n",
              "      <td>4885.1587</td>\n",
              "      <td>9412.96250</td>\n",
              "      <td>14454.691825</td>\n",
              "      <td>63770.42801</td>\n",
              "    </tr>\n",
              "    <tr>\n",
              "      <th>male</th>\n",
              "      <td>676.0</td>\n",
              "      <td>13956.751178</td>\n",
              "      <td>12971.025915</td>\n",
              "      <td>1121.8739</td>\n",
              "      <td>4619.1340</td>\n",
              "      <td>9369.61575</td>\n",
              "      <td>18989.590250</td>\n",
              "      <td>62592.87309</td>\n",
              "    </tr>\n",
              "  </tbody>\n",
              "</table>\n",
              "</div>"
            ],
            "text/plain": [
              "       charges                ...                           \n",
              "         count          mean  ...           75%          max\n",
              "sex                           ...                           \n",
              "female   662.0  12569.578844  ...  14454.691825  63770.42801\n",
              "male     676.0  13956.751178  ...  18989.590250  62592.87309\n",
              "\n",
              "[2 rows x 8 columns]"
            ]
          },
          "metadata": {
            "tags": []
          },
          "execution_count": 8
        }
      ]
    },
    {
      "cell_type": "markdown",
      "metadata": {
        "id": "HKL7o-flu0uP"
      },
      "source": [
        "R.: com o método describe, conseguimos responder a pergunta, além de obter mais detalhes para uma melhor confirmação. Já sabemos que os dados estão bem divididos entre os sexos e que tanto o custo minimo quanto o máximo são mais elevados para as mulheres. O desvio padrão para as mulheres é menor, o que indica uma menor variabilidade. Outro dado interessante é que até o segundo quartil(50%) as mulheres tem um custo maior que os homens."
      ]
    },
    {
      "cell_type": "markdown",
      "metadata": {
        "id": "lJKFpAVj0kcw"
      },
      "source": [
        "* *3. Existem dados nulos ou em  branco no Dataset??*"
      ]
    },
    {
      "cell_type": "code",
      "metadata": {
        "colab": {
          "base_uri": "https://localhost:8080/"
        },
        "id": "_Vx1Xk5Zy61f",
        "outputId": "c7fe854d-d1fa-49a3-f7e1-636e16067f21"
      },
      "source": [
        "df.isna().sum()"
      ],
      "execution_count": null,
      "outputs": [
        {
          "output_type": "execute_result",
          "data": {
            "text/plain": [
              "age         0\n",
              "sex         0\n",
              "bmi         0\n",
              "children    0\n",
              "smoker      0\n",
              "region      0\n",
              "charges     0\n",
              "dtype: int64"
            ]
          },
          "metadata": {
            "tags": []
          },
          "execution_count": 9
        }
      ]
    },
    {
      "cell_type": "markdown",
      "metadata": {
        "id": "hTFVvz0Xz6RT"
      },
      "source": [
        "R.: De acordo com a consulta não existem dados nulos no Dataset."
      ]
    },
    {
      "cell_type": "markdown",
      "metadata": {
        "id": "30qk4II357Aj"
      },
      "source": [
        "* *4. Existe alguma influência com realação ao fumantes e não fumantes?*\n"
      ]
    },
    {
      "cell_type": "code",
      "metadata": {
        "colab": {
          "base_uri": "https://localhost:8080/"
        },
        "id": "rPUYi95a6J0-",
        "outputId": "a53713b1-7ea3-4d18-9b77-ee6676743cf6"
      },
      "source": [
        "df[['smoker', 'charges']].groupby(['smoker']).mean()"
      ],
      "execution_count": null,
      "outputs": [
        {
          "output_type": "execute_result",
          "data": {
            "text/html": [
              "<div>\n",
              "<style scoped>\n",
              "    .dataframe tbody tr th:only-of-type {\n",
              "        vertical-align: middle;\n",
              "    }\n",
              "\n",
              "    .dataframe tbody tr th {\n",
              "        vertical-align: top;\n",
              "    }\n",
              "\n",
              "    .dataframe thead th {\n",
              "        text-align: right;\n",
              "    }\n",
              "</style>\n",
              "<table border=\"1\" class=\"dataframe\">\n",
              "  <thead>\n",
              "    <tr style=\"text-align: right;\">\n",
              "      <th></th>\n",
              "      <th>charges</th>\n",
              "    </tr>\n",
              "    <tr>\n",
              "      <th>smoker</th>\n",
              "      <th></th>\n",
              "    </tr>\n",
              "  </thead>\n",
              "  <tbody>\n",
              "    <tr>\n",
              "      <th>no</th>\n",
              "      <td>8434.268298</td>\n",
              "    </tr>\n",
              "    <tr>\n",
              "      <th>yes</th>\n",
              "      <td>32050.231832</td>\n",
              "    </tr>\n",
              "  </tbody>\n",
              "</table>\n",
              "</div>"
            ],
            "text/plain": [
              "             charges\n",
              "smoker              \n",
              "no       8434.268298\n",
              "yes     32050.231832"
            ]
          },
          "metadata": {
            "tags": []
          },
          "execution_count": 10
        }
      ]
    },
    {
      "cell_type": "code",
      "metadata": {
        "colab": {
          "base_uri": "https://localhost:8080/"
        },
        "id": "5ODe1wMM6WcH",
        "outputId": "352c1503-3f8d-4c2e-846d-fad72671cf56"
      },
      "source": [
        "df[['smoker', 'charges']].groupby(['smoker']).describe()"
      ],
      "execution_count": null,
      "outputs": [
        {
          "output_type": "execute_result",
          "data": {
            "text/html": [
              "<div>\n",
              "<style scoped>\n",
              "    .dataframe tbody tr th:only-of-type {\n",
              "        vertical-align: middle;\n",
              "    }\n",
              "\n",
              "    .dataframe tbody tr th {\n",
              "        vertical-align: top;\n",
              "    }\n",
              "\n",
              "    .dataframe thead tr th {\n",
              "        text-align: left;\n",
              "    }\n",
              "\n",
              "    .dataframe thead tr:last-of-type th {\n",
              "        text-align: right;\n",
              "    }\n",
              "</style>\n",
              "<table border=\"1\" class=\"dataframe\">\n",
              "  <thead>\n",
              "    <tr>\n",
              "      <th></th>\n",
              "      <th colspan=\"8\" halign=\"left\">charges</th>\n",
              "    </tr>\n",
              "    <tr>\n",
              "      <th></th>\n",
              "      <th>count</th>\n",
              "      <th>mean</th>\n",
              "      <th>std</th>\n",
              "      <th>min</th>\n",
              "      <th>25%</th>\n",
              "      <th>50%</th>\n",
              "      <th>75%</th>\n",
              "      <th>max</th>\n",
              "    </tr>\n",
              "    <tr>\n",
              "      <th>smoker</th>\n",
              "      <th></th>\n",
              "      <th></th>\n",
              "      <th></th>\n",
              "      <th></th>\n",
              "      <th></th>\n",
              "      <th></th>\n",
              "      <th></th>\n",
              "      <th></th>\n",
              "    </tr>\n",
              "  </thead>\n",
              "  <tbody>\n",
              "    <tr>\n",
              "      <th>no</th>\n",
              "      <td>1064.0</td>\n",
              "      <td>8434.268298</td>\n",
              "      <td>5993.781819</td>\n",
              "      <td>1121.8739</td>\n",
              "      <td>3986.438700</td>\n",
              "      <td>7345.40530</td>\n",
              "      <td>11362.887050</td>\n",
              "      <td>36910.60803</td>\n",
              "    </tr>\n",
              "    <tr>\n",
              "      <th>yes</th>\n",
              "      <td>274.0</td>\n",
              "      <td>32050.231832</td>\n",
              "      <td>11541.547176</td>\n",
              "      <td>12829.4551</td>\n",
              "      <td>20826.244213</td>\n",
              "      <td>34456.34845</td>\n",
              "      <td>41019.207275</td>\n",
              "      <td>63770.42801</td>\n",
              "    </tr>\n",
              "  </tbody>\n",
              "</table>\n",
              "</div>"
            ],
            "text/plain": [
              "       charges                ...                           \n",
              "         count          mean  ...           75%          max\n",
              "smoker                        ...                           \n",
              "no      1064.0   8434.268298  ...  11362.887050  36910.60803\n",
              "yes      274.0  32050.231832  ...  41019.207275  63770.42801\n",
              "\n",
              "[2 rows x 8 columns]"
            ]
          },
          "metadata": {
            "tags": []
          },
          "execution_count": 11
        }
      ]
    },
    {
      "cell_type": "markdown",
      "metadata": {
        "id": "2JHYMhBP62Tw"
      },
      "source": [
        "R.: Existe uma forte influência em relação aos fumantes. Podemos perceber que apesar dos fumantes representarem apenas cerca de 20% dos dados eles tem um custo 3,8 vezes a mais do que os 80% dos não fumantes. Resultado bem expressivo."
      ]
    },
    {
      "cell_type": "markdown",
      "metadata": {
        "id": "s-0UGKf3_nN_"
      },
      "source": [
        "# 3 -  Visualização e análise gráfica!.\n"
      ]
    },
    {
      "cell_type": "markdown",
      "metadata": {
        "id": "VP1QQcmaz2q6"
      },
      "source": [
        "* Verifique correlação entre as variáveis!"
      ]
    },
    {
      "cell_type": "code",
      "metadata": {
        "colab": {
          "base_uri": "https://localhost:8080/"
        },
        "id": "87M8neipy3oD",
        "outputId": "c12845e1-86b4-4d01-be60-c7f2cc8210a9"
      },
      "source": [
        "sns.heatmap(df.corr(), annot=True, cmap=\"Blues\")\n"
      ],
      "execution_count": null,
      "outputs": [
        {
          "output_type": "execute_result",
          "data": {
            "text/plain": [
              "<matplotlib.axes._subplots.AxesSubplot at 0x7f9fa2a792d0>"
            ]
          },
          "metadata": {
            "tags": []
          },
          "execution_count": 12
        },
        {
          "output_type": "display_data",
          "data": {
            "image/png": "[encoded data removed]",
            "text/plain": [
              "<Figure size 432x288 with 2 Axes>"
            ]
          },
          "metadata": {
            "tags": [],
            "needs_background": "light"
          }
        }
      ]
    },
    {
      "cell_type": "markdown",
      "metadata": {
        "id": "g9d-bpy8z7kI"
      },
      "source": [
        "R.: Apesar do gráfico no mostrar uma correlação baixa entre as variáveis, não podemos descartar uma análise mais profunda e detalhada sobre cada uma das variáveis. Inclusive aqui ainda não transformamos as variáveis['região', 'sex', 'smoker']."
      ]
    },
    {
      "cell_type": "markdown",
      "metadata": {
        "id": "BlNVUbAx0lzx"
      },
      "source": [
        "* Demonstre a relação entre idade('age') e taxas('charges') separadas por fumante e não fumantes. "
      ]
    },
    {
      "cell_type": "code",
      "metadata": {
        "colab": {
          "base_uri": "https://localhost:8080/"
        },
        "id": "HiOq-YnS0j4H",
        "outputId": "7c2f60dd-45a3-4373-ec2f-87ee1f3e633f"
      },
      "source": [
        "#gráfico de relação entre as variáveis: 'age' vs 'charges', separadas pela variável 'smoker'.\n",
        "sns.relplot(x=\"age\", y=\"charges\", hue=\"smoker\", data=df);\n"
      ],
      "execution_count": null,
      "outputs": [
        {
          "output_type": "display_data",
          "data": {
            "image/png": "[encoded data removed]",
            "text/plain": [
              "<Figure size 413.25x360 with 1 Axes>"
            ]
          },
          "metadata": {
            "tags": [],
            "needs_background": "light"
          }
        }
      ]
    },
    {
      "cell_type": "markdown",
      "metadata": {
        "id": "NNfZLrLSPxIa"
      },
      "source": [
        "R. O gráfico confirma que, com o passar dos anos as despesas médicas tendem a aumentar tanto para os fumantes quanto para os não fumantes, claro de acordo com suas respectivas proporções, é nítido que os fumantes tem um custo expressivamente maior nesse conjunto."
      ]
    },
    {
      "cell_type": "markdown",
      "metadata": {
        "id": "1LrGFd_R602h"
      },
      "source": [
        "* Demonstre a relação entre as variáveis 'BMI' e 'Charges' separado por fumantes e não fumantes."
      ]
    },
    {
      "cell_type": "code",
      "metadata": {
        "colab": {
          "base_uri": "https://localhost:8080/"
        },
        "id": "UXxThfV71yKZ",
        "outputId": "86411acb-9eb5-4963-bd36-8c7d56240c91"
      },
      "source": [
        "#gráfico de relação entre as variáveis: 'bmi' vs 'charges', separadas pela variável 'smoker'.\n",
        "sns.relplot(x=\"bmi\", y=\"charges\", hue=\"smoker\", data=df);\n"
      ],
      "execution_count": null,
      "outputs": [
        {
          "output_type": "display_data",
          "data": {
            "image/png": "[encoded data removed]",
            "text/plain": [
              "<Figure size 413.25x360 with 1 Axes>"
            ]
          },
          "metadata": {
            "tags": [],
            "needs_background": "light"
          }
        }
      ]
    },
    {
      "cell_type": "markdown",
      "metadata": {
        "id": "ib0KFDUbMPGy"
      },
      "source": [
        "R.:  - Conforme a tabela abaixo, pode-se dizer que, nesse conjunto de dados, para os não fumantes, a relação 'bmi' vs 'charges' não é muito evidente, ou seja, pessoas obesas não tendem a ter um custo maior do que os não obesos, isso gera um pouco de dúvidas, pois acredito que deveria haver uma relação ascendente. Fica a disposição um estudo mais detalhado sobre esse fator para uma melhor confirmação. Já para os fumantes fica bem claro que, quanto maior o peso maior as despesas médicas.\n",
        "\n",
        "\n",
        "**---Resultado\tSituação---**\n",
        "\n",
        "* Abaixo de 17\tMuito abaixo do peso\n",
        "* Entre 17 e 18,49\tAbaixo do peso\n",
        "* Entre 18,50 e 24,99\tPeso normal\n",
        "* Entre 25 e 29,99\tAcima do peso\n",
        "* Entre 30 e 34,99\tObesidade I\n",
        "* Entre 35 e 39,99\tObesidade II (severa)\n",
        "* Acima de 40\tObesidade III (mórbida)\n",
        "\n",
        "obs: os dados foram obtidos do site: [wikipedia](https://pt.wikipedia.org/wiki/%C3%8Dndice_de_massa_corporal)\n",
        "\n",
        "\n",
        "\n",
        "\n",
        "\n"
      ]
    },
    {
      "cell_type": "markdown",
      "metadata": {
        "id": "T023lshX8cLI"
      },
      "source": [
        "* Demonstre, se existe alguma relação entre as variáveis 'children' e 'charges'."
      ]
    },
    {
      "cell_type": "code",
      "metadata": {
        "colab": {
          "base_uri": "https://localhost:8080/"
        },
        "id": "wXn2jnoy1yNl",
        "outputId": "4703e624-4891-4aca-aad4-ec17b811558f"
      },
      "source": [
        "#gráfico de relação entre as variáveis: 'children' vs 'charges'.\n",
        "\n",
        "sns.relplot(x=\"children\", y=\"charges\", data=df);\n"
      ],
      "execution_count": null,
      "outputs": [
        {
          "output_type": "display_data",
          "data": {
            "image/png": "[encoded data removed]",
            "text/plain": [
              "<Figure size 360x360 with 1 Axes>"
            ]
          },
          "metadata": {
            "tags": [],
            "needs_background": "light"
          }
        }
      ]
    },
    {
      "cell_type": "markdown",
      "metadata": {
        "id": "0YqxOtmtKmCM"
      },
      "source": [
        "R.: Aqui podemos ver que os titulares que não possuem filhos inclusos, tendem a gastar mais do que os que possuem. Para os que possuem de 4 a 5 filhos, os custos caem de forma mais expressiva.\n"
      ]
    },
    {
      "cell_type": "markdown",
      "metadata": {
        "id": "gcf6QaL28_gj"
      },
      "source": [
        "* Faça um gráfico que demonstre os gastos entre fumantes e não fumantes."
      ]
    },
    {
      "cell_type": "code",
      "metadata": {
        "colab": {
          "base_uri": "https://localhost:8080/"
        },
        "id": "pPrjtiXV2Uul",
        "outputId": "4a4be338-50e1-44b2-dc16-58f955fd4164"
      },
      "source": [
        "#gráfico de barras entre as variáveis: 'smoker' vs 'charges', separadas pela variável 'smoker'.\n",
        "sns.barplot(x=\"smoker\", y=\"charges\", hue=\"smoker\", data=df);\n"
      ],
      "execution_count": null,
      "outputs": [
        {
          "output_type": "display_data",
          "data": {
            "image/png": "[encoded data removed]",
            "text/plain": [
              "<Figure size 432x288 with 1 Axes>"
            ]
          },
          "metadata": {
            "tags": [],
            "needs_background": "light"
          }
        }
      ]
    },
    {
      "cell_type": "markdown",
      "metadata": {
        "id": "Orq1sXamJUw7"
      },
      "source": [
        "R.: O gráfico de relação entre as variáveis 'charges' vs 'smoker' confirma que os fumantes geram um custo expressivamente maior do que os não fumantes."
      ]
    },
    {
      "cell_type": "markdown",
      "metadata": {
        "id": "p5x2Y2Qy94Om"
      },
      "source": [
        "* Como estão divididos o conjunto de dados entre homens e mulheres? Exiba um gráfico para a comparação."
      ]
    },
    {
      "cell_type": "code",
      "metadata": {
        "colab": {
          "base_uri": "https://localhost:8080/"
        },
        "id": "IxIW7qD23jfu",
        "outputId": "a669eee7-6c58-4cc3-dcf0-db62301e1f14"
      },
      "source": [
        "#Gráfica de barras da variável 'sex'.\n",
        "sns.catplot(x=\"sex\", kind=\"count\", palette=\"Set2\", data=df);\n"
      ],
      "execution_count": null,
      "outputs": [
        {
          "output_type": "display_data",
          "data": {
            "image/png": "[encoded data removed]",
            "text/plain": [
              "<Figure size 360x360 with 1 Axes>"
            ]
          },
          "metadata": {
            "tags": [],
            "needs_background": "light"
          }
        }
      ]
    },
    {
      "cell_type": "markdown",
      "metadata": {
        "id": "7Af8WIE9H8rT"
      },
      "source": [
        "R.: Nosso conjunto está bem dividido entre homens e mulheres."
      ]
    },
    {
      "cell_type": "markdown",
      "metadata": {
        "id": "rngBxz1k-cKo"
      },
      "source": [
        "* Faça um gráfico dos custos separado pelo sexo. Quem está gerando um maior custo?"
      ]
    },
    {
      "cell_type": "code",
      "metadata": {
        "colab": {
          "base_uri": "https://localhost:8080/"
        },
        "id": "q20GNtTW2Wu3",
        "outputId": "c79c8e5f-671c-4424-d9a4-4310c620fec9"
      },
      "source": [
        "#Gráfico de barras entre as variáveis 'sex' vs 'charges'.\n",
        "sns.barplot(x=\"sex\", y=\"charges\", data=df)\n"
      ],
      "execution_count": null,
      "outputs": [
        {
          "output_type": "execute_result",
          "data": {
            "text/plain": [
              "<matplotlib.axes._subplots.AxesSubplot at 0x7f9f9a4aa950>"
            ]
          },
          "metadata": {
            "tags": []
          },
          "execution_count": 18
        },
        {
          "output_type": "display_data",
          "data": {
            "image/png": "[encoded data removed]",
            "text/plain": [
              "<Figure size 432x288 with 1 Axes>"
            ]
          },
          "metadata": {
            "tags": [],
            "needs_background": "light"
          }
        }
      ]
    },
    {
      "cell_type": "markdown",
      "metadata": {
        "id": "wNHXK2wBIIjs"
      },
      "source": [
        "R.:  Opa um pouco estranho não? Os homens geram mais despesas do que as mulheres?. Sempre ouvi dizer que as mulheres se cuidam mais que os homens, consequentemente as mulheres não deveriam ter um custo maior já que o conjunto está bem balanceado entre homens e mulheres?"
      ]
    },
    {
      "cell_type": "markdown",
      "metadata": {
        "id": "RLl9EvSJ_IyL"
      },
      "source": [
        "* Já que os homens geram um custo médico maior. Faça um gráfico que exiba a quantidade de fumantes e não fumantes separado por sexo."
      ]
    },
    {
      "cell_type": "code",
      "metadata": {
        "colab": {
          "base_uri": "https://localhost:8080/"
        },
        "id": "GA-35SnR9YT2",
        "outputId": "c15d3e2d-e364-4dfa-c4e1-eeee87949039"
      },
      "source": [
        "#Gráfico de barras 'smoker' separado por 'sex'.\n",
        "sns.catplot(y=\"smoker\", kind=\"count\", palette=\"Set1\", hue=\"sex\", data=df);\n"
      ],
      "execution_count": null,
      "outputs": [
        {
          "output_type": "display_data",
          "data": {
            "image/png": "[encoded data removed]",
            "text/plain": [
              "<Figure size 430.5x360 with 1 Axes>"
            ]
          },
          "metadata": {
            "tags": [],
            "needs_background": "light"
          }
        }
      ]
    },
    {
      "cell_type": "markdown",
      "metadata": {
        "id": "zAvP_JXWHoH8"
      },
      "source": [
        "R.:  Nesse consjunto as mulheres fumam menos que os homens, acredito que isso possa explicar porque os homens tem uma média de gastos maior do que as mulheres, já que existe um aumento de custo bem expressivo para os fumantes!"
      ]
    },
    {
      "cell_type": "markdown",
      "metadata": {
        "id": "EP9WMYSmCkF5"
      },
      "source": [
        "* Para confirmação podemos verificar a média dos custos dos fumantes e não fumantes separado pelos sexo."
      ]
    },
    {
      "cell_type": "code",
      "metadata": {
        "colab": {
          "base_uri": "https://localhost:8080/"
        },
        "id": "O33X8ELaCU6k",
        "outputId": "6c326d64-e0f7-4bf4-cbc1-6bef18a648c4"
      },
      "source": [
        "df[['sex','smoker','charges']].groupby(['smoker','sex'], as_index= False).mean().sort_values('charges', ascending= False).style.background_gradient('Blues')"
      ],
      "execution_count": null,
      "outputs": [
        {
          "output_type": "execute_result",
          "data": {
            "text/html": [
              "<style  type=\"text/css\" >\n",
              "#T_7b38b84c_c8aa_11eb_9de4_0242ac1c0002row0_col2{\n",
              "            background-color:  #08306b;\n",
              "            color:  #f1f1f1;\n",
              "        }#T_7b38b84c_c8aa_11eb_9de4_0242ac1c0002row1_col2{\n",
              "            background-color:  #084990;\n",
              "            color:  #f1f1f1;\n",
              "        }#T_7b38b84c_c8aa_11eb_9de4_0242ac1c0002row2_col2{\n",
              "            background-color:  #f2f8fd;\n",
              "            color:  #000000;\n",
              "        }#T_7b38b84c_c8aa_11eb_9de4_0242ac1c0002row3_col2{\n",
              "            background-color:  #f7fbff;\n",
              "            color:  #000000;\n",
              "        }</style><table id=\"T_7b38b84c_c8aa_11eb_9de4_0242ac1c0002\" ><thead>    <tr>        <th class=\"blank level0\" ></th>        <th class=\"col_heading level0 col0\" >smoker</th>        <th class=\"col_heading level0 col1\" >sex</th>        <th class=\"col_heading level0 col2\" >charges</th>    </tr></thead><tbody>\n",
              "                <tr>\n",
              "                        <th id=\"T_7b38b84c_c8aa_11eb_9de4_0242ac1c0002level0_row0\" class=\"row_heading level0 row0\" >3</th>\n",
              "                        <td id=\"T_7b38b84c_c8aa_11eb_9de4_0242ac1c0002row0_col0\" class=\"data row0 col0\" >yes</td>\n",
              "                        <td id=\"T_7b38b84c_c8aa_11eb_9de4_0242ac1c0002row0_col1\" class=\"data row0 col1\" >male</td>\n",
              "                        <td id=\"T_7b38b84c_c8aa_11eb_9de4_0242ac1c0002row0_col2\" class=\"data row0 col2\" >33042.005975</td>\n",
              "            </tr>\n",
              "            <tr>\n",
              "                        <th id=\"T_7b38b84c_c8aa_11eb_9de4_0242ac1c0002level0_row1\" class=\"row_heading level0 row1\" >2</th>\n",
              "                        <td id=\"T_7b38b84c_c8aa_11eb_9de4_0242ac1c0002row1_col0\" class=\"data row1 col0\" >yes</td>\n",
              "                        <td id=\"T_7b38b84c_c8aa_11eb_9de4_0242ac1c0002row1_col1\" class=\"data row1 col1\" >female</td>\n",
              "                        <td id=\"T_7b38b84c_c8aa_11eb_9de4_0242ac1c0002row1_col2\" class=\"data row1 col2\" >30678.996276</td>\n",
              "            </tr>\n",
              "            <tr>\n",
              "                        <th id=\"T_7b38b84c_c8aa_11eb_9de4_0242ac1c0002level0_row2\" class=\"row_heading level0 row2\" >0</th>\n",
              "                        <td id=\"T_7b38b84c_c8aa_11eb_9de4_0242ac1c0002row2_col0\" class=\"data row2 col0\" >no</td>\n",
              "                        <td id=\"T_7b38b84c_c8aa_11eb_9de4_0242ac1c0002row2_col1\" class=\"data row2 col1\" >female</td>\n",
              "                        <td id=\"T_7b38b84c_c8aa_11eb_9de4_0242ac1c0002row2_col2\" class=\"data row2 col2\" >8762.297300</td>\n",
              "            </tr>\n",
              "            <tr>\n",
              "                        <th id=\"T_7b38b84c_c8aa_11eb_9de4_0242ac1c0002level0_row3\" class=\"row_heading level0 row3\" >1</th>\n",
              "                        <td id=\"T_7b38b84c_c8aa_11eb_9de4_0242ac1c0002row3_col0\" class=\"data row3 col0\" >no</td>\n",
              "                        <td id=\"T_7b38b84c_c8aa_11eb_9de4_0242ac1c0002row3_col1\" class=\"data row3 col1\" >male</td>\n",
              "                        <td id=\"T_7b38b84c_c8aa_11eb_9de4_0242ac1c0002row3_col2\" class=\"data row3 col2\" >8087.204731</td>\n",
              "            </tr>\n",
              "    </tbody></table>"
            ],
            "text/plain": [
              "<pandas.io.formats.style.Styler at 0x7f9f9a46dc50>"
            ]
          },
          "metadata": {
            "tags": []
          },
          "execution_count": 20
        }
      ]
    },
    {
      "cell_type": "markdown",
      "metadata": {
        "id": "IWgf3RrgEuYO"
      },
      "source": [
        "R.: Dessa forma conseguimos concluir que na verdade, dentro do grupo de não fumantes que repesentam cerca de 80% de todo o conjunto, as mulheres tem um custo maior. Acredito eu, que nada mais justo, visto que de uma maneira geral as mulheres tendem a se preocupar mais com a saúde do que os homens. Já os fumantes, certa de 20% do nosso conjunto, apesar de um resultado expressivo em ambos os sexos os homens tem um custo maior, porém vale lembrar que proporcionalmente nesse conjunto existem mais fumantes homens do que mulheres.\n",
        "* Outro ponto muito importante é que os custos são muito mais elevados para os fumantes independente do sexo, ou seja, o que leva a um aumento expressivo nos gastos, está mais relacionado a ser fumante ou não ser fumante. "
      ]
    },
    {
      "cell_type": "markdown",
      "metadata": {
        "id": "1oF4Aou4CUXZ"
      },
      "source": [
        "# 4 - Nesse momento, surgiram novas dúvidas, vamos tentar descobrir a resposta!"
      ]
    },
    {
      "cell_type": "markdown",
      "metadata": {
        "id": "HkNhaHDF0wa5"
      },
      "source": [
        "Até o momento não estudamos a variável region, vamos dar uma olhada nessa variável e tentar descobrir se a região impacta nos custos.\n",
        "Neste momento, agora que já comecei a me acostumar e entender melhor o conjunto de dados, achei melhor elaborar algumas perguntas mais especificas e me aprofundar mais no assunto, para tal vou dividir o questionário por variáveis acho que se encaixa melhor no entendimento do conjunto, mãos a obra.\n",
        "\n",
        "1. Primeiro vamos análisar o peso dos paciêntes do conjunto:\n",
        "* O peso impacta nas despesas médicas?\n",
        "* Categorizar o variável BMI? ex: Magro, Normal, Obeso e comparar com os custos!\n",
        "* Será que Obesos fumantes gastam mais? Qual a média dos gastos? Pois acredito que devam ter mais problemas de saúde!\n",
        "\n",
        "2. Vamos análisar a idade dos pacientes:\n",
        "* Separar as idades por faixa etária?\n",
        "* Existe alguma relação entre peso e idade? ex: será que na vida adulta, com o passar dos anos, as pessoas tendem a aumentar de peso? Acho que sim né? Pelo menos comigo foi assim, depois dos 30 não parei de ganhar peso rs....\n",
        "* Confirmar se com o passar dos anos as despesas médicas aumentam (para fumantes e não fumantes).\n",
        "\n",
        "3. Vamos analisar a variável Região e tentar extrair algumas informações:\n",
        "* Existe alguma diferença de custo dependendo da localização geográfica? Estou curioso!\n",
        "* Comparar idade vx smoker por região. Acredito que se houver diferença nos gastos por região, essa comparação mostrará o motivo.\n",
        "* Qual das regiões as pessoas possuem mais filhos? Seria interessante se nesse consjunto tivesse a classe social....\n",
        "\n",
        "\n",
        "Bom acho que podemos começar.....\n"
      ]
    },
    {
      "cell_type": "markdown",
      "metadata": {
        "id": "WfsKDto2E2b_"
      },
      "source": [
        "* 1 -  Análise da variável BMI:\n"
      ]
    },
    {
      "cell_type": "markdown",
      "metadata": {
        "id": "BVLoagmCFEgd"
      },
      "source": [
        "* Separar a variável por categoria, conforme a tabela abaixo vamos categorizar os dados.\n",
        "\n",
        "  **---Resultado\tSituação---**\n",
        "\n",
        "  * Abaixo de 17\tMuito abaixo do peso\n",
        "  * Entre 17 e 18,49\tAbaixo do peso\n",
        "  * Entre 18,50 e 24,99\tPeso normal\n",
        "  * Entre 25 e 29,99\tAcima do peso\n",
        "  * Entre 30 e 34,99\tObesidade I\n",
        "  * Entre 35 e 39,99\tObesidade II (severa)\n",
        "  * Acima de 40\tObesidade III (mórbida)\n",
        "\n",
        "obs: os dados foram obtidos do site: [wikipedia](https://pt.wikipedia.org/wiki/%C3%8Dndice_de_massa_corporal)\n"
      ]
    },
    {
      "cell_type": "code",
      "metadata": {
        "colab": {
          "base_uri": "https://localhost:8080/"
        },
        "id": "2flhINZfFAuy",
        "outputId": "d1430b07-3799-4f6a-c58a-f656f33ac27e"
      },
      "source": [
        "#Análise a variável BMI\n",
        "df.bmi.describe()"
      ],
      "execution_count": null,
      "outputs": [
        {
          "output_type": "execute_result",
          "data": {
            "text/plain": [
              "count    1338.000000\n",
              "mean       30.663397\n",
              "std         6.098187\n",
              "min        15.960000\n",
              "25%        26.296250\n",
              "50%        30.400000\n",
              "75%        34.693750\n",
              "max        53.130000\n",
              "Name: bmi, dtype: float64"
            ]
          },
          "metadata": {
            "tags": []
          },
          "execution_count": 21
        }
      ]
    },
    {
      "cell_type": "code",
      "metadata": {
        "colab": {
          "base_uri": "https://localhost:8080/"
        },
        "id": "mQ7_Z4wfGSRi",
        "outputId": "b36d1782-5f1f-4c92-fda1-79dcfabeea82"
      },
      "source": [
        "# Categorizando a var 'bmi' de acordo com a tabela acima.\n",
        "lista = [df]\n",
        "\n",
        "for i in lista:\n",
        "  i.loc[i['bmi'] <=  18.49, 'Peso'] = 'Magro'\n",
        "  i.loc[(i['bmi'] > 18.49) & (i['bmi'] <= 24.99), 'Peso'] = 'Normal'\n",
        "  i.loc[(i['bmi'] > 24.99) & (i['bmi'] <= 29.99), 'Peso'] = 'Sobrepeso'\n",
        "  i.loc[(i['bmi'] > 29.99), 'Peso'] = 'Obeso'\n",
        "df.head()"
      ],
      "execution_count": null,
      "outputs": [
        {
          "output_type": "execute_result",
          "data": {
            "text/html": [
              "<div>\n",
              "<style scoped>\n",
              "    .dataframe tbody tr th:only-of-type {\n",
              "        vertical-align: middle;\n",
              "    }\n",
              "\n",
              "    .dataframe tbody tr th {\n",
              "        vertical-align: top;\n",
              "    }\n",
              "\n",
              "    .dataframe thead th {\n",
              "        text-align: right;\n",
              "    }\n",
              "</style>\n",
              "<table border=\"1\" class=\"dataframe\">\n",
              "  <thead>\n",
              "    <tr style=\"text-align: right;\">\n",
              "      <th></th>\n",
              "      <th>age</th>\n",
              "      <th>sex</th>\n",
              "      <th>bmi</th>\n",
              "      <th>children</th>\n",
              "      <th>smoker</th>\n",
              "      <th>region</th>\n",
              "      <th>charges</th>\n",
              "      <th>Peso</th>\n",
              "    </tr>\n",
              "  </thead>\n",
              "  <tbody>\n",
              "    <tr>\n",
              "      <th>0</th>\n",
              "      <td>19</td>\n",
              "      <td>female</td>\n",
              "      <td>27.900</td>\n",
              "      <td>0</td>\n",
              "      <td>yes</td>\n",
              "      <td>southwest</td>\n",
              "      <td>16884.92400</td>\n",
              "      <td>Sobrepeso</td>\n",
              "    </tr>\n",
              "    <tr>\n",
              "      <th>1</th>\n",
              "      <td>18</td>\n",
              "      <td>male</td>\n",
              "      <td>33.770</td>\n",
              "      <td>1</td>\n",
              "      <td>no</td>\n",
              "      <td>southeast</td>\n",
              "      <td>1725.55230</td>\n",
              "      <td>Obeso</td>\n",
              "    </tr>\n",
              "    <tr>\n",
              "      <th>2</th>\n",
              "      <td>28</td>\n",
              "      <td>male</td>\n",
              "      <td>33.000</td>\n",
              "      <td>3</td>\n",
              "      <td>no</td>\n",
              "      <td>southeast</td>\n",
              "      <td>4449.46200</td>\n",
              "      <td>Obeso</td>\n",
              "    </tr>\n",
              "    <tr>\n",
              "      <th>3</th>\n",
              "      <td>33</td>\n",
              "      <td>male</td>\n",
              "      <td>22.705</td>\n",
              "      <td>0</td>\n",
              "      <td>no</td>\n",
              "      <td>northwest</td>\n",
              "      <td>21984.47061</td>\n",
              "      <td>Normal</td>\n",
              "    </tr>\n",
              "    <tr>\n",
              "      <th>4</th>\n",
              "      <td>32</td>\n",
              "      <td>male</td>\n",
              "      <td>28.880</td>\n",
              "      <td>0</td>\n",
              "      <td>no</td>\n",
              "      <td>northwest</td>\n",
              "      <td>3866.85520</td>\n",
              "      <td>Sobrepeso</td>\n",
              "    </tr>\n",
              "  </tbody>\n",
              "</table>\n",
              "</div>"
            ],
            "text/plain": [
              "   age     sex     bmi  children smoker     region      charges       Peso\n",
              "0   19  female  27.900         0    yes  southwest  16884.92400  Sobrepeso\n",
              "1   18    male  33.770         1     no  southeast   1725.55230      Obeso\n",
              "2   28    male  33.000         3     no  southeast   4449.46200      Obeso\n",
              "3   33    male  22.705         0     no  northwest  21984.47061     Normal\n",
              "4   32    male  28.880         0     no  northwest   3866.85520  Sobrepeso"
            ]
          },
          "metadata": {
            "tags": []
          },
          "execution_count": 22
        }
      ]
    },
    {
      "cell_type": "markdown",
      "metadata": {
        "id": "hESnopQbJIT3"
      },
      "source": [
        "* Gráfico de pizza em porcetagem da variável peso."
      ]
    },
    {
      "cell_type": "code",
      "metadata": {
        "colab": {
          "base_uri": "https://localhost:8080/"
        },
        "id": "WwX0ce6wO5VI",
        "outputId": "e9843c95-2b02-4720-d83e-e54374ce0d86"
      },
      "source": [
        "pesos = df.Peso.value_counts().values\n",
        "labels = df.Peso.value_counts().index\n",
        "\n",
        "# define o nível de separabilidade entre as partes, ordem do vetor representa as partes\n",
        "explode = (0.1, 0, 0, 0) \n",
        "\n",
        "# define o formato de visualização com saída em 1.1%%, sombras e a separação entre as partes\n",
        "plt.pie(pesos, labels=labels, autopct='%1.1f%%', shadow=True, explode=explode)\n",
        "\n",
        "# insere a legenda e a localização da legenda.\n",
        "#plt.legend(labels, loc=3)\n",
        "\n",
        "\n",
        "# define que o gráfico será plotado em circulo\n",
        "plt.axis('equal')\n",
        "\n",
        "plt.show()"
      ],
      "execution_count": null,
      "outputs": [
        {
          "output_type": "display_data",
          "data": {
            "image/png": "[encoded data removed]",
            "text/plain": [
              "<Figure size 432x288 with 1 Axes>"
            ]
          },
          "metadata": {
            "tags": []
          }
        }
      ]
    },
    {
      "cell_type": "markdown",
      "metadata": {
        "id": "PRACTJuxJ6iW"
      },
      "source": [
        "R.: Mais de 50% da nossa população são obesos e ao todo cerca de 80% estão acima do peso normal."
      ]
    },
    {
      "cell_type": "markdown",
      "metadata": {
        "id": "b1w7Ev97Jl73"
      },
      "source": [
        "* Grafico de barras 'Peso' separado por fumantes e não fumantes."
      ]
    },
    {
      "cell_type": "code",
      "metadata": {
        "colab": {
          "base_uri": "https://localhost:8080/"
        },
        "id": "wDrLSIf_L8Cn",
        "outputId": "2e6cac58-cd73-408c-ab7b-85aa55333972"
      },
      "source": [
        "#Gráfico de barras 'Peso' separado por 'smoker'.\n",
        "sns.catplot(y=\"Peso\", kind=\"count\", palette=\"Set1\", hue=\"smoker\", data=df);"
      ],
      "execution_count": null,
      "outputs": [
        {
          "output_type": "display_data",
          "data": {
            "image/png": "[encoded data removed]",
            "text/plain": [
              "<Figure size 413.25x360 with 1 Axes>"
            ]
          },
          "metadata": {
            "tags": [],
            "needs_background": "light"
          }
        }
      ]
    },
    {
      "cell_type": "markdown",
      "metadata": {
        "id": "ljonV18SKqqp"
      },
      "source": [
        "* Os obesos fumantes são em maior número em relação aos demais, certamente eles gastam mais do que os demais, será que isso ocorre para os não fumantes também?"
      ]
    },
    {
      "cell_type": "markdown",
      "metadata": {
        "id": "d8EW6ZhzLMLR"
      },
      "source": [
        "Gráfico de barras entre 'peso' vs 'charges', separadas por fumantes e não fumantes."
      ]
    },
    {
      "cell_type": "code",
      "metadata": {
        "colab": {
          "base_uri": "https://localhost:8080/"
        },
        "id": "yIxJcP3MHwBM",
        "outputId": "0835b365-fdbe-423f-c731-f2d022360f5e"
      },
      "source": [
        "#gráfico de barras entre as variáveis: 'peso' vs 'charges', separadas pela variável 'smoker'.\n",
        "sns.barplot(x=\"Peso\", y=\"charges\", hue=\"smoker\", data=df);"
      ],
      "execution_count": null,
      "outputs": [
        {
          "output_type": "display_data",
          "data": {
            "image/png": "[encoded data removed]",
            "text/plain": [
              "<Figure size 432x288 with 1 Axes>"
            ]
          },
          "metadata": {
            "tags": [],
            "needs_background": "light"
          }
        }
      ]
    },
    {
      "cell_type": "markdown",
      "metadata": {
        "id": "MGgdZ5aILYBP"
      },
      "source": [
        "R.: Confirmado a categoria obesos fumantes tem um custo expressivamente maior na despesas médicas, para os não fumantes esse valor é pouco visível."
      ]
    },
    {
      "cell_type": "markdown",
      "metadata": {
        "id": "HS-A5660L4Kc"
      },
      "source": [
        "* Gráfico de pizza em porcentagem da média dos custos entre fumantes e não fumantes."
      ]
    },
    {
      "cell_type": "code",
      "metadata": {
        "colab": {
          "base_uri": "https://localhost:8080/"
        },
        "id": "o9m18ejKWR33",
        "outputId": "c390be27-6b5f-489d-8307-52bb967aa8f8"
      },
      "source": [
        "Media_charges = df[['charges', 'smoker']].groupby('smoker').mean().reset_index()\n",
        "media_charges = Media_charges.charges.values\n",
        "labels = ['Não Fumante', 'Fumante']\n",
        "\n",
        "# define o nível de separabilidade entre as partes, ordem do vetor representa as partes\n",
        "explode = (0.1, 0) \n",
        "\n",
        "# define o formato de visualização com saída em 1.1%%, sombras e a separação entre as partes\n",
        "plt.pie(media_charges, labels=labels, autopct='%1.1f%%', shadow=True, explode=explode)\n",
        "\n",
        "# insere a legenda e a localização da legenda.\n",
        "#plt.legend(labels, loc=3)\n",
        "\n",
        "\n",
        "# define que o gráfico será plotado em circulo\n",
        "plt.axis('equal')\n",
        "\n",
        "#plt.show()\n",
        "print('Gastos por categoria de fumantes em porcentagem')"
      ],
      "execution_count": null,
      "outputs": [
        {
          "output_type": "stream",
          "text": [
            "Gastos por categoria de fumantes em porcentagem\n"
          ],
          "name": "stdout"
        },
        {
          "output_type": "display_data",
          "data": {
            "image/png": "[encoded data removed]",
            "text/plain": [
              "<Figure size 432x288 with 1 Axes>"
            ]
          },
          "metadata": {
            "tags": []
          }
        }
      ]
    },
    {
      "cell_type": "markdown",
      "metadata": {
        "id": "t6EsoPRBMF4s"
      },
      "source": [
        "R.: aqui podemos concluir que os fumantes, apesar de representar a minoria(cerca de 20% da população) gera um custo médio de cerca de 80% dos gastos. O inverso também é válido para os não fumantes."
      ]
    },
    {
      "cell_type": "markdown",
      "metadata": {
        "id": "Suk9YIBINIw9"
      },
      "source": [
        "* Custo de fumantes e não fumantes em valores."
      ]
    },
    {
      "cell_type": "code",
      "metadata": {
        "colab": {
          "base_uri": "https://localhost:8080/"
        },
        "id": "i4c3pQoLWdTu",
        "outputId": "2ffb8d1c-da54-41eb-a899-3652f7d47f25"
      },
      "source": [
        "#df.query('smoker == \"no\"')['charges'].mean()\n",
        "df[['charges', 'smoker']].groupby('smoker').mean().reset_index().values"
      ],
      "execution_count": null,
      "outputs": [
        {
          "output_type": "execute_result",
          "data": {
            "text/plain": [
              "array([['no', 8434.268297856199],\n",
              "       ['yes', 32050.23183153285]], dtype=object)"
            ]
          },
          "metadata": {
            "tags": []
          },
          "execution_count": 27
        }
      ]
    },
    {
      "cell_type": "markdown",
      "metadata": {
        "id": "4vS4r_MaNogT"
      },
      "source": [
        "* Tabela da media dos custos separada por peso e smoker."
      ]
    },
    {
      "cell_type": "code",
      "metadata": {
        "colab": {
          "base_uri": "https://localhost:8080/"
        },
        "id": "x3U6SvPKRRyx",
        "outputId": "0e887c04-fb66-4eeb-cc81-be59968bfe74"
      },
      "source": [
        "df[['Peso','charges','smoker']].groupby(['Peso','smoker']).mean().sort_values('charges')"
      ],
      "execution_count": null,
      "outputs": [
        {
          "output_type": "execute_result",
          "data": {
            "text/html": [
              "<div>\n",
              "<style scoped>\n",
              "    .dataframe tbody tr th:only-of-type {\n",
              "        vertical-align: middle;\n",
              "    }\n",
              "\n",
              "    .dataframe tbody tr th {\n",
              "        vertical-align: top;\n",
              "    }\n",
              "\n",
              "    .dataframe thead th {\n",
              "        text-align: right;\n",
              "    }\n",
              "</style>\n",
              "<table border=\"1\" class=\"dataframe\">\n",
              "  <thead>\n",
              "    <tr style=\"text-align: right;\">\n",
              "      <th></th>\n",
              "      <th></th>\n",
              "      <th>charges</th>\n",
              "    </tr>\n",
              "    <tr>\n",
              "      <th>Peso</th>\n",
              "      <th>smoker</th>\n",
              "      <th></th>\n",
              "    </tr>\n",
              "  </thead>\n",
              "  <tbody>\n",
              "    <tr>\n",
              "      <th>Magro</th>\n",
              "      <th>no</th>\n",
              "      <td>5532.992453</td>\n",
              "    </tr>\n",
              "    <tr>\n",
              "      <th>Normal</th>\n",
              "      <th>no</th>\n",
              "      <td>7685.656014</td>\n",
              "    </tr>\n",
              "    <tr>\n",
              "      <th>Sobrepeso</th>\n",
              "      <th>no</th>\n",
              "      <td>8257.961955</td>\n",
              "    </tr>\n",
              "    <tr>\n",
              "      <th>Obeso</th>\n",
              "      <th>no</th>\n",
              "      <td>8842.691548</td>\n",
              "    </tr>\n",
              "    <tr>\n",
              "      <th>Magro</th>\n",
              "      <th>yes</th>\n",
              "      <td>18809.824980</td>\n",
              "    </tr>\n",
              "    <tr>\n",
              "      <th>Normal</th>\n",
              "      <th>yes</th>\n",
              "      <td>19942.223641</td>\n",
              "    </tr>\n",
              "    <tr>\n",
              "      <th>Sobrepeso</th>\n",
              "      <th>yes</th>\n",
              "      <td>22495.874163</td>\n",
              "    </tr>\n",
              "    <tr>\n",
              "      <th>Obeso</th>\n",
              "      <th>yes</th>\n",
              "      <td>41557.989840</td>\n",
              "    </tr>\n",
              "  </tbody>\n",
              "</table>\n",
              "</div>"
            ],
            "text/plain": [
              "                       charges\n",
              "Peso      smoker              \n",
              "Magro     no       5532.992453\n",
              "Normal    no       7685.656014\n",
              "Sobrepeso no       8257.961955\n",
              "Obeso     no       8842.691548\n",
              "Magro     yes     18809.824980\n",
              "Normal    yes     19942.223641\n",
              "Sobrepeso yes     22495.874163\n",
              "Obeso     yes     41557.989840"
            ]
          },
          "metadata": {
            "tags": []
          },
          "execution_count": 28
        }
      ]
    },
    {
      "cell_type": "markdown",
      "metadata": {
        "id": "gXdyi_pGSTgf"
      },
      "source": [
        "##  1 - Respostas das perguntas:\n",
        "\n",
        "* O peso impacta nas despesas médicas?\n",
        "  * *R. Sim, de acordo com as categorias, pessoas obesas tendem a ter um gasto maior, principalmente para os fumantes.*\n",
        "* Categorizar o variável BMI? ex: Magro, Normal, Obeso e comparar com os custos!\n",
        "  * *R. Pelas categorias podemos notar que mais de 50% de todo o conjunto são obesos e cerca de 28% estão com sobrepeso, ou seja cerca de 80% estão com peso acima do normal.*\n",
        "* Será que Obesos fumantes gastam mais? Qual a média dos gastos? Pois acredito que devam ter mais problemas de saúde!\n",
        "  * *R. Sim, os obesos fumantes possuem despesas expressivamente maiores do que os não fumantes."
      ]
    },
    {
      "cell_type": "markdown",
      "metadata": {
        "id": "V5rITL9qT8UG"
      },
      "source": [
        "* 2 - Análise da variável Idade('Age')\n"
      ]
    },
    {
      "cell_type": "code",
      "metadata": {
        "colab": {
          "base_uri": "https://localhost:8080/"
        },
        "id": "AA-ZprvzUGLo",
        "outputId": "7b88dbe1-d704-48fc-f51d-fc4669d1b831"
      },
      "source": [
        "df['age'].describe()"
      ],
      "execution_count": null,
      "outputs": [
        {
          "output_type": "execute_result",
          "data": {
            "text/plain": [
              "count    1338.000000\n",
              "mean       39.207025\n",
              "std        14.049960\n",
              "min        18.000000\n",
              "25%        27.000000\n",
              "50%        39.000000\n",
              "75%        51.000000\n",
              "max        64.000000\n",
              "Name: age, dtype: float64"
            ]
          },
          "metadata": {
            "tags": []
          },
          "execution_count": 29
        }
      ]
    },
    {
      "cell_type": "markdown",
      "metadata": {
        "id": "nKhLU4T3UThf"
      },
      "source": [
        "* Vamos categorizar a Idade da seguinte forma:\n",
        "\n",
        "  * 18 a 38 -> Jovem_Adulto\n",
        "  * 38 a 58 -> Adulto\n",
        "  * Maior que 58 -> Idoso\n",
        "\n",
        "obs: o critério foi realizado por mim, sem nenhum estudo, foi apenas por dedução."
      ]
    },
    {
      "cell_type": "code",
      "metadata": {
        "colab": {
          "base_uri": "https://localhost:8080/"
        },
        "id": "Clz3paUoUNfz",
        "outputId": "0c5e5dfc-0770-4827-8ed3-8e28117b6402"
      },
      "source": [
        "list_age = [df]\n",
        "for idade in list_age:\n",
        "  idade.loc[(idade['age'] >= 18) & (idade['age'] < 39), 'cat_idade'] = 'jovem_adulto'\n",
        "  idade.loc[(idade['age'] > 38) & (idade['age'] < 59), 'cat_idade'] = 'adulto'\n",
        "  idade.loc[idade['age'] > 58, 'cat_idade'] = 'idoso'\n",
        "df.head()"
      ],
      "execution_count": null,
      "outputs": [
        {
          "output_type": "execute_result",
          "data": {
            "text/html": [
              "<div>\n",
              "<style scoped>\n",
              "    .dataframe tbody tr th:only-of-type {\n",
              "        vertical-align: middle;\n",
              "    }\n",
              "\n",
              "    .dataframe tbody tr th {\n",
              "        vertical-align: top;\n",
              "    }\n",
              "\n",
              "    .dataframe thead th {\n",
              "        text-align: right;\n",
              "    }\n",
              "</style>\n",
              "<table border=\"1\" class=\"dataframe\">\n",
              "  <thead>\n",
              "    <tr style=\"text-align: right;\">\n",
              "      <th></th>\n",
              "      <th>age</th>\n",
              "      <th>sex</th>\n",
              "      <th>bmi</th>\n",
              "      <th>children</th>\n",
              "      <th>smoker</th>\n",
              "      <th>region</th>\n",
              "      <th>charges</th>\n",
              "      <th>Peso</th>\n",
              "      <th>cat_idade</th>\n",
              "    </tr>\n",
              "  </thead>\n",
              "  <tbody>\n",
              "    <tr>\n",
              "      <th>0</th>\n",
              "      <td>19</td>\n",
              "      <td>female</td>\n",
              "      <td>27.900</td>\n",
              "      <td>0</td>\n",
              "      <td>yes</td>\n",
              "      <td>southwest</td>\n",
              "      <td>16884.92400</td>\n",
              "      <td>Sobrepeso</td>\n",
              "      <td>jovem_adulto</td>\n",
              "    </tr>\n",
              "    <tr>\n",
              "      <th>1</th>\n",
              "      <td>18</td>\n",
              "      <td>male</td>\n",
              "      <td>33.770</td>\n",
              "      <td>1</td>\n",
              "      <td>no</td>\n",
              "      <td>southeast</td>\n",
              "      <td>1725.55230</td>\n",
              "      <td>Obeso</td>\n",
              "      <td>jovem_adulto</td>\n",
              "    </tr>\n",
              "    <tr>\n",
              "      <th>2</th>\n",
              "      <td>28</td>\n",
              "      <td>male</td>\n",
              "      <td>33.000</td>\n",
              "      <td>3</td>\n",
              "      <td>no</td>\n",
              "      <td>southeast</td>\n",
              "      <td>4449.46200</td>\n",
              "      <td>Obeso</td>\n",
              "      <td>jovem_adulto</td>\n",
              "    </tr>\n",
              "    <tr>\n",
              "      <th>3</th>\n",
              "      <td>33</td>\n",
              "      <td>male</td>\n",
              "      <td>22.705</td>\n",
              "      <td>0</td>\n",
              "      <td>no</td>\n",
              "      <td>northwest</td>\n",
              "      <td>21984.47061</td>\n",
              "      <td>Normal</td>\n",
              "      <td>jovem_adulto</td>\n",
              "    </tr>\n",
              "    <tr>\n",
              "      <th>4</th>\n",
              "      <td>32</td>\n",
              "      <td>male</td>\n",
              "      <td>28.880</td>\n",
              "      <td>0</td>\n",
              "      <td>no</td>\n",
              "      <td>northwest</td>\n",
              "      <td>3866.85520</td>\n",
              "      <td>Sobrepeso</td>\n",
              "      <td>jovem_adulto</td>\n",
              "    </tr>\n",
              "  </tbody>\n",
              "</table>\n",
              "</div>"
            ],
            "text/plain": [
              "   age     sex     bmi  ...      charges       Peso     cat_idade\n",
              "0   19  female  27.900  ...  16884.92400  Sobrepeso  jovem_adulto\n",
              "1   18    male  33.770  ...   1725.55230      Obeso  jovem_adulto\n",
              "2   28    male  33.000  ...   4449.46200      Obeso  jovem_adulto\n",
              "3   33    male  22.705  ...  21984.47061     Normal  jovem_adulto\n",
              "4   32    male  28.880  ...   3866.85520  Sobrepeso  jovem_adulto\n",
              "\n",
              "[5 rows x 9 columns]"
            ]
          },
          "metadata": {
            "tags": []
          },
          "execution_count": 30
        }
      ]
    },
    {
      "cell_type": "code",
      "metadata": {
        "colab": {
          "base_uri": "https://localhost:8080/"
        },
        "id": "N2BPalnzY_nt",
        "outputId": "d7de3f26-43c7-4e78-eb56-a89162b9b378"
      },
      "source": [
        "#Gráfico de piza em porcentagens da categoria idade.\n",
        "cat_idade = df.cat_idade.value_counts(). values\n",
        "labels = df.cat_idade.value_counts().index\n",
        "\n",
        "# define o nível de separabilidade entre as partes, ordem do vetor representa as partes\n",
        "explode = (0.1, 0, 0) \n",
        "\n",
        "# define o formato de visualização com saída em 1.1%%, sombras e a separação entre as partes\n",
        "plt.pie(cat_idade, labels=labels, autopct='%1.1f%%', shadow=True, explode=explode)\n",
        "\n",
        "# insere a legenda e a localização da legenda.\n",
        "#plt.legend(labels, loc=3)\n",
        "\n",
        "\n",
        "# define que o gráfico será plotado em circulo\n",
        "plt.axis('equal')\n",
        "\n",
        "plt.show()"
      ],
      "execution_count": null,
      "outputs": [
        {
          "output_type": "display_data",
          "data": {
            "image/png": "[encoded data removed]",
            "text/plain": [
              "<Figure size 432x288 with 1 Axes>"
            ]
          },
          "metadata": {
            "tags": []
          }
        }
      ]
    },
    {
      "cell_type": "code",
      "metadata": {
        "colab": {
          "base_uri": "https://localhost:8080/"
        },
        "id": "sS7lxXo8ZqEy",
        "outputId": "060e4319-e34a-42f4-9e12-ccad0cddfea0"
      },
      "source": [
        "# verificando a correlação entre peso e idade.\n",
        "sns.heatmap(df[['bmi','age']].corr(), annot=True, cmap=\"Blues\")\n"
      ],
      "execution_count": null,
      "outputs": [
        {
          "output_type": "execute_result",
          "data": {
            "text/plain": [
              "<matplotlib.axes._subplots.AxesSubplot at 0x7f9f970e2f90>"
            ]
          },
          "metadata": {
            "tags": []
          },
          "execution_count": 32
        },
        {
          "output_type": "display_data",
          "data": {
            "image/png": "[encoded data removed]",
            "text/plain": [
              "<Figure size 432x288 with 2 Axes>"
            ]
          },
          "metadata": {
            "tags": [],
            "needs_background": "light"
          }
        }
      ]
    },
    {
      "cell_type": "code",
      "metadata": {
        "colab": {
          "base_uri": "https://localhost:8080/"
        },
        "id": "1ccM_GlcZreQ",
        "outputId": "070b93d5-fddf-4d62-d0f8-2989146ba9e0"
      },
      "source": [
        "#gráfico de barras entre as variáveis: 'cat_idade' vs 'charges', separadas pela variável 'smoker'.\n",
        "sns.barplot(x=\"cat_idade\", y=\"charges\", hue=\"smoker\", data=df);"
      ],
      "execution_count": null,
      "outputs": [
        {
          "output_type": "display_data",
          "data": {
            "image/png": "[encoded data removed]",
            "text/plain": [
              "<Figure size 432x288 with 1 Axes>"
            ]
          },
          "metadata": {
            "tags": [],
            "needs_background": "light"
          }
        }
      ]
    },
    {
      "cell_type": "markdown",
      "metadata": {
        "id": "gLnkijjZkDV_"
      },
      "source": [
        "## 2 - Respostas das perguntas: \n",
        "* Separar as idades por faixa etária.\n",
        "  * *R. Dentro da categoria que criamos, podemos determinar que a maior parte são jovens_adultos seguido de adultos, e com apenas cerca de 10% de Idosos.*\n",
        "* Existe alguma relação entre peso e idade? ex: será que na vida adulta, com o passar dos anos, as pessoas tendem a aumentar de peso? Acho que sim né? Pelo menos comigo foi assim, depois dos 30 não parei de ganhar peso rs....\n",
        "  * *R. Dentro do conjunto, a correlação entre idade e peso é muito fraca, ou seja, não possui uma forte influência no ganho de peso conforme a idade.*\n",
        "* Confirmar se com o passar dos anos as despesas médicas aumentam (para fumantes e não fumantes).\n",
        "  * *R. Sim, podemos observar que com o passar dos anos as despesas médicas aumentam tanto para os fumantes quanto para os não fumantes."
      ]
    },
    {
      "cell_type": "markdown",
      "metadata": {
        "id": "BKjUehhhmI_l"
      },
      "source": [
        "* 3 -  Análise da variável Região('region')"
      ]
    },
    {
      "cell_type": "code",
      "metadata": {
        "colab": {
          "base_uri": "https://localhost:8080/"
        },
        "id": "5t9YUIiSmUum",
        "outputId": "46a31772-1f4b-4da4-93a1-a1a11322b3b5"
      },
      "source": [
        "df.region.describe()"
      ],
      "execution_count": null,
      "outputs": [
        {
          "output_type": "execute_result",
          "data": {
            "text/plain": [
              "count          1338\n",
              "unique            4\n",
              "top       southeast\n",
              "freq            364\n",
              "Name: region, dtype: object"
            ]
          },
          "metadata": {
            "tags": []
          },
          "execution_count": 34
        }
      ]
    },
    {
      "cell_type": "code",
      "metadata": {
        "colab": {
          "base_uri": "https://localhost:8080/"
        },
        "id": "vQ6J4CQonGna",
        "outputId": "35177096-c405-488c-a9e7-6f83da3daaa0"
      },
      "source": [
        "#gráfico de barras entre as variáveis: 'smoker' vs 'charges', separadas pela variável 'smoker'.\n",
        "sns.barplot(x=\"region\", y=\"charges\", hue=\"smoker\", data=df);"
      ],
      "execution_count": null,
      "outputs": [
        {
          "output_type": "display_data",
          "data": {
            "image/png": "[encoded data removed]",
            "text/plain": [
              "<Figure size 432x288 with 1 Axes>"
            ]
          },
          "metadata": {
            "tags": [],
            "needs_background": "light"
          }
        }
      ]
    },
    {
      "cell_type": "markdown",
      "metadata": {
        "id": "IdXAlznpnz1a"
      },
      "source": [
        "* A média dos gasts para os não fumantes são equivalentes por região, agora para os fumantes existe uma média de custo maior para as regiões sudeste e sudoeste, é possível que existe uma concentração maior nessas regiões, vamos verificar.... "
      ]
    },
    {
      "cell_type": "code",
      "metadata": {
        "colab": {
          "base_uri": "https://localhost:8080/"
        },
        "id": "3-AuYT_xnbES",
        "outputId": "df7ffa98-45f1-4312-f170-691327f5bc36"
      },
      "source": [
        "#Gráfico de barras 'region' separado por 'smoker'.\n",
        "sns.catplot(y=\"region\", kind=\"count\", palette=\"Set1\", hue=\"smoker\", data=df);"
      ],
      "execution_count": null,
      "outputs": [
        {
          "output_type": "display_data",
          "data": {
            "image/png": "[encoded data removed]",
            "text/plain": [
              "<Figure size 413.25x360 with 1 Axes>"
            ]
          },
          "metadata": {
            "tags": [],
            "needs_background": "light"
          }
        }
      ]
    },
    {
      "cell_type": "markdown",
      "metadata": {
        "id": "BWuFyiqvoiXK"
      },
      "source": [
        "* Exite uma concentração um pouco maior nas regiões sudeste e sudoeste, tanto para fumantes quanto não fumantes, o que provávelmente indica o motivo dos custos mais elevados."
      ]
    },
    {
      "cell_type": "code",
      "metadata": {
        "colab": {
          "base_uri": "https://localhost:8080/"
        },
        "id": "jPEJCtgwr5bi",
        "outputId": "421406b7-2ccf-4f8d-8664-8187f4fa935c"
      },
      "source": [
        "#Gráfico de barras 'region' separado por 'children'.\n",
        "sns.catplot(y=\"region\", kind=\"count\", palette=\"Set1\", hue=\"children\", data=df);"
      ],
      "execution_count": null,
      "outputs": [
        {
          "output_type": "display_data",
          "data": {
            "image/png": "[encoded data removed]",
            "text/plain": [
              "<Figure size 408.375x360 with 1 Axes>"
            ]
          },
          "metadata": {
            "tags": [],
            "needs_background": "light"
          }
        }
      ]
    },
    {
      "cell_type": "code",
      "metadata": {
        "colab": {
          "base_uri": "https://localhost:8080/"
        },
        "id": "J5hVDN05tUR8",
        "outputId": "ed847f06-a601-4be1-d230-fceee919a997"
      },
      "source": [
        "df[['region','children', ]].groupby('region').sum().reset_index()\n"
      ],
      "execution_count": null,
      "outputs": [
        {
          "output_type": "execute_result",
          "data": {
            "text/html": [
              "<div>\n",
              "<style scoped>\n",
              "    .dataframe tbody tr th:only-of-type {\n",
              "        vertical-align: middle;\n",
              "    }\n",
              "\n",
              "    .dataframe tbody tr th {\n",
              "        vertical-align: top;\n",
              "    }\n",
              "\n",
              "    .dataframe thead th {\n",
              "        text-align: right;\n",
              "    }\n",
              "</style>\n",
              "<table border=\"1\" class=\"dataframe\">\n",
              "  <thead>\n",
              "    <tr style=\"text-align: right;\">\n",
              "      <th></th>\n",
              "      <th>region</th>\n",
              "      <th>children</th>\n",
              "    </tr>\n",
              "  </thead>\n",
              "  <tbody>\n",
              "    <tr>\n",
              "      <th>0</th>\n",
              "      <td>northeast</td>\n",
              "      <td>339</td>\n",
              "    </tr>\n",
              "    <tr>\n",
              "      <th>1</th>\n",
              "      <td>northwest</td>\n",
              "      <td>373</td>\n",
              "    </tr>\n",
              "    <tr>\n",
              "      <th>2</th>\n",
              "      <td>southeast</td>\n",
              "      <td>382</td>\n",
              "    </tr>\n",
              "    <tr>\n",
              "      <th>3</th>\n",
              "      <td>southwest</td>\n",
              "      <td>371</td>\n",
              "    </tr>\n",
              "  </tbody>\n",
              "</table>\n",
              "</div>"
            ],
            "text/plain": [
              "      region  children\n",
              "0  northeast       339\n",
              "1  northwest       373\n",
              "2  southeast       382\n",
              "3  southwest       371"
            ]
          },
          "metadata": {
            "tags": []
          },
          "execution_count": 38
        }
      ]
    },
    {
      "cell_type": "markdown",
      "metadata": {
        "id": "m5hfpzr9zGLQ"
      },
      "source": [
        "* As pessoas possuem mais filhos na região Sudeste."
      ]
    },
    {
      "cell_type": "code",
      "metadata": {
        "colab": {
          "base_uri": "https://localhost:8080/"
        },
        "id": "vl9o0anSuc0O",
        "outputId": "15e09a2b-2522-4495-8b0c-cc6cdb01181d"
      },
      "source": [
        "# Gráfico de pizza com a porcentagem a quantidade de filhos por região.\n",
        "porc_region = df[['region','children', ]].groupby('region').sum().reset_index()\n",
        "Porc_region = porc_region.children. values\n",
        "labels = porc_region.region.values\n",
        "\n",
        "# define o nível de separabilidade entre as partes, ordem do vetor representa as partes\n",
        "explode = (0, 0, 0, 0) \n",
        "\n",
        "# define o formato de visualização com saída em 1.1%%, sombras e a separação entre as partes\n",
        "plt.pie(Porc_region, labels=labels, autopct='%1.1f%%', shadow=True, explode=explode)\n",
        "\n",
        "# insere a legenda e a localização da legenda.\n",
        "#plt.legend(labels, loc=3)\n",
        "\n",
        "\n",
        "# define que o gráfico será plotado em circulo\n",
        "plt.axis('equal')\n",
        "\n",
        "plt.show()\n"
      ],
      "execution_count": null,
      "outputs": [
        {
          "output_type": "display_data",
          "data": {
            "image/png": "[encoded data removed]",
            "text/plain": [
              "<Figure size 432x288 with 1 Axes>"
            ]
          },
          "metadata": {
            "tags": []
          }
        }
      ]
    },
    {
      "cell_type": "code",
      "metadata": {
        "colab": {
          "base_uri": "https://localhost:8080/"
        },
        "id": "2O48n4l5xltl",
        "outputId": "62c4343a-f495-4838-f021-0edd5a968e4d"
      },
      "source": [
        "df.groupby('region').count()"
      ],
      "execution_count": null,
      "outputs": [
        {
          "output_type": "execute_result",
          "data": {
            "text/html": [
              "<div>\n",
              "<style scoped>\n",
              "    .dataframe tbody tr th:only-of-type {\n",
              "        vertical-align: middle;\n",
              "    }\n",
              "\n",
              "    .dataframe tbody tr th {\n",
              "        vertical-align: top;\n",
              "    }\n",
              "\n",
              "    .dataframe thead th {\n",
              "        text-align: right;\n",
              "    }\n",
              "</style>\n",
              "<table border=\"1\" class=\"dataframe\">\n",
              "  <thead>\n",
              "    <tr style=\"text-align: right;\">\n",
              "      <th></th>\n",
              "      <th>age</th>\n",
              "      <th>sex</th>\n",
              "      <th>bmi</th>\n",
              "      <th>children</th>\n",
              "      <th>smoker</th>\n",
              "      <th>charges</th>\n",
              "      <th>Peso</th>\n",
              "      <th>cat_idade</th>\n",
              "    </tr>\n",
              "    <tr>\n",
              "      <th>region</th>\n",
              "      <th></th>\n",
              "      <th></th>\n",
              "      <th></th>\n",
              "      <th></th>\n",
              "      <th></th>\n",
              "      <th></th>\n",
              "      <th></th>\n",
              "      <th></th>\n",
              "    </tr>\n",
              "  </thead>\n",
              "  <tbody>\n",
              "    <tr>\n",
              "      <th>northeast</th>\n",
              "      <td>324</td>\n",
              "      <td>324</td>\n",
              "      <td>324</td>\n",
              "      <td>324</td>\n",
              "      <td>324</td>\n",
              "      <td>324</td>\n",
              "      <td>324</td>\n",
              "      <td>324</td>\n",
              "    </tr>\n",
              "    <tr>\n",
              "      <th>northwest</th>\n",
              "      <td>325</td>\n",
              "      <td>325</td>\n",
              "      <td>325</td>\n",
              "      <td>325</td>\n",
              "      <td>325</td>\n",
              "      <td>325</td>\n",
              "      <td>325</td>\n",
              "      <td>325</td>\n",
              "    </tr>\n",
              "    <tr>\n",
              "      <th>southeast</th>\n",
              "      <td>364</td>\n",
              "      <td>364</td>\n",
              "      <td>364</td>\n",
              "      <td>364</td>\n",
              "      <td>364</td>\n",
              "      <td>364</td>\n",
              "      <td>364</td>\n",
              "      <td>364</td>\n",
              "    </tr>\n",
              "    <tr>\n",
              "      <th>southwest</th>\n",
              "      <td>325</td>\n",
              "      <td>325</td>\n",
              "      <td>325</td>\n",
              "      <td>325</td>\n",
              "      <td>325</td>\n",
              "      <td>325</td>\n",
              "      <td>325</td>\n",
              "      <td>325</td>\n",
              "    </tr>\n",
              "  </tbody>\n",
              "</table>\n",
              "</div>"
            ],
            "text/plain": [
              "           age  sex  bmi  children  smoker  charges  Peso  cat_idade\n",
              "region                                                              \n",
              "northeast  324  324  324       324     324      324   324        324\n",
              "northwest  325  325  325       325     325      325   325        325\n",
              "southeast  364  364  364       364     364      364   364        364\n",
              "southwest  325  325  325       325     325      325   325        325"
            ]
          },
          "metadata": {
            "tags": []
          },
          "execution_count": 40
        }
      ]
    },
    {
      "cell_type": "markdown",
      "metadata": {
        "id": "DocGWw8kmd6z"
      },
      "source": [
        "## 3 - Respostas das perguntas:\n",
        "\n",
        "* Existe alguma diferença de custo dependendo da localização geográfica? Estou curioso!\n",
        "  * *R. Sim, existe para as regiões sudeste e sudoeste a média é mais elevada, porém a concentração de pessoas também.*\n",
        "* Exibir um gráfico de barra por região e separar por fumantes e não fumantes. Acredito que se houver diferença nos gastos por região, essa comparação mostrará o motivo.\n",
        "  * *R. Confirmado, existe uma concentração maior nas regiões onde o custo são mais elevados.*\n",
        "* Qual das regiões as pessoas possuem mais filhos? Seria interessante se nesse consjunto tivesse a classe social....\n",
        "  * *R. A região sudeste possue uma porcentagem maior de filhos, o que explica o fato de existir uma concentração maior de pessoas. Acredito que sim, seria interessantes se o conjunte tivesse um variável separada por classe social."
      ]
    },
    {
      "cell_type": "markdown",
      "metadata": {
        "id": "Nii1G5Tw_BM7"
      },
      "source": [
        "# 5 - Preparando os dados para as previsões\n"
      ]
    },
    {
      "cell_type": "markdown",
      "metadata": {
        "id": "3UesmiRHRSKM"
      },
      "source": [
        "* Transformando as variváveis categóricas em numéricas.\n",
        " - Neste primeiro momento vamos usar a função LabelEncoder do sklearn para realizar a transformação. \n",
        " - Para dar início vou carregar os dados do github novamente.\n",
        " "
      ]
    },
    {
      "cell_type": "code",
      "metadata": {
        "id": "lumz_x7RSShD"
      },
      "source": [
        "#Carregando os dados medical cost personal\n",
        "data = pd.read_csv('https://raw.githubusercontent.com/stedy/Machine-Learning-with-R-datasets/master/insurance.csv')"
      ],
      "execution_count": 7,
      "outputs": []
    },
    {
      "cell_type": "code",
      "metadata": {
        "id": "whxIYBTPTzRr"
      },
      "source": [
        "#importando a biblioteca para tranformar as variáveis Qualitativas!\n",
        "from sklearn.preprocessing import LabelEncoder"
      ],
      "execution_count": 8,
      "outputs": []
    },
    {
      "cell_type": "code",
      "metadata": {
        "id": "xWRjpRDtjHW7"
      },
      "source": [
        "# transformando as variáveis qualitativas em númericas.\n",
        "le = LabelEncoder()\n",
        "le.fit(data.smoker.drop_duplicates())\n",
        "data.smoker = le.transform(data.smoker)\n",
        "le.fit(data.region.drop_duplicates())\n",
        "data.region = le.transform(data.region)\n",
        "le.fit(data.sex.drop_duplicates())\n",
        "data.sex = le.transform(data.sex)"
      ],
      "execution_count": 9,
      "outputs": []
    },
    {
      "cell_type": "code",
      "metadata": {
        "colab": {
          "base_uri": "https://localhost:8080/",
          "height": 204
        },
        "id": "XI00J-70klHH",
        "outputId": "f4127e6a-08d3-4912-abe0-a1ea5fed8886"
      },
      "source": [
        "#note que smoker receberam valores numéricos 1 para sim e 0 para não e assim para as demais variáveis.\n",
        "data.head()"
      ],
      "execution_count": 10,
      "outputs": [
        {
          "output_type": "execute_result",
          "data": {
            "text/html": [
              "<div>\n",
              "<style scoped>\n",
              "    .dataframe tbody tr th:only-of-type {\n",
              "        vertical-align: middle;\n",
              "    }\n",
              "\n",
              "    .dataframe tbody tr th {\n",
              "        vertical-align: top;\n",
              "    }\n",
              "\n",
              "    .dataframe thead th {\n",
              "        text-align: right;\n",
              "    }\n",
              "</style>\n",
              "<table border=\"1\" class=\"dataframe\">\n",
              "  <thead>\n",
              "    <tr style=\"text-align: right;\">\n",
              "      <th></th>\n",
              "      <th>age</th>\n",
              "      <th>sex</th>\n",
              "      <th>bmi</th>\n",
              "      <th>children</th>\n",
              "      <th>smoker</th>\n",
              "      <th>region</th>\n",
              "      <th>charges</th>\n",
              "    </tr>\n",
              "  </thead>\n",
              "  <tbody>\n",
              "    <tr>\n",
              "      <th>0</th>\n",
              "      <td>19</td>\n",
              "      <td>0</td>\n",
              "      <td>27.90</td>\n",
              "      <td>0</td>\n",
              "      <td>1</td>\n",
              "      <td>3</td>\n",
              "      <td>16884.92</td>\n",
              "    </tr>\n",
              "    <tr>\n",
              "      <th>1</th>\n",
              "      <td>18</td>\n",
              "      <td>1</td>\n",
              "      <td>33.77</td>\n",
              "      <td>1</td>\n",
              "      <td>0</td>\n",
              "      <td>2</td>\n",
              "      <td>1725.55</td>\n",
              "    </tr>\n",
              "    <tr>\n",
              "      <th>2</th>\n",
              "      <td>28</td>\n",
              "      <td>1</td>\n",
              "      <td>33.00</td>\n",
              "      <td>3</td>\n",
              "      <td>0</td>\n",
              "      <td>2</td>\n",
              "      <td>4449.46</td>\n",
              "    </tr>\n",
              "    <tr>\n",
              "      <th>3</th>\n",
              "      <td>33</td>\n",
              "      <td>1</td>\n",
              "      <td>22.70</td>\n",
              "      <td>0</td>\n",
              "      <td>0</td>\n",
              "      <td>1</td>\n",
              "      <td>21984.47</td>\n",
              "    </tr>\n",
              "    <tr>\n",
              "      <th>4</th>\n",
              "      <td>32</td>\n",
              "      <td>1</td>\n",
              "      <td>28.88</td>\n",
              "      <td>0</td>\n",
              "      <td>0</td>\n",
              "      <td>1</td>\n",
              "      <td>3866.86</td>\n",
              "    </tr>\n",
              "  </tbody>\n",
              "</table>\n",
              "</div>"
            ],
            "text/plain": [
              "   age  sex   bmi  children  smoker  region  charges\n",
              "0   19    0 27.90         0       1       3 16884.92\n",
              "1   18    1 33.77         1       0       2  1725.55\n",
              "2   28    1 33.00         3       0       2  4449.46\n",
              "3   33    1 22.70         0       0       1 21984.47\n",
              "4   32    1 28.88         0       0       1  3866.86"
            ]
          },
          "metadata": {
            "tags": []
          },
          "execution_count": 10
        }
      ]
    },
    {
      "cell_type": "markdown",
      "metadata": {
        "id": "XKlGlW6wWqit"
      },
      "source": [
        "* Bom conseguimos resolver o problema das variáveis qualitativas, porém esse método funciona bem quando exitem no máximo 2 valores distintos, nesse caso para sex e smoker, mas para region, como são 4 valores distintos, isso pode fazer com que alguns modelos recebam informações que não são verdadeiras.\n",
        " - Por exemplo: algoritmos que se baseiam na média, ou que diferenciam o maior do menor, para o nosso caso de região como são 0,1,2,3  seria uma informação incorreta!\n",
        " * Diante desse fato vamos utilizar  o a função get_dummies do Pandas que irá gerar valores binários, vamos entender o funcionamento a seguir."
      ]
    },
    {
      "cell_type": "markdown",
      "metadata": {
        "id": "n2GE6ctsmnNR"
      },
      "source": [
        "* Get_dummies para transformas as variáveis Categóricas.\n"
      ]
    },
    {
      "cell_type": "code",
      "metadata": {
        "id": "heABgyvqZ88p"
      },
      "source": [
        "#Carregando os dados medical cost personal\n",
        "df = pd.read_csv('https://raw.githubusercontent.com/stedy/Machine-Learning-with-R-datasets/master/insurance.csv')"
      ],
      "execution_count": 11,
      "outputs": []
    },
    {
      "cell_type": "code",
      "metadata": {
        "id": "f5joyCzxaCUt"
      },
      "source": [
        "#Transformar as variáveis categóricas em binárias para ( 'sex', 'smoker', 'region' e 'children')\n",
        "df = pd.get_dummies(df, columns=['region'])\n",
        "df = pd.get_dummies(df, columns=['sex'])\n",
        "df = pd.get_dummies(df, columns=['children'])\n",
        "df = pd.get_dummies(df, columns=['smoker'])"
      ],
      "execution_count": 12,
      "outputs": []
    },
    {
      "cell_type": "code",
      "metadata": {
        "colab": {
          "base_uri": "https://localhost:8080/",
          "height": 224
        },
        "id": "C7KK7_fSeC4v",
        "outputId": "d8f0f913-ffdb-4c1f-d1cc-90e885f48b08"
      },
      "source": [
        "df.head()"
      ],
      "execution_count": 13,
      "outputs": [
        {
          "output_type": "execute_result",
          "data": {
            "text/html": [
              "<div>\n",
              "<style scoped>\n",
              "    .dataframe tbody tr th:only-of-type {\n",
              "        vertical-align: middle;\n",
              "    }\n",
              "\n",
              "    .dataframe tbody tr th {\n",
              "        vertical-align: top;\n",
              "    }\n",
              "\n",
              "    .dataframe thead th {\n",
              "        text-align: right;\n",
              "    }\n",
              "</style>\n",
              "<table border=\"1\" class=\"dataframe\">\n",
              "  <thead>\n",
              "    <tr style=\"text-align: right;\">\n",
              "      <th></th>\n",
              "      <th>age</th>\n",
              "      <th>bmi</th>\n",
              "      <th>charges</th>\n",
              "      <th>region_northeast</th>\n",
              "      <th>region_northwest</th>\n",
              "      <th>region_southeast</th>\n",
              "      <th>region_southwest</th>\n",
              "      <th>sex_female</th>\n",
              "      <th>sex_male</th>\n",
              "      <th>children_0</th>\n",
              "      <th>children_1</th>\n",
              "      <th>children_2</th>\n",
              "      <th>children_3</th>\n",
              "      <th>children_4</th>\n",
              "      <th>children_5</th>\n",
              "      <th>smoker_no</th>\n",
              "      <th>smoker_yes</th>\n",
              "    </tr>\n",
              "  </thead>\n",
              "  <tbody>\n",
              "    <tr>\n",
              "      <th>0</th>\n",
              "      <td>19</td>\n",
              "      <td>27.90</td>\n",
              "      <td>16884.92</td>\n",
              "      <td>0</td>\n",
              "      <td>0</td>\n",
              "      <td>0</td>\n",
              "      <td>1</td>\n",
              "      <td>1</td>\n",
              "      <td>0</td>\n",
              "      <td>1</td>\n",
              "      <td>0</td>\n",
              "      <td>0</td>\n",
              "      <td>0</td>\n",
              "      <td>0</td>\n",
              "      <td>0</td>\n",
              "      <td>0</td>\n",
              "      <td>1</td>\n",
              "    </tr>\n",
              "    <tr>\n",
              "      <th>1</th>\n",
              "      <td>18</td>\n",
              "      <td>33.77</td>\n",
              "      <td>1725.55</td>\n",
              "      <td>0</td>\n",
              "      <td>0</td>\n",
              "      <td>1</td>\n",
              "      <td>0</td>\n",
              "      <td>0</td>\n",
              "      <td>1</td>\n",
              "      <td>0</td>\n",
              "      <td>1</td>\n",
              "      <td>0</td>\n",
              "      <td>0</td>\n",
              "      <td>0</td>\n",
              "      <td>0</td>\n",
              "      <td>1</td>\n",
              "      <td>0</td>\n",
              "    </tr>\n",
              "    <tr>\n",
              "      <th>2</th>\n",
              "      <td>28</td>\n",
              "      <td>33.00</td>\n",
              "      <td>4449.46</td>\n",
              "      <td>0</td>\n",
              "      <td>0</td>\n",
              "      <td>1</td>\n",
              "      <td>0</td>\n",
              "      <td>0</td>\n",
              "      <td>1</td>\n",
              "      <td>0</td>\n",
              "      <td>0</td>\n",
              "      <td>0</td>\n",
              "      <td>1</td>\n",
              "      <td>0</td>\n",
              "      <td>0</td>\n",
              "      <td>1</td>\n",
              "      <td>0</td>\n",
              "    </tr>\n",
              "    <tr>\n",
              "      <th>3</th>\n",
              "      <td>33</td>\n",
              "      <td>22.70</td>\n",
              "      <td>21984.47</td>\n",
              "      <td>0</td>\n",
              "      <td>1</td>\n",
              "      <td>0</td>\n",
              "      <td>0</td>\n",
              "      <td>0</td>\n",
              "      <td>1</td>\n",
              "      <td>1</td>\n",
              "      <td>0</td>\n",
              "      <td>0</td>\n",
              "      <td>0</td>\n",
              "      <td>0</td>\n",
              "      <td>0</td>\n",
              "      <td>1</td>\n",
              "      <td>0</td>\n",
              "    </tr>\n",
              "    <tr>\n",
              "      <th>4</th>\n",
              "      <td>32</td>\n",
              "      <td>28.88</td>\n",
              "      <td>3866.86</td>\n",
              "      <td>0</td>\n",
              "      <td>1</td>\n",
              "      <td>0</td>\n",
              "      <td>0</td>\n",
              "      <td>0</td>\n",
              "      <td>1</td>\n",
              "      <td>1</td>\n",
              "      <td>0</td>\n",
              "      <td>0</td>\n",
              "      <td>0</td>\n",
              "      <td>0</td>\n",
              "      <td>0</td>\n",
              "      <td>1</td>\n",
              "      <td>0</td>\n",
              "    </tr>\n",
              "  </tbody>\n",
              "</table>\n",
              "</div>"
            ],
            "text/plain": [
              "   age   bmi  charges  ...  children_5  smoker_no  smoker_yes\n",
              "0   19 27.90 16884.92  ...           0          0           1\n",
              "1   18 33.77  1725.55  ...           0          1           0\n",
              "2   28 33.00  4449.46  ...           0          1           0\n",
              "3   33 22.70 21984.47  ...           0          1           0\n",
              "4   32 28.88  3866.86  ...           0          1           0\n",
              "\n",
              "[5 rows x 17 columns]"
            ]
          },
          "metadata": {
            "tags": []
          },
          "execution_count": 13
        }
      ]
    },
    {
      "cell_type": "markdown",
      "metadata": {
        "id": "LYa5K_CCeBUb"
      },
      "source": [
        "* Com isso nós conseguimos resolver o problema, veja que a função criou novas colunas de forma binária."
      ]
    },
    {
      "cell_type": "markdown",
      "metadata": {
        "id": "z1Lm5G7we7Tk"
      },
      "source": [
        "* Bom, vamos ver a correlação das variáveis com a variável charges"
      ]
    },
    {
      "cell_type": "code",
      "metadata": {
        "colab": {
          "base_uri": "https://localhost:8080/"
        },
        "id": "1j1AOaRsfGmt",
        "outputId": "5686f7d8-a88f-46b2-a1bb-e86ff6f9f5a0"
      },
      "source": [
        "df.corr()['charges'].sort_values()"
      ],
      "execution_count": 14,
      "outputs": [
        {
          "output_type": "execute_result",
          "data": {
            "text/plain": [
              "smoker_no          -0.79\n",
              "children_0         -0.06\n",
              "sex_female         -0.06\n",
              "children_5         -0.04\n",
              "region_southwest   -0.04\n",
              "region_northwest   -0.04\n",
              "children_1         -0.03\n",
              "region_northeast    0.01\n",
              "children_4          0.01\n",
              "sex_male            0.06\n",
              "children_3          0.06\n",
              "children_2          0.07\n",
              "region_southeast    0.07\n",
              "bmi                 0.20\n",
              "age                 0.30\n",
              "smoker_yes          0.79\n",
              "charges             1.00\n",
              "Name: charges, dtype: float64"
            ]
          },
          "metadata": {
            "tags": []
          },
          "execution_count": 14
        }
      ]
    },
    {
      "cell_type": "markdown",
      "metadata": {
        "id": "gOOPgaSzi-Vm"
      },
      "source": [
        "* Agora sim, conseguimos ver que, quem fuma tem uma correlação positiva com custo, quanto mais fumantes maior o custo.\n",
        "* Quem não fuma, tem uma maior correlação negativa com charges, menos fumantes menos custos.\n",
        "* Existem muitas variáveis que possuem pouca relação com o nosso alvo, nesse caso vamos retirá-las mais para frente."
      ]
    },
    {
      "cell_type": "code",
      "metadata": {
        "colab": {
          "base_uri": "https://localhost:8080/",
          "height": 317
        },
        "id": "lkDL1z5DFmyt",
        "outputId": "59a3ee02-d4fd-4fdf-be59-0aad7ad25ef6"
      },
      "source": [
        "df.describe()"
      ],
      "execution_count": 15,
      "outputs": [
        {
          "output_type": "execute_result",
          "data": {
            "text/html": [
              "<div>\n",
              "<style scoped>\n",
              "    .dataframe tbody tr th:only-of-type {\n",
              "        vertical-align: middle;\n",
              "    }\n",
              "\n",
              "    .dataframe tbody tr th {\n",
              "        vertical-align: top;\n",
              "    }\n",
              "\n",
              "    .dataframe thead th {\n",
              "        text-align: right;\n",
              "    }\n",
              "</style>\n",
              "<table border=\"1\" class=\"dataframe\">\n",
              "  <thead>\n",
              "    <tr style=\"text-align: right;\">\n",
              "      <th></th>\n",
              "      <th>age</th>\n",
              "      <th>bmi</th>\n",
              "      <th>charges</th>\n",
              "      <th>region_northeast</th>\n",
              "      <th>region_northwest</th>\n",
              "      <th>region_southeast</th>\n",
              "      <th>region_southwest</th>\n",
              "      <th>sex_female</th>\n",
              "      <th>sex_male</th>\n",
              "      <th>children_0</th>\n",
              "      <th>children_1</th>\n",
              "      <th>children_2</th>\n",
              "      <th>children_3</th>\n",
              "      <th>children_4</th>\n",
              "      <th>children_5</th>\n",
              "      <th>smoker_no</th>\n",
              "      <th>smoker_yes</th>\n",
              "    </tr>\n",
              "  </thead>\n",
              "  <tbody>\n",
              "    <tr>\n",
              "      <th>count</th>\n",
              "      <td>1338.00</td>\n",
              "      <td>1338.00</td>\n",
              "      <td>1338.00</td>\n",
              "      <td>1338.00</td>\n",
              "      <td>1338.00</td>\n",
              "      <td>1338.00</td>\n",
              "      <td>1338.00</td>\n",
              "      <td>1338.00</td>\n",
              "      <td>1338.00</td>\n",
              "      <td>1338.00</td>\n",
              "      <td>1338.00</td>\n",
              "      <td>1338.00</td>\n",
              "      <td>1338.00</td>\n",
              "      <td>1338.00</td>\n",
              "      <td>1338.00</td>\n",
              "      <td>1338.00</td>\n",
              "      <td>1338.00</td>\n",
              "    </tr>\n",
              "    <tr>\n",
              "      <th>mean</th>\n",
              "      <td>39.21</td>\n",
              "      <td>30.66</td>\n",
              "      <td>13270.42</td>\n",
              "      <td>0.24</td>\n",
              "      <td>0.24</td>\n",
              "      <td>0.27</td>\n",
              "      <td>0.24</td>\n",
              "      <td>0.49</td>\n",
              "      <td>0.51</td>\n",
              "      <td>0.43</td>\n",
              "      <td>0.24</td>\n",
              "      <td>0.18</td>\n",
              "      <td>0.12</td>\n",
              "      <td>0.02</td>\n",
              "      <td>0.01</td>\n",
              "      <td>0.80</td>\n",
              "      <td>0.20</td>\n",
              "    </tr>\n",
              "    <tr>\n",
              "      <th>std</th>\n",
              "      <td>14.05</td>\n",
              "      <td>6.10</td>\n",
              "      <td>12110.01</td>\n",
              "      <td>0.43</td>\n",
              "      <td>0.43</td>\n",
              "      <td>0.45</td>\n",
              "      <td>0.43</td>\n",
              "      <td>0.50</td>\n",
              "      <td>0.50</td>\n",
              "      <td>0.50</td>\n",
              "      <td>0.43</td>\n",
              "      <td>0.38</td>\n",
              "      <td>0.32</td>\n",
              "      <td>0.14</td>\n",
              "      <td>0.12</td>\n",
              "      <td>0.40</td>\n",
              "      <td>0.40</td>\n",
              "    </tr>\n",
              "    <tr>\n",
              "      <th>min</th>\n",
              "      <td>18.00</td>\n",
              "      <td>15.96</td>\n",
              "      <td>1121.87</td>\n",
              "      <td>0.00</td>\n",
              "      <td>0.00</td>\n",
              "      <td>0.00</td>\n",
              "      <td>0.00</td>\n",
              "      <td>0.00</td>\n",
              "      <td>0.00</td>\n",
              "      <td>0.00</td>\n",
              "      <td>0.00</td>\n",
              "      <td>0.00</td>\n",
              "      <td>0.00</td>\n",
              "      <td>0.00</td>\n",
              "      <td>0.00</td>\n",
              "      <td>0.00</td>\n",
              "      <td>0.00</td>\n",
              "    </tr>\n",
              "    <tr>\n",
              "      <th>25%</th>\n",
              "      <td>27.00</td>\n",
              "      <td>26.30</td>\n",
              "      <td>4740.29</td>\n",
              "      <td>0.00</td>\n",
              "      <td>0.00</td>\n",
              "      <td>0.00</td>\n",
              "      <td>0.00</td>\n",
              "      <td>0.00</td>\n",
              "      <td>0.00</td>\n",
              "      <td>0.00</td>\n",
              "      <td>0.00</td>\n",
              "      <td>0.00</td>\n",
              "      <td>0.00</td>\n",
              "      <td>0.00</td>\n",
              "      <td>0.00</td>\n",
              "      <td>1.00</td>\n",
              "      <td>0.00</td>\n",
              "    </tr>\n",
              "    <tr>\n",
              "      <th>50%</th>\n",
              "      <td>39.00</td>\n",
              "      <td>30.40</td>\n",
              "      <td>9382.03</td>\n",
              "      <td>0.00</td>\n",
              "      <td>0.00</td>\n",
              "      <td>0.00</td>\n",
              "      <td>0.00</td>\n",
              "      <td>0.00</td>\n",
              "      <td>1.00</td>\n",
              "      <td>0.00</td>\n",
              "      <td>0.00</td>\n",
              "      <td>0.00</td>\n",
              "      <td>0.00</td>\n",
              "      <td>0.00</td>\n",
              "      <td>0.00</td>\n",
              "      <td>1.00</td>\n",
              "      <td>0.00</td>\n",
              "    </tr>\n",
              "    <tr>\n",
              "      <th>75%</th>\n",
              "      <td>51.00</td>\n",
              "      <td>34.69</td>\n",
              "      <td>16639.91</td>\n",
              "      <td>0.00</td>\n",
              "      <td>0.00</td>\n",
              "      <td>1.00</td>\n",
              "      <td>0.00</td>\n",
              "      <td>1.00</td>\n",
              "      <td>1.00</td>\n",
              "      <td>1.00</td>\n",
              "      <td>0.00</td>\n",
              "      <td>0.00</td>\n",
              "      <td>0.00</td>\n",
              "      <td>0.00</td>\n",
              "      <td>0.00</td>\n",
              "      <td>1.00</td>\n",
              "      <td>0.00</td>\n",
              "    </tr>\n",
              "    <tr>\n",
              "      <th>max</th>\n",
              "      <td>64.00</td>\n",
              "      <td>53.13</td>\n",
              "      <td>63770.43</td>\n",
              "      <td>1.00</td>\n",
              "      <td>1.00</td>\n",
              "      <td>1.00</td>\n",
              "      <td>1.00</td>\n",
              "      <td>1.00</td>\n",
              "      <td>1.00</td>\n",
              "      <td>1.00</td>\n",
              "      <td>1.00</td>\n",
              "      <td>1.00</td>\n",
              "      <td>1.00</td>\n",
              "      <td>1.00</td>\n",
              "      <td>1.00</td>\n",
              "      <td>1.00</td>\n",
              "      <td>1.00</td>\n",
              "    </tr>\n",
              "  </tbody>\n",
              "</table>\n",
              "</div>"
            ],
            "text/plain": [
              "          age     bmi  charges  ...  children_5  smoker_no  smoker_yes\n",
              "count 1338.00 1338.00  1338.00  ...     1338.00    1338.00     1338.00\n",
              "mean    39.21   30.66 13270.42  ...        0.01       0.80        0.20\n",
              "std     14.05    6.10 12110.01  ...        0.12       0.40        0.40\n",
              "min     18.00   15.96  1121.87  ...        0.00       0.00        0.00\n",
              "25%     27.00   26.30  4740.29  ...        0.00       1.00        0.00\n",
              "50%     39.00   30.40  9382.03  ...        0.00       1.00        0.00\n",
              "75%     51.00   34.69 16639.91  ...        0.00       1.00        0.00\n",
              "max     64.00   53.13 63770.43  ...        1.00       1.00        1.00\n",
              "\n",
              "[8 rows x 17 columns]"
            ]
          },
          "metadata": {
            "tags": []
          },
          "execution_count": 15
        }
      ]
    },
    {
      "cell_type": "markdown",
      "metadata": {
        "id": "Xrb7oTh8oCz2"
      },
      "source": [
        "* Instalação do pacote Lazypredict - segue o link do projeto - [Lazypredict](https://pypi.org/project/lazypredict/)\n",
        "  *  Esse pacote vai nos ajudar a encontrar quais modelos funcionam melhor para o nosso conjunto sem nenhum ajuste de parâmetro."
      ]
    },
    {
      "cell_type": "code",
      "metadata": {
        "id": "pcodaJh_wNOV"
      },
      "source": [
        "#instalação do pacote Lazy para testar vários modelos em uma única vez!\n",
        "!pip install Lazypredict"
      ],
      "execution_count": null,
      "outputs": []
    },
    {
      "cell_type": "code",
      "metadata": {
        "id": "I4VQUw6xIGbm"
      },
      "source": [
        "#importe das bibliotecas!\n",
        "from lazypredict.Supervised import LazyRegressor\n",
        "from sklearn.model_selection import train_test_split"
      ],
      "execution_count": 16,
      "outputs": []
    },
    {
      "cell_type": "code",
      "metadata": {
        "colab": {
          "base_uri": "https://localhost:8080/"
        },
        "id": "hHalNCFyIzaB",
        "outputId": "4726e08d-4c9f-4fb8-b4f5-fb70dfd0701f"
      },
      "source": [
        "df.columns"
      ],
      "execution_count": 17,
      "outputs": [
        {
          "output_type": "execute_result",
          "data": {
            "text/plain": [
              "Index(['age', 'bmi', 'charges', 'region_northeast', 'region_northwest',\n",
              "       'region_southeast', 'region_southwest', 'sex_female', 'sex_male',\n",
              "       'children_0', 'children_1', 'children_2', 'children_3', 'children_4',\n",
              "       'children_5', 'smoker_no', 'smoker_yes'],\n",
              "      dtype='object')"
            ]
          },
          "metadata": {
            "tags": []
          },
          "execution_count": 17
        }
      ]
    },
    {
      "cell_type": "code",
      "metadata": {
        "id": "M339R8dIJDLG"
      },
      "source": [
        "# nesse primeiro momento vamos usar todas a variáveis com excessão do nosso target('charges')\n",
        "X = df[['age', 'bmi', 'region_northeast', 'region_northwest',\n",
        "       'region_southeast', 'region_southwest', 'sex_female', 'sex_male',\n",
        "       'children_0', 'children_1', 'children_2', 'children_3', 'children_4',\n",
        "       'children_5', 'smoker_no', 'smoker_yes']]\n",
        "y = df['charges']\n",
        "\n",
        "\n"
      ],
      "execution_count": 18,
      "outputs": []
    },
    {
      "cell_type": "code",
      "metadata": {
        "id": "OmqEfBEDJc-2"
      },
      "source": [
        "# divisão dos dados para treino e teste em 20% para teste\n",
        "X_train, X_test, y_train, y_test = train_test_split(X, y, test_size= 0.2, random_state= 13)"
      ],
      "execution_count": 19,
      "outputs": []
    },
    {
      "cell_type": "code",
      "metadata": {
        "colab": {
          "base_uri": "https://localhost:8080/"
        },
        "id": "trB-a5hjJ6G4",
        "outputId": "08d3a237-2168-47b8-b9f9-60c4027697e6"
      },
      "source": [
        "print(' tamanho do meu X_teste:', X_test.shape, '\\n',\n",
        "      'tamanho do meu X_treino:', X_train.shape, '\\n',\n",
        "      'tamanho do meu y_teste:' ,y_test.shape, '\\n',\n",
        "      'tamanho do meu y_treino:', y_train.shape)\n",
        "\n"
      ],
      "execution_count": 20,
      "outputs": [
        {
          "output_type": "stream",
          "text": [
            " tamanho do meu X_teste: (268, 16) \n",
            " tamanho do meu X_treino: (1070, 16) \n",
            " tamanho do meu y_teste: (268,) \n",
            " tamanho do meu y_treino: (1070,)\n"
          ],
          "name": "stdout"
        }
      ]
    },
    {
      "cell_type": "code",
      "metadata": {
        "colab": {
          "base_uri": "https://localhost:8080/",
          "height": 407
        },
        "id": "6mqGRAzXJ_qO",
        "outputId": "8eed656b-1002-4164-ae4a-61ce59f49e9b"
      },
      "source": [
        "# Testando vários modelos de uma só vez!\n",
        "reg= LazyRegressor(verbose=0, ignore_warnings= True)\n",
        "models, predictions = reg.fit(X_train, X_test, y_train, y_test)\n",
        "models.head(10)"
      ],
      "execution_count": 21,
      "outputs": [
        {
          "output_type": "stream",
          "text": [
            "100%|██████████| 42/42 [00:05<00:00,  7.79it/s]\n"
          ],
          "name": "stderr"
        },
        {
          "output_type": "execute_result",
          "data": {
            "text/html": [
              "<div>\n",
              "<style scoped>\n",
              "    .dataframe tbody tr th:only-of-type {\n",
              "        vertical-align: middle;\n",
              "    }\n",
              "\n",
              "    .dataframe tbody tr th {\n",
              "        vertical-align: top;\n",
              "    }\n",
              "\n",
              "    .dataframe thead th {\n",
              "        text-align: right;\n",
              "    }\n",
              "</style>\n",
              "<table border=\"1\" class=\"dataframe\">\n",
              "  <thead>\n",
              "    <tr style=\"text-align: right;\">\n",
              "      <th></th>\n",
              "      <th>Adjusted R-Squared</th>\n",
              "      <th>R-Squared</th>\n",
              "      <th>RMSE</th>\n",
              "      <th>Time Taken</th>\n",
              "    </tr>\n",
              "    <tr>\n",
              "      <th>Model</th>\n",
              "      <th></th>\n",
              "      <th></th>\n",
              "      <th></th>\n",
              "      <th></th>\n",
              "    </tr>\n",
              "  </thead>\n",
              "  <tbody>\n",
              "    <tr>\n",
              "      <th>GradientBoostingRegressor</th>\n",
              "      <td>0.92</td>\n",
              "      <td>0.92</td>\n",
              "      <td>3362.77</td>\n",
              "      <td>0.16</td>\n",
              "    </tr>\n",
              "    <tr>\n",
              "      <th>LGBMRegressor</th>\n",
              "      <td>0.90</td>\n",
              "      <td>0.91</td>\n",
              "      <td>3650.89</td>\n",
              "      <td>0.09</td>\n",
              "    </tr>\n",
              "    <tr>\n",
              "      <th>HistGradientBoostingRegressor</th>\n",
              "      <td>0.90</td>\n",
              "      <td>0.90</td>\n",
              "      <td>3682.15</td>\n",
              "      <td>0.45</td>\n",
              "    </tr>\n",
              "    <tr>\n",
              "      <th>BaggingRegressor</th>\n",
              "      <td>0.90</td>\n",
              "      <td>0.90</td>\n",
              "      <td>3712.41</td>\n",
              "      <td>0.05</td>\n",
              "    </tr>\n",
              "    <tr>\n",
              "      <th>RandomForestRegressor</th>\n",
              "      <td>0.90</td>\n",
              "      <td>0.90</td>\n",
              "      <td>3733.81</td>\n",
              "      <td>0.42</td>\n",
              "    </tr>\n",
              "    <tr>\n",
              "      <th>XGBRegressor</th>\n",
              "      <td>0.87</td>\n",
              "      <td>0.88</td>\n",
              "      <td>4212.01</td>\n",
              "      <td>0.23</td>\n",
              "    </tr>\n",
              "    <tr>\n",
              "      <th>ExtraTreesRegressor</th>\n",
              "      <td>0.85</td>\n",
              "      <td>0.86</td>\n",
              "      <td>4431.93</td>\n",
              "      <td>0.38</td>\n",
              "    </tr>\n",
              "    <tr>\n",
              "      <th>AdaBoostRegressor</th>\n",
              "      <td>0.82</td>\n",
              "      <td>0.83</td>\n",
              "      <td>4971.09</td>\n",
              "      <td>0.04</td>\n",
              "    </tr>\n",
              "    <tr>\n",
              "      <th>DecisionTreeRegressor</th>\n",
              "      <td>0.79</td>\n",
              "      <td>0.81</td>\n",
              "      <td>5243.92</td>\n",
              "      <td>0.02</td>\n",
              "    </tr>\n",
              "    <tr>\n",
              "      <th>PoissonRegressor</th>\n",
              "      <td>0.79</td>\n",
              "      <td>0.80</td>\n",
              "      <td>5321.61</td>\n",
              "      <td>0.02</td>\n",
              "    </tr>\n",
              "  </tbody>\n",
              "</table>\n",
              "</div>"
            ],
            "text/plain": [
              "                               Adjusted R-Squared  ...  Time Taken\n",
              "Model                                              ...            \n",
              "GradientBoostingRegressor                    0.92  ...        0.16\n",
              "LGBMRegressor                                0.90  ...        0.09\n",
              "HistGradientBoostingRegressor                0.90  ...        0.45\n",
              "BaggingRegressor                             0.90  ...        0.05\n",
              "RandomForestRegressor                        0.90  ...        0.42\n",
              "XGBRegressor                                 0.87  ...        0.23\n",
              "ExtraTreesRegressor                          0.85  ...        0.38\n",
              "AdaBoostRegressor                            0.82  ...        0.04\n",
              "DecisionTreeRegressor                        0.79  ...        0.02\n",
              "PoissonRegressor                             0.79  ...        0.02\n",
              "\n",
              "[10 rows x 4 columns]"
            ]
          },
          "metadata": {
            "tags": []
          },
          "execution_count": 21
        }
      ]
    },
    {
      "cell_type": "markdown",
      "metadata": {
        "id": "KfIWYEez61CK"
      },
      "source": [
        "* Com o resultado podemos analisar os 3 melhores. Apesar do modelo ter alcançado um ótimo resultado, será que é possível melhorar removendo as variáveis com pouca correlação. Vamos analisar!\n"
      ]
    },
    {
      "cell_type": "code",
      "metadata": {
        "id": "yQvD7vZO7_35"
      },
      "source": [
        "# Vamos remover as variáveis com pouca correlação, nesse caso:'region','children','sex')\n",
        "X = df[['age', 'bmi', 'smoker_no', 'smoker_yes']]\n",
        "y = df['charges']"
      ],
      "execution_count": 22,
      "outputs": []
    },
    {
      "cell_type": "code",
      "metadata": {
        "id": "Py1bjEAN7_37"
      },
      "source": [
        "# divisão dos dados para treino e teste em 20% para teste\n",
        "X_train, X_test, y_train, y_test = train_test_split(X, y, test_size= 0.2, random_state= 13)"
      ],
      "execution_count": 23,
      "outputs": []
    },
    {
      "cell_type": "code",
      "metadata": {
        "colab": {
          "base_uri": "https://localhost:8080/",
          "height": 407
        },
        "id": "tBpudteQ7_38",
        "outputId": "3f4734e7-abe3-4eb2-a5fc-c1e24bdc301c"
      },
      "source": [
        "# Testando vários modelos de uma só vez!\n",
        "reg= LazyRegressor(verbose=0, ignore_warnings= True)\n",
        "models, predictions = reg.fit(X_train, X_test, y_train, y_test)\n",
        "models.head(10)"
      ],
      "execution_count": 24,
      "outputs": [
        {
          "output_type": "stream",
          "text": [
            "100%|██████████| 42/42 [00:04<00:00, 10.44it/s]\n"
          ],
          "name": "stderr"
        },
        {
          "output_type": "execute_result",
          "data": {
            "text/html": [
              "<div>\n",
              "<style scoped>\n",
              "    .dataframe tbody tr th:only-of-type {\n",
              "        vertical-align: middle;\n",
              "    }\n",
              "\n",
              "    .dataframe tbody tr th {\n",
              "        vertical-align: top;\n",
              "    }\n",
              "\n",
              "    .dataframe thead th {\n",
              "        text-align: right;\n",
              "    }\n",
              "</style>\n",
              "<table border=\"1\" class=\"dataframe\">\n",
              "  <thead>\n",
              "    <tr style=\"text-align: right;\">\n",
              "      <th></th>\n",
              "      <th>Adjusted R-Squared</th>\n",
              "      <th>R-Squared</th>\n",
              "      <th>RMSE</th>\n",
              "      <th>Time Taken</th>\n",
              "    </tr>\n",
              "    <tr>\n",
              "      <th>Model</th>\n",
              "      <th></th>\n",
              "      <th></th>\n",
              "      <th></th>\n",
              "      <th></th>\n",
              "    </tr>\n",
              "  </thead>\n",
              "  <tbody>\n",
              "    <tr>\n",
              "      <th>GradientBoostingRegressor</th>\n",
              "      <td>0.92</td>\n",
              "      <td>0.93</td>\n",
              "      <td>3264.36</td>\n",
              "      <td>0.13</td>\n",
              "    </tr>\n",
              "    <tr>\n",
              "      <th>LGBMRegressor</th>\n",
              "      <td>0.91</td>\n",
              "      <td>0.91</td>\n",
              "      <td>3566.48</td>\n",
              "      <td>0.08</td>\n",
              "    </tr>\n",
              "    <tr>\n",
              "      <th>HistGradientBoostingRegressor</th>\n",
              "      <td>0.91</td>\n",
              "      <td>0.91</td>\n",
              "      <td>3591.10</td>\n",
              "      <td>0.42</td>\n",
              "    </tr>\n",
              "    <tr>\n",
              "      <th>KNeighborsRegressor</th>\n",
              "      <td>0.90</td>\n",
              "      <td>0.90</td>\n",
              "      <td>3690.50</td>\n",
              "      <td>0.02</td>\n",
              "    </tr>\n",
              "    <tr>\n",
              "      <th>RandomForestRegressor</th>\n",
              "      <td>0.89</td>\n",
              "      <td>0.90</td>\n",
              "      <td>3855.54</td>\n",
              "      <td>0.28</td>\n",
              "    </tr>\n",
              "    <tr>\n",
              "      <th>BaggingRegressor</th>\n",
              "      <td>0.88</td>\n",
              "      <td>0.88</td>\n",
              "      <td>4045.58</td>\n",
              "      <td>0.04</td>\n",
              "    </tr>\n",
              "    <tr>\n",
              "      <th>XGBRegressor</th>\n",
              "      <td>0.88</td>\n",
              "      <td>0.88</td>\n",
              "      <td>4177.08</td>\n",
              "      <td>0.07</td>\n",
              "    </tr>\n",
              "    <tr>\n",
              "      <th>AdaBoostRegressor</th>\n",
              "      <td>0.86</td>\n",
              "      <td>0.86</td>\n",
              "      <td>4462.56</td>\n",
              "      <td>0.04</td>\n",
              "    </tr>\n",
              "    <tr>\n",
              "      <th>ExtraTreesRegressor</th>\n",
              "      <td>0.86</td>\n",
              "      <td>0.86</td>\n",
              "      <td>4498.77</td>\n",
              "      <td>0.19</td>\n",
              "    </tr>\n",
              "    <tr>\n",
              "      <th>PoissonRegressor</th>\n",
              "      <td>0.81</td>\n",
              "      <td>0.81</td>\n",
              "      <td>5218.12</td>\n",
              "      <td>0.01</td>\n",
              "    </tr>\n",
              "  </tbody>\n",
              "</table>\n",
              "</div>"
            ],
            "text/plain": [
              "                               Adjusted R-Squared  ...  Time Taken\n",
              "Model                                              ...            \n",
              "GradientBoostingRegressor                    0.92  ...        0.13\n",
              "LGBMRegressor                                0.91  ...        0.08\n",
              "HistGradientBoostingRegressor                0.91  ...        0.42\n",
              "KNeighborsRegressor                          0.90  ...        0.02\n",
              "RandomForestRegressor                        0.89  ...        0.28\n",
              "BaggingRegressor                             0.88  ...        0.04\n",
              "XGBRegressor                                 0.88  ...        0.07\n",
              "AdaBoostRegressor                            0.86  ...        0.04\n",
              "ExtraTreesRegressor                          0.86  ...        0.19\n",
              "PoissonRegressor                             0.81  ...        0.01\n",
              "\n",
              "[10 rows x 4 columns]"
            ]
          },
          "metadata": {
            "tags": []
          },
          "execution_count": 24
        }
      ]
    },
    {
      "cell_type": "markdown",
      "metadata": {
        "id": "Qddu16L89NiG"
      },
      "source": [
        "* Conseguimos performar os modelos removendo as variáveis com pouca correlação.\n"
      ]
    },
    {
      "cell_type": "markdown",
      "metadata": {
        "id": "uLlcMNZnFNLg"
      },
      "source": [
        "* Agora vamos carregar alguns modelos de forma individual!"
      ]
    },
    {
      "cell_type": "code",
      "metadata": {
        "id": "FtdZZEh1hY60"
      },
      "source": [
        "# carregando as bibliotecas para as métricas.\n",
        "from sklearn.metrics import r2_score\n",
        "from sklearn.metrics import mean_squared_error"
      ],
      "execution_count": 25,
      "outputs": []
    },
    {
      "cell_type": "code",
      "metadata": {
        "colab": {
          "base_uri": "https://localhost:8080/"
        },
        "id": "ugDRLAWQLTqn",
        "outputId": "c9475d93-6a53-4929-a321-f061f975d7ee"
      },
      "source": [
        "# Teste com o modelo GradientBoostingRegressor.\n",
        "from sklearn.ensemble import GradientBoostingRegressor\n",
        "\n",
        "X = df[['age', 'bmi', 'smoker_no', 'smoker_yes']]\n",
        "y = df['charges']\n",
        "\n",
        "X_train, X_test, y_train, y_test  = train_test_split(X, y, test_size = 0.20, random_state= 13)\n",
        "gbr = GradientBoostingRegressor(max_depth=3)\n",
        "gbr.fit(X_train, y_train) \n",
        "gbr_predict = gbr.predict(X_test)\n",
        "gbr_r2score = r2_score(y_test, gbr_predict)\n",
        "gbr_rmse = mean_squared_error(y_test, gbr_predict, squared=False)\n",
        "print('r2 score:', gbr_r2score)\n",
        "print('rmse:', gbr_rmse)"
      ],
      "execution_count": 26,
      "outputs": [
        {
          "output_type": "stream",
          "text": [
            "r2 score: 0.9250196580139067\n",
            "rmse: 3264.591000814512\n"
          ],
          "name": "stdout"
        }
      ]
    },
    {
      "cell_type": "code",
      "metadata": {
        "colab": {
          "base_uri": "https://localhost:8080/",
          "height": 204
        },
        "id": "57hOwLV8bz42",
        "outputId": "3d1f64b7-dd32-410a-b380-d865d848843e"
      },
      "source": [
        "# criando um df com ao valor atual vs o valor predito para comparação!\n",
        "df_gbr = pd.DataFrame({'Atual': y_test, 'Predito': gbr_predict})\n",
        "df_gbr.head()"
      ],
      "execution_count": 27,
      "outputs": [
        {
          "output_type": "execute_result",
          "data": {
            "text/html": [
              "<div>\n",
              "<style scoped>\n",
              "    .dataframe tbody tr th:only-of-type {\n",
              "        vertical-align: middle;\n",
              "    }\n",
              "\n",
              "    .dataframe tbody tr th {\n",
              "        vertical-align: top;\n",
              "    }\n",
              "\n",
              "    .dataframe thead th {\n",
              "        text-align: right;\n",
              "    }\n",
              "</style>\n",
              "<table border=\"1\" class=\"dataframe\">\n",
              "  <thead>\n",
              "    <tr style=\"text-align: right;\">\n",
              "      <th></th>\n",
              "      <th>Atual</th>\n",
              "      <th>Predito</th>\n",
              "    </tr>\n",
              "  </thead>\n",
              "  <tbody>\n",
              "    <tr>\n",
              "      <th>200</th>\n",
              "      <td>2130.68</td>\n",
              "      <td>4545.98</td>\n",
              "    </tr>\n",
              "    <tr>\n",
              "      <th>350</th>\n",
              "      <td>11830.61</td>\n",
              "      <td>12100.08</td>\n",
              "    </tr>\n",
              "    <tr>\n",
              "      <th>226</th>\n",
              "      <td>2689.50</td>\n",
              "      <td>7675.61</td>\n",
              "    </tr>\n",
              "    <tr>\n",
              "      <th>709</th>\n",
              "      <td>5469.01</td>\n",
              "      <td>7425.82</td>\n",
              "    </tr>\n",
              "    <tr>\n",
              "      <th>293</th>\n",
              "      <td>2156.75</td>\n",
              "      <td>3352.21</td>\n",
              "    </tr>\n",
              "  </tbody>\n",
              "</table>\n",
              "</div>"
            ],
            "text/plain": [
              "       Atual  Predito\n",
              "200  2130.68  4545.98\n",
              "350 11830.61 12100.08\n",
              "226  2689.50  7675.61\n",
              "709  5469.01  7425.82\n",
              "293  2156.75  3352.21"
            ]
          },
          "metadata": {
            "tags": []
          },
          "execution_count": 27
        }
      ]
    },
    {
      "cell_type": "code",
      "metadata": {
        "id": "Umix94YmNJsA"
      },
      "source": [
        "#instalando pacote para vizualização gráfica dos erros.\n",
        "!pip install yellowbrick\n"
      ],
      "execution_count": null,
      "outputs": []
    },
    {
      "cell_type": "code",
      "metadata": {
        "id": "K63xXs6GN1iQ"
      },
      "source": [
        "# importando a bibliotera para visualização dos erros\n",
        "from yellowbrick.regressor import PredictionError\n"
      ],
      "execution_count": 29,
      "outputs": []
    },
    {
      "cell_type": "code",
      "metadata": {
        "colab": {
          "base_uri": "https://localhost:8080/",
          "height": 364
        },
        "id": "mACHSsGzZxyq",
        "outputId": "92e10c30-2b0d-4f4c-f0ef-a901d9bb660d"
      },
      "source": [
        "#visualização do resultado do modelo de predição.\n",
        "viz = PredictionError(gbr)\n",
        "viz.fit(X_train, y_train)\n",
        "viz.score(X_test, y_test)\n",
        "#viz.show()"
      ],
      "execution_count": 30,
      "outputs": [
        {
          "output_type": "execute_result",
          "data": {
            "text/plain": [
              "0.92500613011341"
            ]
          },
          "metadata": {
            "tags": []
          },
          "execution_count": 30
        },
        {
          "output_type": "display_data",
          "data": {
            "image/png": "[encoded data removed]",
            "text/plain": [
              "<Figure size 576x396 with 1 Axes>"
            ]
          },
          "metadata": {
            "tags": []
          }
        }
      ]
    },
    {
      "cell_type": "code",
      "metadata": {
        "colab": {
          "base_uri": "https://localhost:8080/"
        },
        "id": "l9K6wK6WXKPl",
        "outputId": "de199e05-6ce9-443a-e88d-e8547ec0f560"
      },
      "source": [
        "# Teste com o modelo LGBMRegressor.\n",
        "from lightgbm import LGBMRegressor\n",
        "\n",
        "X = df[['age', 'bmi', 'smoker_no', 'smoker_yes']]\n",
        "y = df['charges']\n",
        "\n",
        "X_train, X_test, y_train, y_test  = train_test_split(X, y, test_size = 0.20, random_state= 13)\n",
        "lgbmr = LGBMRegressor()\n",
        "lgbmr.fit(X_train, y_train) \n",
        "lgbmr_predict = lgbmr.predict(X_test)\n",
        "lgbmr_r2score = r2_score(y_test, lgbmr_predict)\n",
        "lgbmr_rmse = mean_squared_error(y_test, lgbmr_predict, squared=False)\n",
        "print('r2 score:', lgbmr_r2score)\n",
        "print('rmse:', lgbmr_rmse)"
      ],
      "execution_count": 31,
      "outputs": [
        {
          "output_type": "stream",
          "text": [
            "r2 score: 0.9105913852190579\n",
            "rmse: 3564.878674337169\n"
          ],
          "name": "stdout"
        }
      ]
    },
    {
      "cell_type": "code",
      "metadata": {
        "colab": {
          "base_uri": "https://localhost:8080/",
          "height": 204
        },
        "id": "ettbL285c5uy",
        "outputId": "c78431a5-5052-4250-c071-1a6932276a4c"
      },
      "source": [
        "df_KnnRegressor = pd.DataFrame({'Atual': y_test, 'Predito': lgbmr_predict})\n",
        "df_KnnRegressor.head()"
      ],
      "execution_count": 32,
      "outputs": [
        {
          "output_type": "execute_result",
          "data": {
            "text/html": [
              "<div>\n",
              "<style scoped>\n",
              "    .dataframe tbody tr th:only-of-type {\n",
              "        vertical-align: middle;\n",
              "    }\n",
              "\n",
              "    .dataframe tbody tr th {\n",
              "        vertical-align: top;\n",
              "    }\n",
              "\n",
              "    .dataframe thead th {\n",
              "        text-align: right;\n",
              "    }\n",
              "</style>\n",
              "<table border=\"1\" class=\"dataframe\">\n",
              "  <thead>\n",
              "    <tr style=\"text-align: right;\">\n",
              "      <th></th>\n",
              "      <th>Atual</th>\n",
              "      <th>Predito</th>\n",
              "    </tr>\n",
              "  </thead>\n",
              "  <tbody>\n",
              "    <tr>\n",
              "      <th>200</th>\n",
              "      <td>2130.68</td>\n",
              "      <td>5195.67</td>\n",
              "    </tr>\n",
              "    <tr>\n",
              "      <th>350</th>\n",
              "      <td>11830.61</td>\n",
              "      <td>11638.37</td>\n",
              "    </tr>\n",
              "    <tr>\n",
              "      <th>226</th>\n",
              "      <td>2689.50</td>\n",
              "      <td>6468.07</td>\n",
              "    </tr>\n",
              "    <tr>\n",
              "      <th>709</th>\n",
              "      <td>5469.01</td>\n",
              "      <td>5797.41</td>\n",
              "    </tr>\n",
              "    <tr>\n",
              "      <th>293</th>\n",
              "      <td>2156.75</td>\n",
              "      <td>1632.54</td>\n",
              "    </tr>\n",
              "  </tbody>\n",
              "</table>\n",
              "</div>"
            ],
            "text/plain": [
              "       Atual  Predito\n",
              "200  2130.68  5195.67\n",
              "350 11830.61 11638.37\n",
              "226  2689.50  6468.07\n",
              "709  5469.01  5797.41\n",
              "293  2156.75  1632.54"
            ]
          },
          "metadata": {
            "tags": []
          },
          "execution_count": 32
        }
      ]
    },
    {
      "cell_type": "code",
      "metadata": {
        "colab": {
          "base_uri": "https://localhost:8080/",
          "height": 367
        },
        "id": "q5nvvZx2XKPo",
        "outputId": "4b606fc9-ddb3-4175-8331-01e1c8406839"
      },
      "source": [
        "#visualização do resultado do modelo de predição.\n",
        "viz = PredictionError(lgbmr)\n",
        "viz.fit(X_train, y_train)\n",
        "viz.score(X_test, y_test)\n",
        "#viz.show()"
      ],
      "execution_count": 33,
      "outputs": [
        {
          "output_type": "execute_result",
          "data": {
            "text/plain": [
              "0.9105913852190579"
            ]
          },
          "metadata": {
            "tags": []
          },
          "execution_count": 33
        },
        {
          "output_type": "display_data",
          "data": {
            "image/png": "[encoded data removed]",
            "text/plain": [
              "<Figure size 576x396 with 1 Axes>"
            ]
          },
          "metadata": {
            "tags": []
          }
        }
      ]
    },
    {
      "cell_type": "code",
      "metadata": {
        "colab": {
          "base_uri": "https://localhost:8080/"
        },
        "id": "WRHd6npBZZMT",
        "outputId": "69e89c6a-cf43-4025-d0aa-b4e25d2ea5c2"
      },
      "source": [
        "# Teste com o modelo RandomForestRegressor.\n",
        "from sklearn.ensemble import RandomForestRegressor\n",
        "\n",
        "X = df[['age', 'bmi', 'smoker_no', 'smoker_yes']]\n",
        "y = df['charges']\n",
        "\n",
        "X_train, X_test, y_train, y_test  = train_test_split(X, y, test_size = 0.20, random_state= 13)\n",
        "rfr = RandomForestRegressor()\n",
        "rfr.fit(X_train, y_train) \n",
        "rfr_predict = rfr.predict(X_test)\n",
        "rfr_r2score = r2_score(y_test, rfr_predict)\n",
        "rfr_rmse = mean_squared_error(y_test, rfr_predict, squared=False)\n",
        "print('r2 score:', rfr_r2score)\n",
        "print('rmse:', rfr_rmse)"
      ],
      "execution_count": 34,
      "outputs": [
        {
          "output_type": "stream",
          "text": [
            "r2 score: 0.8983758561896684\n",
            "rmse: 3800.611870770957\n"
          ],
          "name": "stdout"
        }
      ]
    },
    {
      "cell_type": "code",
      "metadata": {
        "colab": {
          "base_uri": "https://localhost:8080/",
          "height": 204
        },
        "id": "GeRzZa9udFqF",
        "outputId": "4aa96f35-cb14-4393-bb6e-83664655ff84"
      },
      "source": [
        "df_KnnRegressor = pd.DataFrame({'Atual': y_test, 'Predito': rfr_predict})\n",
        "df_KnnRegressor.head()"
      ],
      "execution_count": 35,
      "outputs": [
        {
          "output_type": "execute_result",
          "data": {
            "text/html": [
              "<div>\n",
              "<style scoped>\n",
              "    .dataframe tbody tr th:only-of-type {\n",
              "        vertical-align: middle;\n",
              "    }\n",
              "\n",
              "    .dataframe tbody tr th {\n",
              "        vertical-align: top;\n",
              "    }\n",
              "\n",
              "    .dataframe thead th {\n",
              "        text-align: right;\n",
              "    }\n",
              "</style>\n",
              "<table border=\"1\" class=\"dataframe\">\n",
              "  <thead>\n",
              "    <tr style=\"text-align: right;\">\n",
              "      <th></th>\n",
              "      <th>Atual</th>\n",
              "      <th>Predito</th>\n",
              "    </tr>\n",
              "  </thead>\n",
              "  <tbody>\n",
              "    <tr>\n",
              "      <th>200</th>\n",
              "      <td>2130.68</td>\n",
              "      <td>3493.88</td>\n",
              "    </tr>\n",
              "    <tr>\n",
              "      <th>350</th>\n",
              "      <td>11830.61</td>\n",
              "      <td>15585.57</td>\n",
              "    </tr>\n",
              "    <tr>\n",
              "      <th>226</th>\n",
              "      <td>2689.50</td>\n",
              "      <td>6322.60</td>\n",
              "    </tr>\n",
              "    <tr>\n",
              "      <th>709</th>\n",
              "      <td>5469.01</td>\n",
              "      <td>6286.92</td>\n",
              "    </tr>\n",
              "    <tr>\n",
              "      <th>293</th>\n",
              "      <td>2156.75</td>\n",
              "      <td>2873.44</td>\n",
              "    </tr>\n",
              "  </tbody>\n",
              "</table>\n",
              "</div>"
            ],
            "text/plain": [
              "       Atual  Predito\n",
              "200  2130.68  3493.88\n",
              "350 11830.61 15585.57\n",
              "226  2689.50  6322.60\n",
              "709  5469.01  6286.92\n",
              "293  2156.75  2873.44"
            ]
          },
          "metadata": {
            "tags": []
          },
          "execution_count": 35
        }
      ]
    },
    {
      "cell_type": "code",
      "metadata": {
        "colab": {
          "base_uri": "https://localhost:8080/",
          "height": 364
        },
        "id": "w0JHfaFyZZMV",
        "outputId": "5ef2552d-9f82-4eae-8e1b-fd37c117a6d4"
      },
      "source": [
        "#visualização do resultado do modelo de predição.\n",
        "viz = PredictionError(rfr)\n",
        "viz.fit(X_train, y_train)\n",
        "viz.score(X_test, y_test)\n",
        "#viz.show()"
      ],
      "execution_count": 36,
      "outputs": [
        {
          "output_type": "execute_result",
          "data": {
            "text/plain": [
              "0.8985280481020034"
            ]
          },
          "metadata": {
            "tags": []
          },
          "execution_count": 36
        },
        {
          "output_type": "display_data",
          "data": {
            "image/png": "[encoded data removed]",
            "text/plain": [
              "<Figure size 576x396 with 1 Axes>"
            ]
          },
          "metadata": {
            "tags": []
          }
        }
      ]
    },
    {
      "cell_type": "code",
      "metadata": {
        "colab": {
          "base_uri": "https://localhost:8080/"
        },
        "id": "bATGMk_7d3HT",
        "outputId": "a4914dd5-c8c0-4e1d-d9b3-082e0fd696f9"
      },
      "source": [
        "# Teste com o modelo KNeighborsRegressor.\n",
        "from sklearn.neighbors import KNeighborsRegressor\n",
        "\n",
        "X = df[['age', 'bmi', 'smoker_no', 'smoker_yes']]\n",
        "y = df['charges']\n",
        "\n",
        "X_train, X_test, y_train, y_test  = train_test_split(X, y, test_size = 0.20, random_state= 13)\n",
        "knnr = KNeighborsRegressor(n_neighbors=2)\n",
        "knnr.fit(X_train, y_train) \n",
        "knnr_predict = knnr.predict(X_test)\n",
        "knnr_r2score = r2_score(y_test, knnr_predict)\n",
        "knnr_rmse = mean_squared_error(y_test, knnr_predict, squared=False)\n",
        "print('r2 score:', knnr_r2score)\n",
        "print('rmse:', knnr_rmse)"
      ],
      "execution_count": 37,
      "outputs": [
        {
          "output_type": "stream",
          "text": [
            "r2 score: 0.5050366271758047\n",
            "rmse: 8387.675144937091\n"
          ],
          "name": "stdout"
        }
      ]
    },
    {
      "cell_type": "code",
      "metadata": {
        "colab": {
          "base_uri": "https://localhost:8080/",
          "height": 204
        },
        "id": "QUrMG6czd3HV",
        "outputId": "f932a577-fc64-43fa-8127-eef8a98e088b"
      },
      "source": [
        "df_KnnRegressor = pd.DataFrame({'Atual': y_test, 'Predito': knnr_predict})\n",
        "df_KnnRegressor.head()"
      ],
      "execution_count": 38,
      "outputs": [
        {
          "output_type": "execute_result",
          "data": {
            "text/html": [
              "<div>\n",
              "<style scoped>\n",
              "    .dataframe tbody tr th:only-of-type {\n",
              "        vertical-align: middle;\n",
              "    }\n",
              "\n",
              "    .dataframe tbody tr th {\n",
              "        vertical-align: top;\n",
              "    }\n",
              "\n",
              "    .dataframe thead th {\n",
              "        text-align: right;\n",
              "    }\n",
              "</style>\n",
              "<table border=\"1\" class=\"dataframe\">\n",
              "  <thead>\n",
              "    <tr style=\"text-align: right;\">\n",
              "      <th></th>\n",
              "      <th>Atual</th>\n",
              "      <th>Predito</th>\n",
              "    </tr>\n",
              "  </thead>\n",
              "  <tbody>\n",
              "    <tr>\n",
              "      <th>200</th>\n",
              "      <td>2130.68</td>\n",
              "      <td>12415.86</td>\n",
              "    </tr>\n",
              "    <tr>\n",
              "      <th>350</th>\n",
              "      <td>11830.61</td>\n",
              "      <td>17110.86</td>\n",
              "    </tr>\n",
              "    <tr>\n",
              "      <th>226</th>\n",
              "      <td>2689.50</td>\n",
              "      <td>3522.02</td>\n",
              "    </tr>\n",
              "    <tr>\n",
              "      <th>709</th>\n",
              "      <td>5469.01</td>\n",
              "      <td>7014.12</td>\n",
              "    </tr>\n",
              "    <tr>\n",
              "      <th>293</th>\n",
              "      <td>2156.75</td>\n",
              "      <td>2470.47</td>\n",
              "    </tr>\n",
              "  </tbody>\n",
              "</table>\n",
              "</div>"
            ],
            "text/plain": [
              "       Atual  Predito\n",
              "200  2130.68 12415.86\n",
              "350 11830.61 17110.86\n",
              "226  2689.50  3522.02\n",
              "709  5469.01  7014.12\n",
              "293  2156.75  2470.47"
            ]
          },
          "metadata": {
            "tags": []
          },
          "execution_count": 38
        }
      ]
    },
    {
      "cell_type": "code",
      "metadata": {
        "colab": {
          "base_uri": "https://localhost:8080/",
          "height": 364
        },
        "id": "B9TxOaeyd3HV",
        "outputId": "7c479d38-7e6b-468b-ae77-a3520b9187a4"
      },
      "source": [
        "#visualização do resultado do modelo de predição.\n",
        "viz = PredictionError(knnr)\n",
        "viz.fit(X_train, y_train)\n",
        "viz.score(X_test, y_test)\n",
        "#viz.show()"
      ],
      "execution_count": 39,
      "outputs": [
        {
          "output_type": "execute_result",
          "data": {
            "text/plain": [
              "0.5050366271758047"
            ]
          },
          "metadata": {
            "tags": []
          },
          "execution_count": 39
        },
        {
          "output_type": "display_data",
          "data": {
            "image/png": "[encoded data removed]",
            "text/plain": [
              "<Figure size 576x396 with 1 Axes>"
            ]
          },
          "metadata": {
            "tags": []
          }
        }
      ]
    },
    {
      "cell_type": "markdown",
      "metadata": {
        "id": "aCzumI9cGLya"
      },
      "source": [
        "* Bom atem o momento conseguimos atingir uma acurácia de 92%, a seguir vamos tentar performar esse resultado através do médoto de Validação Cruzada."
      ]
    },
    {
      "cell_type": "markdown",
      "metadata": {
        "id": "rF-WKgM8pGhB"
      },
      "source": [
        "#6 - Normalização e Padronização"
      ]
    },
    {
      "cell_type": "code",
      "metadata": {
        "id": "e0n8GOazUnw8"
      },
      "source": [
        "#import das bibliotecas para análise estatistica.\n",
        "from scipy.stats import norm, boxcox\n",
        "from scipy import stats"
      ],
      "execution_count": 40,
      "outputs": []
    },
    {
      "cell_type": "code",
      "metadata": {
        "colab": {
          "base_uri": "https://localhost:8080/"
        },
        "id": "mQDLrJPkUDY8",
        "outputId": "5abdeb98-b3e8-44e9-a87e-e2ea415850ad"
      },
      "source": [
        "# Média e Desvio Padrão da variável charges usando a biblioteca scipy.\n",
        "(mu, sigma) = norm.fit(data[\"charges\"])\n",
        "print(\"Média {} : {}, Desvio Padrão {} : {}\".format(\"charges\", mu, \"charges\", sigma))"
      ],
      "execution_count": 41,
      "outputs": [
        {
          "output_type": "stream",
          "text": [
            "Média charges : 13270.422265141257, Desvio Padrão charges : 12105.484975561612\n"
          ],
          "name": "stdout"
        }
      ]
    },
    {
      "cell_type": "code",
      "metadata": {
        "colab": {
          "base_uri": "https://localhost:8080/"
        },
        "id": "duSnwUqlccS8",
        "outputId": "d4baa75e-54a9-4bd1-89ab-d4ca5f5fa418"
      },
      "source": [
        "#média usando pandas apenas para conferir o resultado\n",
        "data.charges.mean()"
      ],
      "execution_count": 42,
      "outputs": [
        {
          "output_type": "execute_result",
          "data": {
            "text/plain": [
              "13270.422265141257"
            ]
          },
          "metadata": {
            "tags": []
          },
          "execution_count": 42
        }
      ]
    },
    {
      "cell_type": "code",
      "metadata": {
        "colab": {
          "base_uri": "https://localhost:8080/"
        },
        "id": "KmSqtyVndFd7",
        "outputId": "092bbb2a-7a90-4405-ab9a-c955a52ee124"
      },
      "source": [
        "#desvio padrão numpy para confirmação dos resultados.\n",
        "np.std(data['charges'])"
      ],
      "execution_count": 43,
      "outputs": [
        {
          "output_type": "execute_result",
          "data": {
            "text/plain": [
              "12105.484975561605"
            ]
          },
          "metadata": {
            "tags": []
          },
          "execution_count": 43
        }
      ]
    },
    {
      "cell_type": "code",
      "metadata": {
        "colab": {
          "base_uri": "https://localhost:8080/",
          "height": 294
        },
        "id": "n3oUwFQAekVh",
        "outputId": "5218c843-cf78-4552-b07a-138260a96826"
      },
      "source": [
        "# Gráfico de distribuição normal\n",
        "plt.figure(figsize=(10,4))\n",
        "sns.distplot(data['charges'], fit=norm)\n",
        "plt.title('Gráfico de distribuição - Charges', color= 'blue')\n",
        "plt.show()"
      ],
      "execution_count": 44,
      "outputs": [
        {
          "output_type": "display_data",
          "data": {
            "image/png": "[encoded data removed]",
            "text/plain": [
              "<Figure size 720x288 with 1 Axes>"
            ]
          },
          "metadata": {
            "tags": []
          }
        }
      ]
    },
    {
      "cell_type": "markdown",
      "metadata": {
        "id": "eg9fVV7Qj1wH"
      },
      "source": [
        "O gráfico mostra uma distribuição unimodal inclinada para direita!"
      ]
    },
    {
      "cell_type": "code",
      "metadata": {
        "colab": {
          "base_uri": "https://localhost:8080/",
          "height": 512
        },
        "id": "JO9YDWtqkChR",
        "outputId": "142ed4e9-f8fd-4367-ec6c-6bc364971f80"
      },
      "source": [
        "#gráfico de probabilidade\n",
        "plt.figure(figsize=(8,8))\n",
        "stats.probplot(data['charges'], plot= plt)\n",
        "plt.show()"
      ],
      "execution_count": 45,
      "outputs": [
        {
          "output_type": "display_data",
          "data": {
            "image/png": "[encoded data removed]",
            "text/plain": [
              "<Figure size 576x576 with 1 Axes>"
            ]
          },
          "metadata": {
            "tags": []
          }
        }
      ]
    },
    {
      "cell_type": "markdown",
      "metadata": {
        "id": "ULktJtF-ky6e"
      },
      "source": [
        "O gráfico de probabilidade, mostra uma distribuição enviesada para direita, tem um formato similar de um 'C' invertido."
      ]
    },
    {
      "cell_type": "markdown",
      "metadata": {
        "id": "WhBIbQXsL5gC"
      },
      "source": [
        "* Para corrigir isso, através de algumas pesquisas, vamos usar a função log1p para realizar a normalização."
      ]
    },
    {
      "cell_type": "markdown",
      "metadata": {
        "id": "-5U1dqDFuFNj"
      },
      "source": [
        "* *Através de uma busca rápida cheguei ao artigo do [Medium](https://medium.com/data-hackers/normalizar-ou-padronizar-as-vari%C3%A1veis-3b619876ccc9), conforme o artigo escolhi utilizar o log1 para normalização.*"
      ]
    },
    {
      "cell_type": "code",
      "metadata": {
        "colab": {
          "base_uri": "https://localhost:8080/"
        },
        "id": "JFzb80qLNNfS",
        "outputId": "57cd3699-b868-48a9-fbee-4448a15db3a4"
      },
      "source": [
        "valor_atual = data['charges'][0]\n",
        "log1p = np.log1p(data['charges'][0])\n",
        "print('O valor:', valor_atual, 'correponde ao valor logaritmo natural de :', log1p)"
      ],
      "execution_count": 46,
      "outputs": [
        {
          "output_type": "stream",
          "text": [
            "O valor: 16884.924 correponde ao valor logaritmo natural de : 9.734235654449447\n"
          ],
          "name": "stdout"
        }
      ]
    },
    {
      "cell_type": "markdown",
      "metadata": {
        "id": "Fa3bGxFVR0bM"
      },
      "source": [
        "* Vejam que com a função, reduzimos nossa escala usando o logaritimo, agora vamos usar a função 'FunctionTransformer' do sklearn com o numpy para converter a coluna inteira.\n",
        "* Com ela podemos converter e também voltar para os dados originais(inverse). Vamos ao exemplo a seguir."
      ]
    },
    {
      "cell_type": "code",
      "metadata": {
        "colab": {
          "base_uri": "https://localhost:8080/",
          "height": 297
        },
        "id": "OSHGLmMsU8lO",
        "outputId": "043ecc84-0efb-4860-f623-dd9ffdcb4155"
      },
      "source": [
        "from sklearn.preprocessing import FunctionTransformer\n",
        "transformer = FunctionTransformer(np.log1p)\n",
        "charges = df['charges']\n",
        "valor_convertido = transformer.transform(charges)\n",
        "valor_original = transformer.inverse_transform(charges)\n",
        "conversao = pd.DataFrame([valor_convertido, valor_original]).T\n",
        "conversao.describe()"
      ],
      "execution_count": 47,
      "outputs": [
        {
          "output_type": "execute_result",
          "data": {
            "text/html": [
              "<div>\n",
              "<style scoped>\n",
              "    .dataframe tbody tr th:only-of-type {\n",
              "        vertical-align: middle;\n",
              "    }\n",
              "\n",
              "    .dataframe tbody tr th {\n",
              "        vertical-align: top;\n",
              "    }\n",
              "\n",
              "    .dataframe thead th {\n",
              "        text-align: right;\n",
              "    }\n",
              "</style>\n",
              "<table border=\"1\" class=\"dataframe\">\n",
              "  <thead>\n",
              "    <tr style=\"text-align: right;\">\n",
              "      <th></th>\n",
              "      <th>charges</th>\n",
              "      <th>charges</th>\n",
              "    </tr>\n",
              "  </thead>\n",
              "  <tbody>\n",
              "    <tr>\n",
              "      <th>count</th>\n",
              "      <td>1338.00</td>\n",
              "      <td>1338.00</td>\n",
              "    </tr>\n",
              "    <tr>\n",
              "      <th>mean</th>\n",
              "      <td>9.10</td>\n",
              "      <td>13270.42</td>\n",
              "    </tr>\n",
              "    <tr>\n",
              "      <th>std</th>\n",
              "      <td>0.92</td>\n",
              "      <td>12110.01</td>\n",
              "    </tr>\n",
              "    <tr>\n",
              "      <th>min</th>\n",
              "      <td>7.02</td>\n",
              "      <td>1121.87</td>\n",
              "    </tr>\n",
              "    <tr>\n",
              "      <th>25%</th>\n",
              "      <td>8.46</td>\n",
              "      <td>4740.29</td>\n",
              "    </tr>\n",
              "    <tr>\n",
              "      <th>50%</th>\n",
              "      <td>9.15</td>\n",
              "      <td>9382.03</td>\n",
              "    </tr>\n",
              "    <tr>\n",
              "      <th>75%</th>\n",
              "      <td>9.72</td>\n",
              "      <td>16639.91</td>\n",
              "    </tr>\n",
              "    <tr>\n",
              "      <th>max</th>\n",
              "      <td>11.06</td>\n",
              "      <td>63770.43</td>\n",
              "    </tr>\n",
              "  </tbody>\n",
              "</table>\n",
              "</div>"
            ],
            "text/plain": [
              "       charges  charges\n",
              "count  1338.00  1338.00\n",
              "mean      9.10 13270.42\n",
              "std       0.92 12110.01\n",
              "min       7.02  1121.87\n",
              "25%       8.46  4740.29\n",
              "50%       9.15  9382.03\n",
              "75%       9.72 16639.91\n",
              "max      11.06 63770.43"
            ]
          },
          "metadata": {
            "tags": []
          },
          "execution_count": 47
        }
      ]
    },
    {
      "cell_type": "markdown",
      "metadata": {
        "id": "MejjtcQyYyuH"
      },
      "source": [
        "* Vejam no exemplo acima como ficou a escala para o função log1p, os valores mínimo e máximo ficaram entre (7.02 e 11.06) enquanto que nos valores reais estavam entre (1.121 e 63.770). Bom acho que chega de exemplos, vamos aplicar e ver os gráficos."
      ]
    },
    {
      "cell_type": "code",
      "metadata": {
        "colab": {
          "base_uri": "https://localhost:8080/"
        },
        "id": "KQn_E3wGlZCt",
        "outputId": "5c8c8826-bb5e-4b2e-f1d1-eb56071e1e0b"
      },
      "source": [
        "data['charges'] = valor_convertido\n",
        "# Média e Desvio Padrão da variável charges usando a biblioteca scipy.\n",
        "(mu, sigma) = norm.fit(data[\"charges\"])\n",
        "print(\"Média {} : {}, Desvio Padrão {} : {}\".format(\"charges\", mu, \"charges\", sigma))"
      ],
      "execution_count": 48,
      "outputs": [
        {
          "output_type": "stream",
          "text": [
            "Média charges : 9.098827980629359, Desvio Padrão charges : 0.9190355163595243\n"
          ],
          "name": "stdout"
        }
      ]
    },
    {
      "cell_type": "code",
      "metadata": {
        "colab": {
          "base_uri": "https://localhost:8080/"
        },
        "id": "0BFxTs8U4PHS",
        "outputId": "9fa34ce3-612e-42fc-f76f-d0c24eb807c7"
      },
      "source": [
        "data.charges"
      ],
      "execution_count": 49,
      "outputs": [
        {
          "output_type": "execute_result",
          "data": {
            "text/plain": [
              "0       9.73\n",
              "1       7.45\n",
              "2       8.40\n",
              "3      10.00\n",
              "4       8.26\n",
              "        ... \n",
              "1333    9.27\n",
              "1334    7.70\n",
              "1335    7.40\n",
              "1336    7.61\n",
              "1337   10.28\n",
              "Name: charges, Length: 1338, dtype: float64"
            ]
          },
          "metadata": {
            "tags": []
          },
          "execution_count": 49
        }
      ]
    },
    {
      "cell_type": "code",
      "metadata": {
        "colab": {
          "base_uri": "https://localhost:8080/",
          "height": 294
        },
        "id": "OHSFuClCtPIz",
        "outputId": "2727c61a-8b55-4950-fadc-ce07c9a42de1"
      },
      "source": [
        "# Gráfico de distribuição normal\n",
        "plt.figure(figsize=(10,4))\n",
        "sns.distplot(data['charges'], fit=norm)\n",
        "plt.title('Gráfico de distribuição - Charges', color= 'blue')\n",
        "plt.show()"
      ],
      "execution_count": 50,
      "outputs": [
        {
          "output_type": "display_data",
          "data": {
            "image/png": "[encoded data removed]",
            "text/plain": [
              "<Figure size 720x288 with 1 Axes>"
            ]
          },
          "metadata": {
            "tags": []
          }
        }
      ]
    },
    {
      "cell_type": "code",
      "metadata": {
        "colab": {
          "base_uri": "https://localhost:8080/",
          "height": 512
        },
        "id": "RgRHeeptu0cL",
        "outputId": "57d7a204-b47c-44bb-afe9-92627d28521b"
      },
      "source": [
        "#gráfico de probabilidade\n",
        "plt.figure(figsize=(8,8))\n",
        "stats.probplot(data['charges'], plot= plt)\n",
        "plt.show()"
      ],
      "execution_count": 51,
      "outputs": [
        {
          "output_type": "display_data",
          "data": {
            "image/png": "[encoded data removed]",
            "text/plain": [
              "<Figure size 576x576 with 1 Axes>"
            ]
          },
          "metadata": {
            "tags": []
          }
        }
      ]
    },
    {
      "cell_type": "markdown",
      "metadata": {
        "id": "4aPd6NQPtROp"
      },
      "source": [
        "* após a normalização os nosso gráfico de probabilidade já mostra uma distribuição uniforme(possui uma forma de S). \n",
        "Segue um link de referência do [wikipedia](https://en.wikipedia.org/wiki/Normal_probability_plot).\n",
        "\n",
        "* Agora podemos rodar todos os modelos novamente e ver se as predições ficaram melhores."
      ]
    },
    {
      "cell_type": "code",
      "metadata": {
        "colab": {
          "base_uri": "https://localhost:8080/",
          "height": 204
        },
        "id": "JDPAOmhRbs1B",
        "outputId": "4a7ad87c-573f-473d-da0d-4374ac5419f9"
      },
      "source": [
        "data.head()"
      ],
      "execution_count": 52,
      "outputs": [
        {
          "output_type": "execute_result",
          "data": {
            "text/html": [
              "<div>\n",
              "<style scoped>\n",
              "    .dataframe tbody tr th:only-of-type {\n",
              "        vertical-align: middle;\n",
              "    }\n",
              "\n",
              "    .dataframe tbody tr th {\n",
              "        vertical-align: top;\n",
              "    }\n",
              "\n",
              "    .dataframe thead th {\n",
              "        text-align: right;\n",
              "    }\n",
              "</style>\n",
              "<table border=\"1\" class=\"dataframe\">\n",
              "  <thead>\n",
              "    <tr style=\"text-align: right;\">\n",
              "      <th></th>\n",
              "      <th>age</th>\n",
              "      <th>sex</th>\n",
              "      <th>bmi</th>\n",
              "      <th>children</th>\n",
              "      <th>smoker</th>\n",
              "      <th>region</th>\n",
              "      <th>charges</th>\n",
              "    </tr>\n",
              "  </thead>\n",
              "  <tbody>\n",
              "    <tr>\n",
              "      <th>0</th>\n",
              "      <td>19</td>\n",
              "      <td>0</td>\n",
              "      <td>27.90</td>\n",
              "      <td>0</td>\n",
              "      <td>1</td>\n",
              "      <td>3</td>\n",
              "      <td>9.73</td>\n",
              "    </tr>\n",
              "    <tr>\n",
              "      <th>1</th>\n",
              "      <td>18</td>\n",
              "      <td>1</td>\n",
              "      <td>33.77</td>\n",
              "      <td>1</td>\n",
              "      <td>0</td>\n",
              "      <td>2</td>\n",
              "      <td>7.45</td>\n",
              "    </tr>\n",
              "    <tr>\n",
              "      <th>2</th>\n",
              "      <td>28</td>\n",
              "      <td>1</td>\n",
              "      <td>33.00</td>\n",
              "      <td>3</td>\n",
              "      <td>0</td>\n",
              "      <td>2</td>\n",
              "      <td>8.40</td>\n",
              "    </tr>\n",
              "    <tr>\n",
              "      <th>3</th>\n",
              "      <td>33</td>\n",
              "      <td>1</td>\n",
              "      <td>22.70</td>\n",
              "      <td>0</td>\n",
              "      <td>0</td>\n",
              "      <td>1</td>\n",
              "      <td>10.00</td>\n",
              "    </tr>\n",
              "    <tr>\n",
              "      <th>4</th>\n",
              "      <td>32</td>\n",
              "      <td>1</td>\n",
              "      <td>28.88</td>\n",
              "      <td>0</td>\n",
              "      <td>0</td>\n",
              "      <td>1</td>\n",
              "      <td>8.26</td>\n",
              "    </tr>\n",
              "  </tbody>\n",
              "</table>\n",
              "</div>"
            ],
            "text/plain": [
              "   age  sex   bmi  children  smoker  region  charges\n",
              "0   19    0 27.90         0       1       3     9.73\n",
              "1   18    1 33.77         1       0       2     7.45\n",
              "2   28    1 33.00         3       0       2     8.40\n",
              "3   33    1 22.70         0       0       1    10.00\n",
              "4   32    1 28.88         0       0       1     8.26"
            ]
          },
          "metadata": {
            "tags": []
          },
          "execution_count": 52
        }
      ]
    },
    {
      "cell_type": "markdown",
      "metadata": {
        "id": "RgSqKmIAcaOT"
      },
      "source": [
        "* Vamos remover a variável 'region', lembram que ela possue uma correlação muito fraca."
      ]
    },
    {
      "cell_type": "code",
      "metadata": {
        "colab": {
          "base_uri": "https://localhost:8080/",
          "height": 407
        },
        "id": "mhHfo2Ewvj5h",
        "outputId": "60d85dc4-2f62-4d8e-f101-33a65e7ddc96"
      },
      "source": [
        "# Removendo a variável 'region'\n",
        "X = data.drop(['charges', 'region'], axis=1)\n",
        "Y = data.charges\n",
        "X_treino, X_teste, Y_treino, Y_teste = train_test_split(X, Y, test_size = 0.2, random_state=13)\n",
        "# testando vários modelos de uma vez:\n",
        "\n",
        "reg= LazyRegressor(verbose=0, ignore_warnings= True)\n",
        "models, predictions = reg.fit(X_treino, X_teste, Y_treino, Y_teste)\n",
        "models.head(10)"
      ],
      "execution_count": 53,
      "outputs": [
        {
          "output_type": "stream",
          "text": [
            "100%|██████████| 42/42 [00:04<00:00,  9.90it/s]\n"
          ],
          "name": "stderr"
        },
        {
          "output_type": "execute_result",
          "data": {
            "text/html": [
              "<div>\n",
              "<style scoped>\n",
              "    .dataframe tbody tr th:only-of-type {\n",
              "        vertical-align: middle;\n",
              "    }\n",
              "\n",
              "    .dataframe tbody tr th {\n",
              "        vertical-align: top;\n",
              "    }\n",
              "\n",
              "    .dataframe thead th {\n",
              "        text-align: right;\n",
              "    }\n",
              "</style>\n",
              "<table border=\"1\" class=\"dataframe\">\n",
              "  <thead>\n",
              "    <tr style=\"text-align: right;\">\n",
              "      <th></th>\n",
              "      <th>Adjusted R-Squared</th>\n",
              "      <th>R-Squared</th>\n",
              "      <th>RMSE</th>\n",
              "      <th>Time Taken</th>\n",
              "    </tr>\n",
              "    <tr>\n",
              "      <th>Model</th>\n",
              "      <th></th>\n",
              "      <th></th>\n",
              "      <th></th>\n",
              "      <th></th>\n",
              "    </tr>\n",
              "  </thead>\n",
              "  <tbody>\n",
              "    <tr>\n",
              "      <th>NuSVR</th>\n",
              "      <td>0.93</td>\n",
              "      <td>0.93</td>\n",
              "      <td>0.24</td>\n",
              "      <td>0.20</td>\n",
              "    </tr>\n",
              "    <tr>\n",
              "      <th>SVR</th>\n",
              "      <td>0.93</td>\n",
              "      <td>0.93</td>\n",
              "      <td>0.24</td>\n",
              "      <td>0.08</td>\n",
              "    </tr>\n",
              "    <tr>\n",
              "      <th>GradientBoostingRegressor</th>\n",
              "      <td>0.91</td>\n",
              "      <td>0.91</td>\n",
              "      <td>0.27</td>\n",
              "      <td>0.15</td>\n",
              "    </tr>\n",
              "    <tr>\n",
              "      <th>LGBMRegressor</th>\n",
              "      <td>0.89</td>\n",
              "      <td>0.89</td>\n",
              "      <td>0.31</td>\n",
              "      <td>0.08</td>\n",
              "    </tr>\n",
              "    <tr>\n",
              "      <th>HistGradientBoostingRegressor</th>\n",
              "      <td>0.88</td>\n",
              "      <td>0.88</td>\n",
              "      <td>0.31</td>\n",
              "      <td>0.34</td>\n",
              "    </tr>\n",
              "    <tr>\n",
              "      <th>RandomForestRegressor</th>\n",
              "      <td>0.87</td>\n",
              "      <td>0.88</td>\n",
              "      <td>0.32</td>\n",
              "      <td>0.30</td>\n",
              "    </tr>\n",
              "    <tr>\n",
              "      <th>BaggingRegressor</th>\n",
              "      <td>0.86</td>\n",
              "      <td>0.87</td>\n",
              "      <td>0.34</td>\n",
              "      <td>0.05</td>\n",
              "    </tr>\n",
              "    <tr>\n",
              "      <th>XGBRegressor</th>\n",
              "      <td>0.86</td>\n",
              "      <td>0.86</td>\n",
              "      <td>0.35</td>\n",
              "      <td>0.07</td>\n",
              "    </tr>\n",
              "    <tr>\n",
              "      <th>KNeighborsRegressor</th>\n",
              "      <td>0.86</td>\n",
              "      <td>0.86</td>\n",
              "      <td>0.35</td>\n",
              "      <td>0.01</td>\n",
              "    </tr>\n",
              "    <tr>\n",
              "      <th>HuberRegressor</th>\n",
              "      <td>0.84</td>\n",
              "      <td>0.84</td>\n",
              "      <td>0.37</td>\n",
              "      <td>0.02</td>\n",
              "    </tr>\n",
              "  </tbody>\n",
              "</table>\n",
              "</div>"
            ],
            "text/plain": [
              "                               Adjusted R-Squared  R-Squared  RMSE  Time Taken\n",
              "Model                                                                         \n",
              "NuSVR                                        0.93       0.93  0.24        0.20\n",
              "SVR                                          0.93       0.93  0.24        0.08\n",
              "GradientBoostingRegressor                    0.91       0.91  0.27        0.15\n",
              "LGBMRegressor                                0.89       0.89  0.31        0.08\n",
              "HistGradientBoostingRegressor                0.88       0.88  0.31        0.34\n",
              "RandomForestRegressor                        0.87       0.88  0.32        0.30\n",
              "BaggingRegressor                             0.86       0.87  0.34        0.05\n",
              "XGBRegressor                                 0.86       0.86  0.35        0.07\n",
              "KNeighborsRegressor                          0.86       0.86  0.35        0.01\n",
              "HuberRegressor                               0.84       0.84  0.37        0.02"
            ]
          },
          "metadata": {
            "tags": []
          },
          "execution_count": 53
        }
      ]
    },
    {
      "cell_type": "markdown",
      "metadata": {
        "id": "BXq1BDltgTT8"
      },
      "source": [
        "* Notem que com a normalização o modelo 'Nugbr' e 'gbr' que nem estavam entre os 10 primeiros agora performaram melhor, nosso modelo de estudo 'GradienteBoostingRegressor' performou um pouco pior, porém isso pode representar uma consistência maior na acurácia de 91%, mas vamos tentar realizar algumas valições para uma melhor confirmação!"
      ]
    },
    {
      "cell_type": "code",
      "metadata": {
        "colab": {
          "base_uri": "https://localhost:8080/"
        },
        "id": "9a9zLNdHdRS6",
        "outputId": "769a0b6e-c753-4dfa-ba67-35e8788b84d4"
      },
      "source": [
        "# Teste com o modelo GradientBoostingRegressor.\n",
        "from sklearn.ensemble import GradientBoostingRegressor\n",
        "\n",
        "# Removendo as variáveis 'children e 'region'\n",
        "X = data.drop(['charges', 'region'], axis=1)\n",
        "Y = data.charges\n",
        "\n",
        "X_train, X_test, y_train, y_test  = train_test_split(X, Y, test_size = 0.2, random_state= 13)\n",
        "gbr = GradientBoostingRegressor()\n",
        "gbr.fit(X_train, y_train) \n",
        "gbr_predict = gbr.predict(X_test)\n",
        "gbr_r2score = r2_score(y_test, gbr_predict)\n",
        "gbr_rmse = mean_squared_error(y_test, gbr_predict, squared=False)\n",
        "print('r2 score:', gbr_r2score)\n",
        "print('rmse:', gbr_rmse)"
      ],
      "execution_count": 120,
      "outputs": [
        {
          "output_type": "stream",
          "text": [
            "r2 score: 0.9133235263221544\n",
            "rmse: 0.2711932491406356\n"
          ],
          "name": "stdout"
        }
      ]
    },
    {
      "cell_type": "code",
      "metadata": {
        "colab": {
          "base_uri": "https://localhost:8080/",
          "height": 204
        },
        "id": "IXO5eQz3dRS6",
        "outputId": "cc939463-2750-427c-eacb-112f67ad34e4"
      },
      "source": [
        "# criando um df com ao valor atual vs o valor predito para comparação!\n",
        "df_gbr = pd.DataFrame({'Atual': y_test, 'Predito': gbr_predict})\n",
        "df_gbr.head()"
      ],
      "execution_count": 57,
      "outputs": [
        {
          "output_type": "execute_result",
          "data": {
            "text/html": [
              "<div>\n",
              "<style scoped>\n",
              "    .dataframe tbody tr th:only-of-type {\n",
              "        vertical-align: middle;\n",
              "    }\n",
              "\n",
              "    .dataframe tbody tr th {\n",
              "        vertical-align: top;\n",
              "    }\n",
              "\n",
              "    .dataframe thead th {\n",
              "        text-align: right;\n",
              "    }\n",
              "</style>\n",
              "<table border=\"1\" class=\"dataframe\">\n",
              "  <thead>\n",
              "    <tr style=\"text-align: right;\">\n",
              "      <th></th>\n",
              "      <th>Atual</th>\n",
              "      <th>Predito</th>\n",
              "    </tr>\n",
              "  </thead>\n",
              "  <tbody>\n",
              "    <tr>\n",
              "      <th>200</th>\n",
              "      <td>7.66</td>\n",
              "      <td>7.81</td>\n",
              "    </tr>\n",
              "    <tr>\n",
              "      <th>350</th>\n",
              "      <td>9.38</td>\n",
              "      <td>9.40</td>\n",
              "    </tr>\n",
              "    <tr>\n",
              "      <th>226</th>\n",
              "      <td>7.90</td>\n",
              "      <td>8.19</td>\n",
              "    </tr>\n",
              "    <tr>\n",
              "      <th>709</th>\n",
              "      <td>8.61</td>\n",
              "      <td>8.68</td>\n",
              "    </tr>\n",
              "    <tr>\n",
              "      <th>293</th>\n",
              "      <td>7.68</td>\n",
              "      <td>7.81</td>\n",
              "    </tr>\n",
              "  </tbody>\n",
              "</table>\n",
              "</div>"
            ],
            "text/plain": [
              "     Atual  Predito\n",
              "200   7.66     7.81\n",
              "350   9.38     9.40\n",
              "226   7.90     8.19\n",
              "709   8.61     8.68\n",
              "293   7.68     7.81"
            ]
          },
          "metadata": {
            "tags": []
          },
          "execution_count": 57
        }
      ]
    },
    {
      "cell_type": "code",
      "metadata": {
        "colab": {
          "base_uri": "https://localhost:8080/",
          "height": 364
        },
        "id": "gCUkoWZIdRS6",
        "outputId": "15a116b0-349c-424e-b813-3e06a0d8aa63"
      },
      "source": [
        "#visualização do resultado do modelo de predição.\n",
        "viz = PredictionError(gbr)\n",
        "viz.fit(X_train, y_train)\n",
        "viz.score(X_test, y_test)\n",
        "#viz.show()"
      ],
      "execution_count": 58,
      "outputs": [
        {
          "output_type": "execute_result",
          "data": {
            "text/plain": [
              "0.9133009344024718"
            ]
          },
          "metadata": {
            "tags": []
          },
          "execution_count": 58
        },
        {
          "output_type": "display_data",
          "data": {
            "image/png": "[encoded data removed]",
            "text/plain": [
              "<Figure size 576x396 with 1 Axes>"
            ]
          },
          "metadata": {
            "tags": []
          }
        }
      ]
    },
    {
      "cell_type": "markdown",
      "metadata": {
        "id": "fqAOOHzCNbCK"
      },
      "source": [
        "* Vejam que os dados ficaram bem mais ajustados com a reta! Vamos tentar usar o método de validação cruzada para tentar melhorar os resultados ou até mesmo confirmar nossa acurácia em cerca de 91%.\n"
      ]
    },
    {
      "cell_type": "markdown",
      "metadata": {
        "id": "Jk-oW67aODjG"
      },
      "source": [
        ""
      ]
    },
    {
      "cell_type": "code",
      "metadata": {
        "id": "U4r02HZ6OIsG"
      },
      "source": [
        "#Configuração da Validação Cruzada\n",
        "from sklearn.model_selection import KFold\n",
        "from sklearn.model_selection import cross_val_score"
      ],
      "execution_count": 67,
      "outputs": []
    },
    {
      "cell_type": "code",
      "metadata": {
        "id": "FfudifxtOh0i"
      },
      "source": [
        "# parâmetro para kfold: n_splits=10 está fatiando o consjunto em 10 partes, shuffle= False função para embaralhar ou não.\n",
        "kf = KFold(n_splits=10, shuffle= False)"
      ],
      "execution_count": 94,
      "outputs": []
    },
    {
      "cell_type": "code",
      "metadata": {
        "id": "WAXfi7guO2vo"
      },
      "source": [
        "from sklearn.ensemble import GradientBoostingRegressor\n",
        "modelo = GradientBoostingRegressor()"
      ],
      "execution_count": 95,
      "outputs": []
    },
    {
      "cell_type": "code",
      "metadata": {
        "colab": {
          "base_uri": "https://localhost:8080/",
          "height": 204
        },
        "id": "2rSEP8jXPaX_",
        "outputId": "ba24ee48-e30d-4c06-a976-5d4514c9a345"
      },
      "source": [
        "X.head()"
      ],
      "execution_count": 70,
      "outputs": [
        {
          "output_type": "execute_result",
          "data": {
            "text/html": [
              "<div>\n",
              "<style scoped>\n",
              "    .dataframe tbody tr th:only-of-type {\n",
              "        vertical-align: middle;\n",
              "    }\n",
              "\n",
              "    .dataframe tbody tr th {\n",
              "        vertical-align: top;\n",
              "    }\n",
              "\n",
              "    .dataframe thead th {\n",
              "        text-align: right;\n",
              "    }\n",
              "</style>\n",
              "<table border=\"1\" class=\"dataframe\">\n",
              "  <thead>\n",
              "    <tr style=\"text-align: right;\">\n",
              "      <th></th>\n",
              "      <th>age</th>\n",
              "      <th>sex</th>\n",
              "      <th>bmi</th>\n",
              "      <th>children</th>\n",
              "      <th>smoker</th>\n",
              "    </tr>\n",
              "  </thead>\n",
              "  <tbody>\n",
              "    <tr>\n",
              "      <th>0</th>\n",
              "      <td>19</td>\n",
              "      <td>0</td>\n",
              "      <td>27.90</td>\n",
              "      <td>0</td>\n",
              "      <td>1</td>\n",
              "    </tr>\n",
              "    <tr>\n",
              "      <th>1</th>\n",
              "      <td>18</td>\n",
              "      <td>1</td>\n",
              "      <td>33.77</td>\n",
              "      <td>1</td>\n",
              "      <td>0</td>\n",
              "    </tr>\n",
              "    <tr>\n",
              "      <th>2</th>\n",
              "      <td>28</td>\n",
              "      <td>1</td>\n",
              "      <td>33.00</td>\n",
              "      <td>3</td>\n",
              "      <td>0</td>\n",
              "    </tr>\n",
              "    <tr>\n",
              "      <th>3</th>\n",
              "      <td>33</td>\n",
              "      <td>1</td>\n",
              "      <td>22.70</td>\n",
              "      <td>0</td>\n",
              "      <td>0</td>\n",
              "    </tr>\n",
              "    <tr>\n",
              "      <th>4</th>\n",
              "      <td>32</td>\n",
              "      <td>1</td>\n",
              "      <td>28.88</td>\n",
              "      <td>0</td>\n",
              "      <td>0</td>\n",
              "    </tr>\n",
              "  </tbody>\n",
              "</table>\n",
              "</div>"
            ],
            "text/plain": [
              "   age  sex   bmi  children  smoker\n",
              "0   19    0 27.90         0       1\n",
              "1   18    1 33.77         1       0\n",
              "2   28    1 33.00         3       0\n",
              "3   33    1 22.70         0       0\n",
              "4   32    1 28.88         0       0"
            ]
          },
          "metadata": {
            "tags": []
          },
          "execution_count": 70
        }
      ]
    },
    {
      "cell_type": "code",
      "metadata": {
        "colab": {
          "base_uri": "https://localhost:8080/"
        },
        "id": "pHk3MfaIPtHs",
        "outputId": "5d93d862-554c-437d-908b-ed7687b9f937"
      },
      "source": [
        "Y.head()"
      ],
      "execution_count": 71,
      "outputs": [
        {
          "output_type": "execute_result",
          "data": {
            "text/plain": [
              "0    9.73\n",
              "1    7.45\n",
              "2    8.40\n",
              "3   10.00\n",
              "4    8.26\n",
              "Name: charges, dtype: float64"
            ]
          },
          "metadata": {
            "tags": []
          },
          "execution_count": 71
        }
      ]
    },
    {
      "cell_type": "markdown",
      "metadata": {
        "id": "w4XfsH8_S31x"
      },
      "source": [
        "* Desempenho do modelo pelo método de validação cruzada com kfold"
      ]
    },
    {
      "cell_type": "code",
      "metadata": {
        "colab": {
          "base_uri": "https://localhost:8080/"
        },
        "id": "HyBuhZBQPzHJ",
        "outputId": "4b856b7b-2e03-4587-c9d3-ec92cdb03638"
      },
      "source": [
        "gbr_cvs = cross_val_score(modelo, X, Y, cv = kf)\n",
        "score = gbr_cvs.mean()\n",
        "\n",
        "print('Acurácia do Modelo GradienteBosstingRegressor pela validação cruzada kfold: {:.2f}%'.format(100*score ))"
      ],
      "execution_count": 109,
      "outputs": [
        {
          "output_type": "stream",
          "text": [
            "Acurácia do Modelo GradienteBosstingRegressor pela validação cruzada kfold: 82.79%\n"
          ],
          "name": "stdout"
        }
      ]
    },
    {
      "cell_type": "code",
      "metadata": {
        "colab": {
          "base_uri": "https://localhost:8080/"
        },
        "id": "BUaxT0aHa7L2",
        "outputId": "c1e657ba-40cf-4f89-afe7-990599ef3595"
      },
      "source": [
        "# variável recebe um lista com os 10 resultados\n",
        "gbr_cvs\n"
      ],
      "execution_count": 110,
      "outputs": [
        {
          "output_type": "execute_result",
          "data": {
            "text/plain": [
              "array([0.88168631, 0.87093602, 0.746091  , 0.72586427, 0.86685398,\n",
              "       0.93552492, 0.89568385, 0.76866784, 0.75252557, 0.83539778])"
            ]
          },
          "metadata": {
            "tags": []
          },
          "execution_count": 110
        }
      ]
    },
    {
      "cell_type": "markdown",
      "metadata": {
        "id": "dzbpMMU4kuW0"
      },
      "source": [
        "* Com isso, podemos perceber que apesar do método roldout ter performado em cerca de 91%, pelo método de validação cruzada kfold, a média dos resultados ficou em cerca de 82%. Apesar do resultado inferior, o método reduz significativamente a variância dos resultados."
      ]
    },
    {
      "cell_type": "markdown",
      "metadata": {
        "id": "KdHo8j0om-Kd"
      },
      "source": [
        "* Podemos ainda criar uma função para testar alguns modelos para compará-los. Vamos implementar isso."
      ]
    },
    {
      "cell_type": "code",
      "metadata": {
        "id": "T-6m2rfPa94U"
      },
      "source": [
        "def modelo_cvs(dados, alvo):\n",
        "  # Linear Models.\n",
        "  from sklearn.linear_model import LinearRegression\n",
        "  from sklearn.neighbors import KNeighborsRegressor\n",
        "  from sklearn.tree import DecisionTreeRegressor\n",
        "  from sklearn.ensemble import GradientBoostingRegressor\n",
        "  from sklearn.ensemble import RandomForestRegressor\n",
        "  from sklearn.model_selection import cross_val_score\n",
        "  from sklearn.model_selection import KFold\n",
        "  #divisão por kfold\n",
        "  kfold  = KFold(n_splits=10, shuffle=True) \n",
        "  #dados para predição\n",
        "  x = dados\n",
        "  y = alvo\n",
        "  #instanciando os modelos\n",
        "  lr             = LinearRegression()\n",
        "  knr            = KNeighborsRegressor()\n",
        "  dtr            = DecisionTreeRegressor()\n",
        "  gbr            = GradientBoostingRegressor()\n",
        "  rfr            = RandomForestRegressor()\n",
        "\n",
        "\n",
        "  # Aplicando os modelos.\n",
        "  lr_result          = cross_val_score(lr , x, y, cv = kfold)\n",
        "  knr_result         = cross_val_score(knr, x, y, cv = kfold)\n",
        "  dtr_result         = cross_val_score(dtr, x, y, cv = kfold)\n",
        "  gbr_result         = cross_val_score(gbr, x, y, cv = kfold)\n",
        "  rfr_result         = cross_val_score(rfr, x, y, cv = kfold)\n",
        "\n",
        "  # Criando um dicionário para armazenar a média dos resultados.\n",
        "  dic_models = {\n",
        "    \"LinearRegression\": lr_result.mean(),\n",
        "    \"KNeighborsRegressor\": knr_result.mean(),\n",
        "    \"DecisionTreeRegressor\": dtr_result.mean(),\n",
        "    \"GradientBoostingRegressor\": gbr_result.mean(),\n",
        "    \"RandomForestRegressor\": rfr_result.mean()\n",
        "  }\n",
        "  # Selecionando o melhor modelo.\n",
        "  bestModel = max(dic_models, key=dic_models.get)\n",
        "\n",
        "  print(\"Linear Regression Mean: {0}\\nKNeighborsRegressor Mean: {1}\\nDecisionTreeRegressor Mean: {2}\\nGradientBoostingRegressor Mean: {3}\\nRandomForestRegressor Mean: {4}\".format(lr_result.mean(), knr_result.mean(), dtr_result.mean(), gbr_result.mean(), rfr_result.mean()))\n",
        "  print(\"O melhor modelo foi: {0} com o Valor: {1}\".format(bestModel, dic_models[bestModel]))"
      ],
      "execution_count": 131,
      "outputs": []
    },
    {
      "cell_type": "code",
      "metadata": {
        "colab": {
          "base_uri": "https://localhost:8080/"
        },
        "id": "mPLNfiCGsXfL",
        "outputId": "05ff3045-974b-4439-dbad-0cae59095c01"
      },
      "source": [
        "#testando os modelos com a função modelo_cvs\n",
        "modelo_cvs(X, Y)"
      ],
      "execution_count": 130,
      "outputs": [
        {
          "output_type": "stream",
          "text": [
            "Linear Regression Mean: 0.7579362805266725\n",
            "KNeighborsRegressor Mean: 0.33049400325931816\n",
            "DecisionTreeRegressor Mean: 0.659159367052295\n",
            "GradientBoostingRegressor Mean: 0.8271810431184583\n",
            "RandomForestRegressor Mean: 0.7870707499585804\n",
            "O melhor modelo foi: GradientBoostingRegressor com o Valor: 0.8271810431184583\n"
          ],
          "name": "stdout"
        }
      ]
    },
    {
      "cell_type": "code",
      "metadata": {
        "id": "j0q3kzAkspWa"
      },
      "source": [
        ""
      ],
      "execution_count": null,
      "outputs": []
    }
  ]
}