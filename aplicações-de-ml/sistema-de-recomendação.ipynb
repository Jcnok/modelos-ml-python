{
 "cells": [
  {
   "cell_type": "code",
   "execution_count": 2,
   "metadata": {},
   "outputs": [],
   "source": [
    "# Bibliotecas de uso geral\n",
    "import pandas as pd\n",
    "import numpy as np\n",
    "import matplotlib.pyplot as plt"
   ]
  },
  {
   "cell_type": "code",
   "execution_count": 29,
   "metadata": {},
   "outputs": [
    {
     "data": {
      "text/plain": [
       "(7813737, 3)"
      ]
     },
     "execution_count": 29,
     "metadata": {},
     "output_type": "execute_result"
    }
   ],
   "source": [
    "#\n",
    "# Nesse problema nós temos dois conjuntos que estão relacionados pela \n",
    "# coluna anime_id.\n",
    "#\n",
    "\n",
    "# Carregando os dados dos animes \n",
    "df_anime = pd.read_csv('bases/recommendation/anime/anime.csv')\n",
    "\n",
    "# Carregando as notas por usuário\n",
    "df_rating = pd.read_csv('bases/recommendation/anime/rating.csv')"
   ]
  },
  {
   "cell_type": "code",
   "execution_count": 30,
   "metadata": {},
   "outputs": [],
   "source": [
    "#\n",
    "# Os dois conjuntos tem uma coluna que leva o mesmo nome,\n",
    "# que é a coluna de nota rating, que tem significados\n",
    "# diferentes. Na conjunto anime o rating está relacionado ao anime\n",
    "# enquanto no conjunto rating a relação é com os usuários.\n",
    "#\n",
    "df_rating = df_rating.rename({'rating':'user_rating'}, axis='columns')\n",
    "\n",
    "#\n",
    "# Vamos remover entradas de usuários com menos de 5 pontos de nota, pois\n",
    "# a contribuição deles é pouca, e queremos encontrar filmes com boa \n",
    "# pontuação geral. Essa parte é meio heurística, poderíamos por\n",
    "# exemplo utilizar a média das notas dos filmes assistidos por usuário.\n",
    "#\n",
    "df_rating = df_rating.drop(df_rating[df_rating.user_rating < 5].index)"
   ]
  },
  {
   "cell_type": "code",
   "execution_count": 31,
   "metadata": {},
   "outputs": [
    {
     "data": {
      "text/plain": [
       "(6151698, 3)"
      ]
     },
     "execution_count": 31,
     "metadata": {},
     "output_type": "execute_result"
    }
   ],
   "source": [
    "#\n",
    "# Número de amostras com rating >= 5\n",
    "#\n",
    "df_rating.shape"
   ]
  },
  {
   "cell_type": "code",
   "execution_count": 20,
   "metadata": {},
   "outputs": [
    {
     "data": {
      "text/plain": [
       "anime_id      0\n",
       "name          0\n",
       "genre        62\n",
       "type         25\n",
       "episodes      0\n",
       "rating      230\n",
       "members       0\n",
       "dtype: int64"
      ]
     },
     "execution_count": 20,
     "metadata": {},
     "output_type": "execute_result"
    }
   ],
   "source": [
    "#\n",
    "# Muitos animes estão sem notas e outros dados, mas\n",
    "# nesse caso já esperamos isso, afinal sistemas de\n",
    "# recomendação trabalham com bases incompletas.\n",
    "#\n",
    "df_anime.isnull().sum()"
   ]
  },
  {
   "cell_type": "code",
   "execution_count": 37,
   "metadata": {
    "scrolled": true
   },
   "outputs": [
    {
     "name": "stdout",
     "output_type": "stream",
     "text": [
      "Variações de animes com todo conjunto :  7809\n",
      "Variações de animes com o conjunto reduzido :  12294\n"
     ]
    }
   ],
   "source": [
    "#\n",
    "# Agora vamos fazer um join dos conjuntos.\n",
    "#\n",
    "df_merge = pd.merge(df_anime, df_rating, on=['anime_id','anime_id'])\n",
    "\n",
    "#\n",
    "# Nós temos 6151696 amostras no DataFrame df_merge,\n",
    "# vamos reduzir o número de usuários para que \n",
    "# possamos rodar o k-means em um tempo menor.\n",
    "# Se você tiver recursos use o conjunto todo.\n",
    "#\n",
    "df_merge = df_merge[df_merge.user_id <= 10000] \n",
    "\n",
    "#\n",
    "# Tivemos uma redução na variação de animes, mas \n",
    "# podemos aumentar depois e fazer novos testes.\n",
    "# Apesar disso ainda temos um bom número.\n",
    "#\n",
    "print('Variações de animes com todo conjunto : ', len(df_merge['anime_id'].unique()))\n",
    "print('Variações de animes com o conjunto reduzido : ', len(df_anime['anime_id'].unique()))"
   ]
  },
  {
   "cell_type": "code",
   "execution_count": 38,
   "metadata": {},
   "outputs": [
    {
     "data": {
      "text/html": [
       "<div>\n",
       "<style scoped>\n",
       "    .dataframe tbody tr th:only-of-type {\n",
       "        vertical-align: middle;\n",
       "    }\n",
       "\n",
       "    .dataframe tbody tr th {\n",
       "        vertical-align: top;\n",
       "    }\n",
       "\n",
       "    .dataframe thead th {\n",
       "        text-align: right;\n",
       "    }\n",
       "</style>\n",
       "<table border=\"1\" class=\"dataframe\">\n",
       "  <thead>\n",
       "    <tr style=\"text-align: right;\">\n",
       "      <th>name</th>\n",
       "      <th>&amp;quot;Bungaku Shoujo&amp;quot; Kyou no Oyatsu: Hatsukoi</th>\n",
       "      <th>&amp;quot;Bungaku Shoujo&amp;quot; Memoire</th>\n",
       "      <th>&amp;quot;Bungaku Shoujo&amp;quot; Movie</th>\n",
       "      <th>.hack//G.U. Returner</th>\n",
       "      <th>.hack//G.U. Trilogy</th>\n",
       "      <th>.hack//G.U. Trilogy: Parody Mode</th>\n",
       "      <th>.hack//Gift</th>\n",
       "      <th>.hack//Intermezzo</th>\n",
       "      <th>.hack//Liminality</th>\n",
       "      <th>.hack//Quantum</th>\n",
       "      <th>...</th>\n",
       "      <th>gdgd Fairies 2</th>\n",
       "      <th>gdgd Fairies Movie: tte Iu Eiga wa Dou kana...?</th>\n",
       "      <th>iDOLM@STER Xenoglossia</th>\n",
       "      <th>iDOLM@STER Xenoglossia Specials</th>\n",
       "      <th>s.CRY.ed</th>\n",
       "      <th>xxxHOLiC</th>\n",
       "      <th>xxxHOLiC Kei</th>\n",
       "      <th>xxxHOLiC Movie: Manatsu no Yoru no Yume</th>\n",
       "      <th>xxxHOLiC Rou</th>\n",
       "      <th>xxxHOLiC Shunmuki</th>\n",
       "    </tr>\n",
       "    <tr>\n",
       "      <th>user_id</th>\n",
       "      <th></th>\n",
       "      <th></th>\n",
       "      <th></th>\n",
       "      <th></th>\n",
       "      <th></th>\n",
       "      <th></th>\n",
       "      <th></th>\n",
       "      <th></th>\n",
       "      <th></th>\n",
       "      <th></th>\n",
       "      <th></th>\n",
       "      <th></th>\n",
       "      <th></th>\n",
       "      <th></th>\n",
       "      <th></th>\n",
       "      <th></th>\n",
       "      <th></th>\n",
       "      <th></th>\n",
       "      <th></th>\n",
       "      <th></th>\n",
       "      <th></th>\n",
       "    </tr>\n",
       "  </thead>\n",
       "  <tbody>\n",
       "    <tr>\n",
       "      <th>1</th>\n",
       "      <td>0</td>\n",
       "      <td>0</td>\n",
       "      <td>0</td>\n",
       "      <td>0</td>\n",
       "      <td>0</td>\n",
       "      <td>0</td>\n",
       "      <td>0</td>\n",
       "      <td>0</td>\n",
       "      <td>0</td>\n",
       "      <td>0</td>\n",
       "      <td>...</td>\n",
       "      <td>0</td>\n",
       "      <td>0</td>\n",
       "      <td>0</td>\n",
       "      <td>0</td>\n",
       "      <td>0</td>\n",
       "      <td>0</td>\n",
       "      <td>0</td>\n",
       "      <td>0</td>\n",
       "      <td>0</td>\n",
       "      <td>0</td>\n",
       "    </tr>\n",
       "    <tr>\n",
       "      <th>2</th>\n",
       "      <td>0</td>\n",
       "      <td>0</td>\n",
       "      <td>0</td>\n",
       "      <td>0</td>\n",
       "      <td>0</td>\n",
       "      <td>0</td>\n",
       "      <td>0</td>\n",
       "      <td>0</td>\n",
       "      <td>0</td>\n",
       "      <td>0</td>\n",
       "      <td>...</td>\n",
       "      <td>0</td>\n",
       "      <td>0</td>\n",
       "      <td>0</td>\n",
       "      <td>0</td>\n",
       "      <td>0</td>\n",
       "      <td>0</td>\n",
       "      <td>0</td>\n",
       "      <td>0</td>\n",
       "      <td>0</td>\n",
       "      <td>0</td>\n",
       "    </tr>\n",
       "    <tr>\n",
       "      <th>3</th>\n",
       "      <td>0</td>\n",
       "      <td>0</td>\n",
       "      <td>0</td>\n",
       "      <td>0</td>\n",
       "      <td>0</td>\n",
       "      <td>0</td>\n",
       "      <td>0</td>\n",
       "      <td>0</td>\n",
       "      <td>0</td>\n",
       "      <td>0</td>\n",
       "      <td>...</td>\n",
       "      <td>0</td>\n",
       "      <td>0</td>\n",
       "      <td>0</td>\n",
       "      <td>0</td>\n",
       "      <td>0</td>\n",
       "      <td>0</td>\n",
       "      <td>0</td>\n",
       "      <td>0</td>\n",
       "      <td>0</td>\n",
       "      <td>0</td>\n",
       "    </tr>\n",
       "    <tr>\n",
       "      <th>5</th>\n",
       "      <td>0</td>\n",
       "      <td>0</td>\n",
       "      <td>0</td>\n",
       "      <td>0</td>\n",
       "      <td>0</td>\n",
       "      <td>0</td>\n",
       "      <td>0</td>\n",
       "      <td>0</td>\n",
       "      <td>0</td>\n",
       "      <td>0</td>\n",
       "      <td>...</td>\n",
       "      <td>0</td>\n",
       "      <td>0</td>\n",
       "      <td>0</td>\n",
       "      <td>0</td>\n",
       "      <td>0</td>\n",
       "      <td>0</td>\n",
       "      <td>0</td>\n",
       "      <td>0</td>\n",
       "      <td>0</td>\n",
       "      <td>0</td>\n",
       "    </tr>\n",
       "    <tr>\n",
       "      <th>7</th>\n",
       "      <td>0</td>\n",
       "      <td>0</td>\n",
       "      <td>0</td>\n",
       "      <td>0</td>\n",
       "      <td>0</td>\n",
       "      <td>0</td>\n",
       "      <td>0</td>\n",
       "      <td>0</td>\n",
       "      <td>0</td>\n",
       "      <td>0</td>\n",
       "      <td>...</td>\n",
       "      <td>0</td>\n",
       "      <td>0</td>\n",
       "      <td>0</td>\n",
       "      <td>0</td>\n",
       "      <td>0</td>\n",
       "      <td>0</td>\n",
       "      <td>0</td>\n",
       "      <td>0</td>\n",
       "      <td>0</td>\n",
       "      <td>0</td>\n",
       "    </tr>\n",
       "  </tbody>\n",
       "</table>\n",
       "<p>5 rows × 7809 columns</p>\n",
       "</div>"
      ],
      "text/plain": [
       "name     &quot;Bungaku Shoujo&quot; Kyou no Oyatsu: Hatsukoi  \\\n",
       "user_id                                                        \n",
       "1                                                        0     \n",
       "2                                                        0     \n",
       "3                                                        0     \n",
       "5                                                        0     \n",
       "7                                                        0     \n",
       "\n",
       "name     &quot;Bungaku Shoujo&quot; Memoire  &quot;Bungaku Shoujo&quot; Movie  \\\n",
       "user_id                                                                         \n",
       "1                                         0                                 0   \n",
       "2                                         0                                 0   \n",
       "3                                         0                                 0   \n",
       "5                                         0                                 0   \n",
       "7                                         0                                 0   \n",
       "\n",
       "name     .hack//G.U. Returner  .hack//G.U. Trilogy  \\\n",
       "user_id                                              \n",
       "1                           0                    0   \n",
       "2                           0                    0   \n",
       "3                           0                    0   \n",
       "5                           0                    0   \n",
       "7                           0                    0   \n",
       "\n",
       "name     .hack//G.U. Trilogy: Parody Mode  .hack//Gift  .hack//Intermezzo  \\\n",
       "user_id                                                                     \n",
       "1                                       0            0                  0   \n",
       "2                                       0            0                  0   \n",
       "3                                       0            0                  0   \n",
       "5                                       0            0                  0   \n",
       "7                                       0            0                  0   \n",
       "\n",
       "name     .hack//Liminality  .hack//Quantum  ...  gdgd Fairies 2  \\\n",
       "user_id                                     ...                   \n",
       "1                        0               0  ...               0   \n",
       "2                        0               0  ...               0   \n",
       "3                        0               0  ...               0   \n",
       "5                        0               0  ...               0   \n",
       "7                        0               0  ...               0   \n",
       "\n",
       "name     gdgd Fairies Movie: tte Iu Eiga wa Dou kana...?  \\\n",
       "user_id                                                    \n",
       "1                                                      0   \n",
       "2                                                      0   \n",
       "3                                                      0   \n",
       "5                                                      0   \n",
       "7                                                      0   \n",
       "\n",
       "name     iDOLM@STER Xenoglossia  iDOLM@STER Xenoglossia Specials  s.CRY.ed  \\\n",
       "user_id                                                                      \n",
       "1                             0                                0         0   \n",
       "2                             0                                0         0   \n",
       "3                             0                                0         0   \n",
       "5                             0                                0         0   \n",
       "7                             0                                0         0   \n",
       "\n",
       "name     xxxHOLiC  xxxHOLiC Kei  xxxHOLiC Movie: Manatsu no Yoru no Yume  \\\n",
       "user_id                                                                    \n",
       "1               0             0                                        0   \n",
       "2               0             0                                        0   \n",
       "3               0             0                                        0   \n",
       "5               0             0                                        0   \n",
       "7               0             0                                        0   \n",
       "\n",
       "name     xxxHOLiC Rou  xxxHOLiC Shunmuki  \n",
       "user_id                                   \n",
       "1                   0                  0  \n",
       "2                   0                  0  \n",
       "3                   0                  0  \n",
       "5                   0                  0  \n",
       "7                   0                  0  \n",
       "\n",
       "[5 rows x 7809 columns]"
      ]
     },
     "execution_count": 38,
     "metadata": {},
     "output_type": "execute_result"
    }
   ],
   "source": [
    "#\n",
    "# Essa abordagem que vamos utilizar é a mais comum em\n",
    "# sistemas de recomendação, nosso conjunto de \n",
    "# características se transforma em um problema de\n",
    "# características binárias, resultando em uma\n",
    "# matriz esparsa. Porém, poderiamos utilizar\n",
    "# o rating do usuário, é uma outra estratégia. Alguns\n",
    "# trabalhos indicam que as ideias são equivalentes.\n",
    "#\n",
    "#\n",
    "# A função croostab do pandas gerar uma tabela de freqûencias\n",
    "# no nosso caso entre o id do usuário e o nome do anime\n",
    "# cada linha vai ter o id e os anime assistidos, cada um \n",
    "# marcado com 1. \n",
    "#\n",
    "df_X = pd.crosstab(df_merge['user_id'], df_merge['name'])\n",
    "df_X.head()"
   ]
  },
  {
   "cell_type": "code",
   "execution_count": 43,
   "metadata": {},
   "outputs": [
    {
     "data": {
      "text/plain": [
       "9458"
      ]
     },
     "execution_count": 43,
     "metadata": {},
     "output_type": "execute_result"
    }
   ],
   "source": [
    "#\n",
    "# Números de usuários \n",
    "#\n",
    "np.size(df_merge['user_id'].unique())"
   ]
  },
  {
   "cell_type": "code",
   "execution_count": 87,
   "metadata": {},
   "outputs": [
    {
     "data": {
      "text/plain": [
       "[]"
      ]
     },
     "execution_count": 87,
     "metadata": {},
     "output_type": "execute_result"
    },
    {
     "data": {
      "image/png": "[encoded data removed]",
      "text/plain": [
       "<Figure size 432x288 with 1 Axes>"
      ]
     },
     "metadata": {
      "needs_background": "light"
     },
     "output_type": "display_data"
    }
   ],
   "source": [
    "#\n",
    "# Vamos utilizar kmeans para clusterizar os usuários de acordo com nossa\n",
    "# tabela de freqûencias. Para escolher o número k de clusters, vamos utilizar\n",
    "# o custo do clusters. Esse parâmetro está disponível no atributo inertia_\n",
    "#\n",
    "from sklearn.cluster import KMeans\n",
    "\n",
    "#\n",
    "# Vamos construir clusters maiores\n",
    "#\n",
    "K = [15, 20, 25, 30, 35, 40]\n",
    "\n",
    "# Armazenar o erro dos clusters por k \\in K\n",
    "erro = []\n",
    "\n",
    "# Rodando o kmeans\n",
    "for k in K:\n",
    "    kmeans = KMeans(n_clusters=k)\n",
    "    kmeans.fit(df_X)\n",
    "    erro.append(kmeans.inertia_)\n",
    "    \n",
    "# Plotando erro\n",
    "plt.plot(K, erro)\n",
    "plt.xlabel('Número de clusters')\n",
    "plt.ylabel('Erro da clusterização')\n",
    "plt.plot()"
   ]
  },
  {
   "cell_type": "code",
   "execution_count": 96,
   "metadata": {},
   "outputs": [
    {
     "data": {
      "text/plain": [
       "KMeans(algorithm='auto', copy_x=True, init='k-means++', max_iter=300,\n",
       "    n_clusters=30, n_init=10, n_jobs=None, precompute_distances='auto',\n",
       "    random_state=None, tol=0.0001, verbose=0)"
      ]
     },
     "execution_count": 96,
     "metadata": {},
     "output_type": "execute_result"
    }
   ],
   "source": [
    "#\n",
    "# Treinando o kmeans com 30 clusters\n",
    "#\n",
    "kmeans = KMeans(n_clusters=30)\n",
    "kmeans.fit(df_X)"
   ]
  },
  {
   "cell_type": "code",
   "execution_count": 100,
   "metadata": {},
   "outputs": [],
   "source": [
    "#\n",
    "# Vamos pegar as predições de cada cluster para nosso conjunto\n",
    "#\n",
    "Y = kmeans.predict(df_X)"
   ]
  },
  {
   "cell_type": "code",
   "execution_count": 198,
   "metadata": {},
   "outputs": [
    {
     "name": "stdout",
     "output_type": "stream",
     "text": [
      "Usuário escolhido : 3398\n",
      "-----------------------------------------------------------------\n",
      "Top 15 Animes recomendados:\n",
      "-----------------------------------------------------------------\n",
      "name\n",
      "Sword Art Online                                       0.825077\n",
      "Angel Beats!                                           0.719814\n",
      "No Game No Life                                        0.702786\n",
      "Toradora!                                              0.678019\n",
      "Chuunibyou demo Koi ga Shitai!                         0.600619\n",
      "Mirai Nikki (TV)                                       0.589783\n",
      "Death Note                                             0.585139\n",
      "Steins;Gate                                            0.575851\n",
      "Yahari Ore no Seishun Love Comedy wa Machigatteiru.    0.571207\n",
      "High School DxD                                        0.560372\n",
      "Sakurasou no Pet na Kanojo                             0.560372\n",
      "Boku wa Tomodachi ga Sukunai                           0.540248\n",
      "Highschool of the Dead                                 0.529412\n",
      "Nisekoi                                                0.529412\n",
      "Bakemonogatari                                         0.520124\n",
      "Name: 0, dtype: float64\n"
     ]
    }
   ],
   "source": [
    "# Usuários que fazem parte do nosso conjunto\n",
    "usuarios_clusterizados = df_merge['user_id'].unique()\n",
    "\n",
    "# Vamos escolher um usuário qualquer\n",
    "user = usuarios_clusterizados[1300]\n",
    "print('Usuário escolhido :', user)\n",
    "\n",
    "# Vamos pegar o cluster desse usuário\n",
    "c_user = Y[df_X.index.get_loc(user)]\n",
    "\n",
    "# Dados do usuário\n",
    "user_data = df_X.loc[df_X.index.get_loc(user), :]\n",
    "\n",
    "# Filmes ainda não vistos\n",
    "user_not_seem = user_data[user_data == 0]\n",
    "\n",
    "# Novos animes!\n",
    "new_animes = pd.concat([user_not_seem, df_X[Y == c_user].mean()], axis=1, join='inner').loc[:,0]\n",
    "\n",
    "# A primeira coisa é recomendar top 15 animes baseado no cluster de c_user\n",
    "print('-----------------------------------------------------------------')\n",
    "print('Top 15 Animes recomendados:')\n",
    "print('-----------------------------------------------------------------')\n",
    "print(new_animes.sort_values(ascending=False)[0:15])"
   ]
  },
  {
   "cell_type": "code",
   "execution_count": 228,
   "metadata": {},
   "outputs": [
    {
     "name": "stdout",
     "output_type": "stream",
     "text": [
      "-----------------------------------------------------------------\n",
      "Top 15 Animes recomendados:\n",
      "-----------------------------------------------------------------\n",
      "                                    clusters_mean\n",
      "name                                             \n",
      "Shingeki no Kyojin                       0.167960\n",
      "Sword Art Online                         0.160903\n",
      "Naruto                                   0.148200\n",
      "Ouran Koukou Host Club                   0.128676\n",
      "Fullmetal Alchemist                      0.112209\n",
      "Code Geass: Hangyaku no Lelouch          0.103740\n",
      "Fullmetal Alchemist: Brotherhood         0.102094\n",
      "Elfen Lied                               0.100212\n",
      "Sen to Chihiro no Kamikakushi            0.099976\n",
      "Angel Beats!                             0.097624\n",
      "Toradora!                                0.082098\n",
      "Code Geass: Hangyaku no Lelouch R2       0.080687\n",
      "Soul Eater                               0.076923\n",
      "Kuroshitsuji                             0.076217\n",
      "Ao no Exorcist                           0.075512\n"
     ]
    }
   ],
   "source": [
    "# Criando meu usuário\n",
    "df_xi = pd.DataFrame(np.zeros(shape=(1,df_X.columns.shape[0])), columns=df_X.columns)\n",
    "\n",
    "# Eu gosto muito de Death Note então vamos ver o que o sistema me recomenda baseado apenas nisso\n",
    "df_xi['Death Note'] = 1\n",
    "\n",
    "df_xi.index.name = 'user_id'\n",
    "\n",
    "# Vamos predizer baseado nos demais clusters\n",
    "y_i = kmeans.predict(df_xi)\n",
    "\n",
    "# Meus dados\n",
    "user_data = df_xi.loc[0, :]\n",
    "\n",
    "# Animes ainda não vistos\n",
    "user_not_seem = user_data[user_data == 0]\n",
    "\n",
    "# Novos animes!\n",
    "new_animes = pd.concat([user_not_seem, df_X[Y == y_i].mean()], axis=1, join='inner').loc[:, 0]\n",
    "new_animes.columns = ['not_seem', 'clusters_mean']\n",
    "new_animes = new_animes.drop('not_seem', axis=1)\n",
    "\n",
    "# A primeira coisa é recomendar top 15 animes baseado no cluster de c_user\n",
    "print('-----------------------------------------------------------------')\n",
    "print('Top 15 Animes recomendados:')\n",
    "print('-----------------------------------------------------------------')\n",
    "print(new_animes.sort_values(by='clusters_mean',ascending=False)[0:15])"
   ]
  },
  {
   "cell_type": "code",
   "execution_count": null,
   "metadata": {},
   "outputs": [],
   "source": []
  }
 ],
 "metadata": {
  "kernelspec": {
   "display_name": "Python 3",
   "language": "python",
   "name": "python3"
  },
  "language_info": {
   "codemirror_mode": {
    "name": "ipython",
    "version": 3
   },
   "file_extension": ".py",
   "mimetype": "text/x-python",
   "name": "python",
   "nbconvert_exporter": "python",
   "pygments_lexer": "ipython3",
   "version": "3.7.3"
  }
 },
 "nbformat": 4,
 "nbformat_minor": 2
}
