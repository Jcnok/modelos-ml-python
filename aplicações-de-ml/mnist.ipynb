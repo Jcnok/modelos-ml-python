{
 "cells": [
  {
   "cell_type": "code",
   "execution_count": null,
   "metadata": {},
   "outputs": [],
   "source": [
    "# Carregando bibliotecas de uso geral\n",
    "import numpy as np\n",
    "import pandas as pd\n",
    "import matplotlib.pyplot as plt\n",
    "from sklearn.linear_model import LogisticRegression"
   ]
  },
  {
   "cell_type": "code",
   "execution_count": null,
   "metadata": {},
   "outputs": [],
   "source": [
    "# Carregando conjunto de treinamento\n",
    "df_train = pd.read_csv('bases/mnist-in-csv/mnist_train.csv', sep=',')\n",
    "X_train  = df_train.values[:, 1:]\n",
    "Y_train  = df_train.values[:, 0]\n",
    "\n",
    "# Carregando conjunto de testes\n",
    "df_test = pd.read_csv('bases/mnist-in-csv/mnist_test.csv', sep=',')\n",
    "X_test  = df_test.values[:, 1:]\n",
    "Y_test  = df_test.values[:, 0]"
   ]
  },
  {
   "cell_type": "code",
   "execution_count": null,
   "metadata": {},
   "outputs": [],
   "source": [
    "# Vamos ver o que temos no conjunto...\n",
    "plt.figure(figsize=(20,4))\n",
    "for index, (image, label) in enumerate(zip(X_train[0:5], Y_train[0:5])):\n",
    "    plt.subplot(1, 5, index + 1)\n",
    "    plt.imshow(np.reshape(image, (28,28)), cmap=plt.cm.gray)\n",
    "    plt.title('Treinamento: %i\\n' % label, fontsize = 20)"
   ]
  },
  {
   "cell_type": "code",
   "execution_count": null,
   "metadata": {
    "scrolled": true
   },
   "outputs": [],
   "source": [
    "# Algumas amostras do dígito 9 (pode escolher o dígito abaixo)\n",
    "digito = 9\n",
    "fig, ax = plt.subplots(nrows=5, ncols=5, figsize=(10,10), sharex=True, sharey=True)\n",
    "ax = ax.flatten()\n",
    "for i in range(25):\n",
    "    img = X_train[Y_train == digito][i].reshape(28, 28)\n",
    "    ax[i].imshow(img, cmap=plt.cm.gray)\n",
    "    \n",
    "ax[0].set_xticks([])\n",
    "ax[0].set_yticks([])\n",
    "plt.show()"
   ]
  },
  {
   "cell_type": "code",
   "execution_count": null,
   "metadata": {},
   "outputs": [],
   "source": [
    "#\n",
    "# Normalizando dados (por se tratar de imagens a normalização é um pouco diferente)\n",
    "#\n",
    "# No livro \"Python Machine Learning\" do Raschka tem uma explicação sobre isso.\n",
    "#\n",
    "Xz_train = ((X_train / 255.0) - 0.5)*2\n",
    "Xz_test  = ((X_test / 255.0) - 0.5)*2"
   ]
  },
  {
   "cell_type": "code",
   "execution_count": null,
   "metadata": {},
   "outputs": [],
   "source": [
    "#\n",
    "# O primeiro classificador que vamos utilizar é uma regressão logística\n",
    "# vamos otimizar os hiperparâmetros com GridSearch\n",
    "#\n",
    "from sklearn.model_selection import ShuffleSplit\n",
    "\n",
    "# Criando instância da regressão logística\n",
    "clf = LogisticRegression(solver='sag', \n",
    "                         max_iter=1000, \n",
    "                         multi_class='ovr')\n",
    "\n",
    "# Otimizando hiperparâmetros com GridSearch (vamos variar o parâmetro de regularização C)\n",
    "grid = [{'C':[0.1, 1, 100, 1000]}]\n",
    "\n",
    "#\n",
    "# Grid de busca (vamos remover a validação cruzada para acelerar o treinamento)\n",
    "#\n",
    "cv = ShuffleSplit(test_size=0.20, n_splits=1, random_state=0)\n",
    "gs = GridSearchCV(clf, grid, n_jobs=-1, cv=cv)\n",
    "gs.fit(Xz_train, Y_train)\n",
    "\n",
    "#\n",
    "# Imprimindo melhor modelo encontrado\n",
    "#\n",
    "print('Melhor score de validação %.3f'% (gs.best_score_*100), '%')\n",
    "print('Melhor score de teste %.3f'% (gs.score(Xz_test, Y_test)*100), '%')\n",
    "print('Melhores hiperparâmetros', gs.best_params_)"
   ]
  },
  {
   "cell_type": "code",
   "execution_count": null,
   "metadata": {},
   "outputs": [],
   "source": [
    "# Melhor modelo encontrado\n",
    "clf = LogisticRegression(solver='sag', \n",
    "                         max_iter=1000, \n",
    "                         multi_class='ovr',\n",
    "                         C=1)\n",
    "\n",
    "# Treinando melhor modelo\n",
    "clf.fit(Xz_train, Y_train)\n",
    "\n",
    "# Plotando acurácias\n",
    "print('Melhor score de treinamento %.3f'% (clf.score(Xz_train, Y_train)*100), '%')\n",
    "print('Melhor score de teste %.3f'% (clf.score(Xz_test, Y_test)*100), '%')"
   ]
  }
 ],
 "metadata": {
  "kernelspec": {
   "display_name": "Python 3",
   "language": "python",
   "name": "python3"
  },
  "language_info": {
   "codemirror_mode": {
    "name": "ipython",
    "version": 3
   },
   "file_extension": ".py",
   "mimetype": "text/x-python",
   "name": "python",
   "nbconvert_exporter": "python",
   "pygments_lexer": "ipython3",
   "version": "3.7.3"
  }
 },
 "nbformat": 4,
 "nbformat_minor": 2
}
