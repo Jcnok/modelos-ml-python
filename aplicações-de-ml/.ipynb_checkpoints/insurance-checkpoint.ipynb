{
 "cells": [
  {
   "cell_type": "code",
   "execution_count": 171,
   "metadata": {},
   "outputs": [],
   "source": [
    "# Carregando bibliotecas de uso geral\n",
    "import numpy as np\n",
    "import pandas as pd\n",
    "import matplotlib.pyplot as plt\n",
    "from sklearn.preprocessing import StandardScaler\n",
    "from sklearn.metrics import mean_squared_error\n",
    "from sklearn.model_selection import train_test_split"
   ]
  },
  {
   "cell_type": "code",
   "execution_count": 233,
   "metadata": {
    "scrolled": true
   },
   "outputs": [
    {
     "name": "stdout",
     "output_type": "stream",
     "text": [
      "0.16634069869599238\n",
      "0.13981779877056666\n"
     ]
    }
   ],
   "source": [
    "# Carregando conjunto de dados\n",
    "df = pd.read_csv('bases/insurance/insurance.csv', sep=',')\n",
    "\n",
    "#\n",
    "#  Sex, smoker e region são características categóricas, portando precisam ser convertidas para numéricas\n",
    "#\n",
    "#  sex e smoker serão convertidas diretamente, pois são binárias\n",
    "#\n",
    "from sklearn.preprocessing import LabelEncoder\n",
    "\n",
    "# Característica sex\n",
    "sex_encoder = LabelEncoder()\n",
    "df['sex'] = sex_encoder.fit_transform(df['sex'].values)\n",
    "\n",
    "# Característica smoker\n",
    "smoker_encoder = LabelEncoder()\n",
    "df['smoker'] = smoker_encoder.fit_transform(df['smoker'].values)\n",
    "\n",
    "# Rodando one-hot-enconding na característica region e removendo a primeira opção via drop_first\n",
    "df = pd.get_dummies(df, drop_first=True)\n",
    "\n",
    "# Pegando conjunto (X, y)\n",
    "X = df[['age', 'sex', 'bmi', 'children', 'smoker', 'region_northwest', 'region_southeast', 'region_southwest']].values\n",
    "y = df['charges'].values\n",
    "\n",
    "# Vamos usar uma regressão linear (SGD) com características polinomiais\n",
    "from sklearn.linear_model import SGDRegressor\n",
    "from sklearn.preprocessing import PolynomialFeatures\n",
    "\n",
    "# Características polinomiais\n",
    "poly = PolynomialFeatures(degree=2)\n",
    "X    = poly.fit_transform(X)\n",
    "\n",
    "# Dividindo conjunto\n",
    "X_train, X_test, y_train, y_test = train_test_split(X, y, test_size=0.15, random_state=1)\n",
    "\n",
    "# Normalizando as características\n",
    "zscore_x = StandardScaler()\n",
    "X_train = zscore_x.fit_transform(X_train)\n",
    "X_test  = zscore_x.transform(X_test)\n",
    "\n",
    "# Normalizando a saída (em problemas de regressão pode auxiliar na convergência)\n",
    "zscore_y = StandardScaler()\n",
    "y_train = zscore_y.fit_transform(y_train[:, np.newaxis]).flatten()\n",
    "y_test  = zscore_y.transform(y_test[:, np.newaxis]).flatten()\n",
    "\n",
    "#\n",
    "# Vamos rodar um Grid Search com validação cruzada\n",
    "#\n",
    "from sklearn.model_selection import GridSearchCV\n",
    "\n",
    "# Parâmetros do grid\n",
    "grid_params = {'alpha': [0.0001, 0.001, 0.01, 0.1], \n",
    "               'max_iter':[1000, 10000], \n",
    "               'learning_rate':['adaptive', 'invscaling'],\n",
    "               'tol':[1e-3, 1e-5, 1e-6, 1e-7],\n",
    "               'early_stopping':[True, False]}\n",
    "\n",
    "# A implementação de GridSearch da sklearn maximiza, então precisamos \n",
    "# usar a inversa do MSE (por isso usamos neg_mean_squared_error)\n",
    "gs = GridSearchCV(SGDRegressor(), \n",
    "                  grid_params, \n",
    "                  cv=5, \n",
    "                  scoring='neg_mean_squared_error') \n",
    "\n",
    "gs.fit(X_train, y_train)\n",
    "print('MSE de validação %.5f' % (gs.best_score_*-1))\n",
    "print('MSE de teste %.5f' % mean_squared_error(gs.predict(X_test), y_test))"
   ]
  },
  {
   "cell_type": "code",
   "execution_count": 249,
   "metadata": {},
   "outputs": [
    {
     "name": "stdout",
     "output_type": "stream",
     "text": [
      "O preço do plano de saúde predito para o paciente 0 é $3085.721\n"
     ]
    }
   ],
   "source": [
    "# Mostrando o preço para uma dada amostra (usando a inversa do zscore na saída)\n",
    "yp = zscore_y.inverse_transform(gs.predict(np.asarray([X_test[0, :]])))\n",
    "print('O preço do plano de saúde predito para o paciente 0 é $%.3f' % (yp))"
   ]
  }
 ],
 "metadata": {
  "kernelspec": {
   "display_name": "Python 3",
   "language": "python",
   "name": "python3"
  },
  "language_info": {
   "codemirror_mode": {
    "name": "ipython",
    "version": 3
   },
   "file_extension": ".py",
   "mimetype": "text/x-python",
   "name": "python",
   "nbconvert_exporter": "python",
   "pygments_lexer": "ipython3",
   "version": "3.7.3"
  }
 },
 "nbformat": 4,
 "nbformat_minor": 2
}
