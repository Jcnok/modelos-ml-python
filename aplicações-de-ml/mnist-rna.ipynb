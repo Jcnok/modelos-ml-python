{
 "cells": [
  {
   "cell_type": "code",
   "execution_count": 2,
   "metadata": {},
   "outputs": [],
   "source": [
    "# Carregando bibliotecas de uso geral\n",
    "import numpy as np\n",
    "import pandas as pd\n",
    "from sklearn.neural_network import MLPClassifier"
   ]
  },
  {
   "cell_type": "code",
   "execution_count": 3,
   "metadata": {},
   "outputs": [],
   "source": [
    "# Carregando conjunto de treinamento\n",
    "df_train = pd.read_csv('bases/mnist-in-csv/mnist_train.csv', sep=',')\n",
    "X_train  = df_train.values[:, 1:]\n",
    "Y_train  = df_train.values[:, 0]\n",
    "\n",
    "# Carregando conjunto de testes\n",
    "df_test = pd.read_csv('bases/mnist-in-csv/mnist_test.csv', sep=',')\n",
    "X_test  = df_test.values[:, 1:]\n",
    "Y_test  = df_test.values[:, 0]"
   ]
  },
  {
   "cell_type": "code",
   "execution_count": 4,
   "metadata": {},
   "outputs": [],
   "source": [
    "# Normalizando os dados \n",
    "Xz_train = ((X_train / 255.0) - 0.5)*2\n",
    "Xz_test  = ((X_test / 255.0) - 0.5)*2"
   ]
  },
  {
   "cell_type": "code",
   "execution_count": 5,
   "metadata": {},
   "outputs": [
    {
     "name": "stdout",
     "output_type": "stream",
     "text": [
      "Melhor score de treinamento 99.865 %\n",
      "Melhor score de teste 97.730 %\n"
     ]
    }
   ],
   "source": [
    "# Intânciando a Rede Neural\n",
    "clf = MLPClassifier(hidden_layer_sizes=(100))\n",
    "\n",
    "# Treinando a Rede Neural\n",
    "clf.fit(Xz_train, Y_train)\n",
    "\n",
    "# Plotando acurácias\n",
    "print('Melhor score de treinamento %.3f'% (clf.score(Xz_train, Y_train)*100), '%')\n",
    "print('Melhor score de teste %.3f'% (clf.score(Xz_test, Y_test)*100), '%')"
   ]
  }
 ],
 "metadata": {
  "kernelspec": {
   "display_name": "Python 3",
   "language": "python",
   "name": "python3"
  },
  "language_info": {
   "codemirror_mode": {
    "name": "ipython",
    "version": 3
   },
   "file_extension": ".py",
   "mimetype": "text/x-python",
   "name": "python",
   "nbconvert_exporter": "python",
   "pygments_lexer": "ipython3",
   "version": "3.7.3"
  }
 },
 "nbformat": 4,
 "nbformat_minor": 2
}
