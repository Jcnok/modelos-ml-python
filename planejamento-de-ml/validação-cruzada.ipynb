{
 "cells": [
  {
   "cell_type": "code",
   "execution_count": 29,
   "metadata": {},
   "outputs": [],
   "source": [
    "# Bibliotecas de uso geral\n",
    "import numpy as np\n",
    "import pandas as pd\n",
    "from sklearn.preprocessing import StandardScaler\n",
    "from sklearn.linear_model import LogisticRegression\n",
    "from sklearn.model_selection import train_test_split\n",
    "from sklearn.metrics import accuracy_score\n",
    "import matplotlib.pyplot as plt\n",
    "from sklearn.model_selection import StratifiedKFold"
   ]
  },
  {
   "cell_type": "code",
   "execution_count": 30,
   "metadata": {},
   "outputs": [
    {
     "name": "stdout",
     "output_type": "stream",
     "text": [
      "\n",
      "Acurácia do CV: 98.667 (média) +/- 2.667 (desvio)\n",
      "\n",
      "Acurácia de treinamento: 100.000\n",
      "\n",
      "Acurácia de teste: 100.000\n"
     ]
    }
   ],
   "source": [
    "# Dataset de vinhos\n",
    "df_wine = pd.read_csv('https://archive.ics.uci.edu/'\n",
    "                             'ml/machine-learning-databases/'\n",
    "                             'wine/wine.data', header=None)\n",
    "df_wine.columns = ['Class label', 'Alcohol',\n",
    "                    'Malic acid', 'Ash',\n",
    "                    'Alcalinity of ash', 'Magnesium',\n",
    "                    'Total phenols', 'Flavanoids',\n",
    "                    'Nonflavanoid phenols',\n",
    "                    'Proanthocyanins',\n",
    "                    'Color intensity', 'Hue',\n",
    "                    'OD280/OD315 of diluted wines',\n",
    "                    'Proline']\n",
    "\n",
    "# Pegando (X, y)\n",
    "X, y = df_wine.iloc[:, 1:].values, df_wine.iloc[:, 0].values\n",
    "\n",
    "# Dividindo conjunto de dados\n",
    "X_train, X_test, y_train, y_test = train_test_split(X, y, test_size=0.15, random_state=0, stratify=y)\n",
    "\n",
    "# Normalizando os dados com zscore\n",
    "zscore = StandardScaler()\n",
    "Xz_train = zscore.fit_transform(X_train)\n",
    "Xz_test  = zscore.transform(X_test)\n",
    "\n",
    "# Criando classificador para avaliação\n",
    "clf = LogisticRegression(solver='liblinear', multi_class='ovr')\n",
    "\n",
    "# Criando nosso kfold\n",
    "k = 10\n",
    "kfold = StratifiedKFold(n_splits=k,random_state=1).split(Xz_train, y_train)\n",
    "\n",
    "# Scores de avaliação para as medidas E_i\n",
    "scores = []\n",
    "\n",
    "# Rodando a validação cruzada\n",
    "for k, (train, test) in enumerate(kfold):\n",
    "    clf.fit(Xz_train[train], y_train[train])\n",
    "    score = clf.score(Xz_train[test], y_train[test])\n",
    "    scores.append(score)\n",
    "\n",
    "# Calculando o CV (média dos scores)\n",
    "print('\\nAcurácia do CV: %.3f (média) +/- %.3f (desvio)' % (np.mean(scores)*100, np.std(scores)*100))\n",
    "\n",
    "# Treinando o modelo com todo o conjunto, de acordo com a validação temos um bom modelo\n",
    "clf.fit(Xz_train, y_train)\n",
    "\n",
    "# Validação final do modelo\n",
    "print('\\nAcurácia de treinamento: %.3f' % (np.mean(clf.score(Xz_train, y_train))*100))\n",
    "print('\\nAcurácia de teste: %.3f' % (np.mean(clf.score(Xz_test, y_test))*100))"
   ]
  }
 ],
 "metadata": {
  "kernelspec": {
   "display_name": "Python 3",
   "language": "python",
   "name": "python3"
  },
  "language_info": {
   "codemirror_mode": {
    "name": "ipython",
    "version": 3
   },
   "file_extension": ".py",
   "mimetype": "text/x-python",
   "name": "python",
   "nbconvert_exporter": "python",
   "pygments_lexer": "ipython3",
   "version": "3.7.3"
  }
 },
 "nbformat": 4,
 "nbformat_minor": 2
}
