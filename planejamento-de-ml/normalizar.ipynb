{
 "cells": [
  {
   "cell_type": "code",
   "execution_count": 14,
   "metadata": {},
   "outputs": [],
   "source": [
    "# Bibliotecas de uso geral\n",
    "import numpy as np\n",
    "import pandas as pd\n",
    "from sklearn.preprocessing import MinMaxScaler\n",
    "from sklearn.preprocessing import StandardScaler"
   ]
  },
  {
   "cell_type": "code",
   "execution_count": 11,
   "metadata": {},
   "outputs": [
    {
     "data": {
      "text/plain": [
       "array([[1.        ],\n",
       "       [0.        ],\n",
       "       [0.06744186],\n",
       "       [0.03953488]])"
      ]
     },
     "execution_count": 11,
     "metadata": {},
     "output_type": "execute_result"
    }
   ],
   "source": [
    "# Instânciando a classe do MinMaxScaler\n",
    "minmax = MinMaxScaler()\n",
    "\n",
    "# Conjunto artificial de amostras de características\n",
    "X = np.asarray([[10,  30, 50],\n",
    "                [4,   6,  7],\n",
    "                [4.5, 7,  9.9],\n",
    "                [6,   7,  8.7]])\n",
    "\n",
    "# Escolhendo uma característica qualquer j\n",
    "j = 2\n",
    "xj = X[:, j]\n",
    "\n",
    "# Normalizando a coluna xj\n",
    "zj = minmax.fit_transform(xj.reshape(-1, 1))\n",
    "zj"
   ]
  },
  {
   "cell_type": "code",
   "execution_count": 13,
   "metadata": {},
   "outputs": [
    {
     "data": {
      "text/plain": [
       "array([[1.        , 1.        , 1.        ],\n",
       "       [0.        , 0.        , 0.        ],\n",
       "       [0.08333333, 0.04166667, 0.06744186],\n",
       "       [0.33333333, 0.04166667, 0.03953488]])"
      ]
     },
     "execution_count": 13,
     "metadata": {},
     "output_type": "execute_result"
    }
   ],
   "source": [
    "# Normalizando o conjunto todo\n",
    "Xz = minmax.fit_transform(X)\n",
    "Xz"
   ]
  },
  {
   "cell_type": "code",
   "execution_count": 15,
   "metadata": {},
   "outputs": [
    {
     "data": {
      "text/plain": [
       "array([[ 1.64530917,  1.73063862,  1.72920603],\n",
       "       [-0.90226632, -0.64280863, -0.66165761],\n",
       "       [-0.68996836, -0.54391499, -0.50041332],\n",
       "       [-0.05307449, -0.54391499, -0.5671351 ]])"
      ]
     },
     "execution_count": 15,
     "metadata": {},
     "output_type": "execute_result"
    }
   ],
   "source": [
    "# Instânciando a classe do StandardScaler\n",
    "zscore = StandardScaler()\n",
    "\n",
    "# Conjunto artificial de amostras de características\n",
    "X = np.asarray([[10,  30, 50],\n",
    "                [4,   6,  7],\n",
    "                [4.5, 7,  9.9],\n",
    "                [6,   7,  8.7]])\n",
    "\n",
    "# Normalizando o conjunto todo\n",
    "Xz = zscore.fit_transform(X)\n",
    "Xz"
   ]
  }
 ],
 "metadata": {
  "kernelspec": {
   "display_name": "Python 3",
   "language": "python",
   "name": "python3"
  },
  "language_info": {
   "codemirror_mode": {
    "name": "ipython",
    "version": 3
   },
   "file_extension": ".py",
   "mimetype": "text/x-python",
   "name": "python",
   "nbconvert_exporter": "python",
   "pygments_lexer": "ipython3",
   "version": "3.7.3"
  }
 },
 "nbformat": 4,
 "nbformat_minor": 2
}
