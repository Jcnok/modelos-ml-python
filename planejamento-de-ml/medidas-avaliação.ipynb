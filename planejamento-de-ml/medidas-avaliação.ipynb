{
 "cells": [
  {
   "cell_type": "code",
   "execution_count": 1,
   "metadata": {},
   "outputs": [],
   "source": [
    "# Bibliotecas de uso geral\n",
    "import numpy as np\n",
    "import pandas as pd\n",
    "from sklearn.preprocessing import StandardScaler\n",
    "from sklearn.linear_model import LogisticRegression\n",
    "from sklearn.model_selection import train_test_split"
   ]
  },
  {
   "cell_type": "code",
   "execution_count": 67,
   "metadata": {},
   "outputs": [],
   "source": [
    "#\n",
    "#  Função que computa matriz de confusão binária\n",
    "#\n",
    "#  Entradas : y_{m, 1}  = vetor de amostras conhecidas\n",
    "#             yp_{m, 1} = vetor de amostras preditas pelo classificador\n",
    "#\n",
    "#  Saída    : matriz de confusão 2 x 2:\n",
    "#         \n",
    "#             [TP, FN]\n",
    "#             [FP, TN]\n",
    "#\n",
    "def matriz_conf_bin(y, yp):\n",
    "    \n",
    "    pos = np.where(y == 1)\n",
    "    neg = np.where(y == 0)\n",
    "    \n",
    "    TP = np.where(yp[pos] == 1, 1, 0).sum()\n",
    "    FN = np.where(yp[pos] == 0, 1, 0).sum()\n",
    "    TN = np.where(yp[neg] == 0, 1, 0).sum()\n",
    "    FP = np.where(yp[neg] == 1, 1, 0).sum()\n",
    "     \n",
    "    return np.array([[TP, FN], \n",
    "                     [FP, TN]])"
   ]
  },
  {
   "cell_type": "code",
   "execution_count": 72,
   "metadata": {},
   "outputs": [
    {
     "name": "stdout",
     "output_type": "stream",
     "text": [
      "Acurácia do modelo: 25.00 %\n"
     ]
    }
   ],
   "source": [
    "# Os vetores y e yp são apenas para ilustrar o funcionamento da matriz de confusão binária\n",
    "y  = np.asarray([1, 0, 1, 1])\n",
    "yp = np.asarray([1, 1, 0, 0])\n",
    "(TP, FN, FP, TN) = matriz_conf_bin(y, yp).ravel()\n",
    "\n",
    "# Acurácia\n",
    "ACC = (TP+TN)/(FP+FN+TP+TN)\n",
    "print('Acurácia do modelo: %.2f' % (ACC*100), '%')"
   ]
  }
 ],
 "metadata": {
  "kernelspec": {
   "display_name": "Python 3",
   "language": "python",
   "name": "python3"
  },
  "language_info": {
   "codemirror_mode": {
    "name": "ipython",
    "version": 3
   },
   "file_extension": ".py",
   "mimetype": "text/x-python",
   "name": "python",
   "nbconvert_exporter": "python",
   "pygments_lexer": "ipython3",
   "version": "3.7.3"
  }
 },
 "nbformat": 4,
 "nbformat_minor": 2
}
