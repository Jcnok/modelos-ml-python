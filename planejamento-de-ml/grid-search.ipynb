{
 "cells": [
  {
   "cell_type": "code",
   "execution_count": 5,
   "metadata": {},
   "outputs": [],
   "source": [
    "# Bibliotecas de uso geral\n",
    "import numpy as np\n",
    "import pandas as pd\n",
    "from sklearn.preprocessing import StandardScaler\n",
    "from sklearn.linear_model import LogisticRegression\n",
    "from sklearn.model_selection import train_test_split\n",
    "from sklearn.metrics import accuracy_score\n",
    "from sklearn.model_selection import GridSearchCV"
   ]
  },
  {
   "cell_type": "code",
   "execution_count": 27,
   "metadata": {},
   "outputs": [
    {
     "name": "stdout",
     "output_type": "stream",
     "text": [
      "Melhor score de validação: 98.675\n",
      "Melhores hiperparâmetros: {'C': 1, 'max_iter': 100, 'solver': 'liblinear'}\n",
      "Acurácia de treinamento: 100.000\n",
      "Acurácia de teste: 100.000\n"
     ]
    }
   ],
   "source": [
    "# Dataset de vinhos\n",
    "df_wine = pd.read_csv('https://archive.ics.uci.edu/'\n",
    "                             'ml/machine-learning-databases/'\n",
    "                             'wine/wine.data', header=None)\n",
    "df_wine.columns = ['Class label', 'Alcohol',\n",
    "                    'Malic acid', 'Ash',\n",
    "                    'Alcalinity of ash', 'Magnesium',\n",
    "                    'Total phenols', 'Flavanoids',\n",
    "                    'Nonflavanoid phenols',\n",
    "                    'Proanthocyanins',\n",
    "                    'Color intensity', 'Hue',\n",
    "                    'OD280/OD315 of diluted wines',\n",
    "                    'Proline']\n",
    "\n",
    "# Pegando (X, y)\n",
    "X, y = df_wine.iloc[:, 1:].values, df_wine.iloc[:, 0].values\n",
    "\n",
    "# Dividindo conjunto de dados\n",
    "X_train, X_test, y_train, y_test = train_test_split(X, y, test_size=0.15, random_state=10, stratify=y)\n",
    "\n",
    "# Normalizando os dados com zscore\n",
    "zscore = StandardScaler()\n",
    "Xz_train = zscore.fit_transform(X_train)\n",
    "Xz_test  = zscore.transform(X_test)\n",
    "\n",
    "# Definindo um grid de busca\n",
    "grid = [{'solver': ['newton-cg', 'lbfgs', 'liblinear'],\n",
    "        'C': [1, 10, 100, 1000],\n",
    "        'max_iter': [100, 1000, 10000]}]\n",
    "\n",
    "# Buscando melhores hiperparâmetros com validação cruzada\n",
    "k = 3\n",
    "gs = GridSearchCV(LogisticRegression(multi_class='ovr'), grid, cv=k)\n",
    "gs.fit(Xz_train, y_train)\n",
    "\n",
    "# Melhor score\n",
    "print('Melhor score de validação: %.3f' % (gs.best_score_*100))\n",
    "print('Melhores hiperparâmetros:', gs.best_params_)\n",
    "\n",
    "# Validação final do modelo\n",
    "clf = gs.best_estimator_\n",
    "clf.fit(Xz_train, y_train)\n",
    "print('Acurácia de treinamento: %.3f' % (np.mean(gs.score(Xz_train, y_train))*100))\n",
    "print('Acurácia de teste: %.3f' % (np.mean(gs.score(Xz_test, y_test))*100))"
   ]
  }
 ],
 "metadata": {
  "kernelspec": {
   "display_name": "Python 3",
   "language": "python",
   "name": "python3"
  },
  "language_info": {
   "codemirror_mode": {
    "name": "ipython",
    "version": 3
   },
   "file_extension": ".py",
   "mimetype": "text/x-python",
   "name": "python",
   "nbconvert_exporter": "python",
   "pygments_lexer": "ipython3",
   "version": "3.7.3"
  }
 },
 "nbformat": 4,
 "nbformat_minor": 2
}
