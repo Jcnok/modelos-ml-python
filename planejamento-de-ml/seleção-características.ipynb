{
 "cells": [
  {
   "cell_type": "code",
   "execution_count": 4,
   "metadata": {},
   "outputs": [],
   "source": [
    "# Bibliotecas de uso geral\n",
    "import numpy as np\n",
    "import pandas as pd\n",
    "from sklearn.preprocessing import StandardScaler\n",
    "from sklearn.linear_model import LogisticRegression\n",
    "from sklearn.model_selection import train_test_split\n",
    "from sklearn.metrics import accuracy_score\n",
    "import matplotlib.pyplot as plt"
   ]
  },
  {
   "cell_type": "code",
   "execution_count": 7,
   "metadata": {},
   "outputs": [],
   "source": [
    "#\n",
    "#\n",
    "#  Função que implementa o SFS (Sequential Forward Selection) \n",
    "#  para problemas de aprendizagem supervisionada.\n",
    "#\n",
    "#  Entradas : X_{m, n} = conjunto de características\n",
    "#             y_{m, 1} = vetor de rótulos\n",
    "#             k = parâmetro das melhores k <= n características\n",
    "#             f = função de avaliação\n",
    "#             test_size = tamanho do conjunto de testes\n",
    "#             random_state = parâmetro do train_test_split\n",
    "#\n",
    "#\n",
    "#  Saídas : scores_{k, 1}  = Scores acumulados do 1 até o k \n",
    "#                            subconjunto de características\n",
    "# \n",
    "#           indexes_{k, 1} = Índices de 1 até k que formam\n",
    "#                            subconjuntos ótimos de características\n",
    "#\n",
    "def SFS(X, y, k, f, test_size=0.25, random_state=1):\n",
    "    \n",
    "    # Guardar os indices e os scores\n",
    "    indexes  = []\n",
    "    scores   = []\n",
    "    \n",
    "    X_train, X_test, y_train, y_test = train_test_split(X, y, \n",
    "                                                        test_size=test_size, \n",
    "                                                        random_state=random_state)\n",
    "    \n",
    "    # Indices para serem visitados (lista de busca)\n",
    "    ind = list(range(X.shape[1]))\n",
    "    \n",
    "    for i in range(k):\n",
    "        \n",
    "        # Melhor por iteração\n",
    "        s_best = np.finfo(np.float64).min\n",
    "        j_best = 0\n",
    "        \n",
    "        # Seleção da melhor combinação\n",
    "        for j in range(len(ind)):      \n",
    "            xj_train = X_train[:, indexes + [ind[j]]]           \n",
    "            xj_test  = X_test[:, indexes + [ind[j]]]           \n",
    "            s_temp = f(xj_train, y_train, xj_test, y_test)\n",
    "            if s_temp > s_best:\n",
    "                s_best = s_temp\n",
    "                j_best = j            \n",
    "        \n",
    "        # Adiciona o melhor aos indices\n",
    "        indexes.append(ind[j_best])\n",
    "        \n",
    "        # Remove o melhor encontrado da lista de busca\n",
    "        del ind[j_best]\n",
    "        \n",
    "        # Guarda o score da iteração i\n",
    "        scores.append(s_best)\n",
    "        \n",
    "    return scores, indexes"
   ]
  },
  {
   "cell_type": "code",
   "execution_count": 44,
   "metadata": {},
   "outputs": [
    {
     "data": {
      "text/plain": [
       "[0.7368421052631579,\n",
       " 0.9210526315789473,\n",
       " 0.9736842105263158,\n",
       " 0.9736842105263158,\n",
       " 0.9736842105263158,\n",
       " 1.0,\n",
       " 1.0,\n",
       " 1.0,\n",
       " 1.0,\n",
       " 1.0,\n",
       " 1.0]"
      ]
     },
     "execution_count": 44,
     "metadata": {},
     "output_type": "execute_result"
    }
   ],
   "source": [
    "# Dataset de vinhos\n",
    "df_wine = pd.read_csv('https://archive.ics.uci.edu/'\n",
    "                             'ml/machine-learning-databases/'\n",
    "                             'wine/wine.data', header=None)\n",
    "df_wine.columns = ['Class label', 'Alcohol',\n",
    "                    'Malic acid', 'Ash',\n",
    "                    'Alcalinity of ash', 'Magnesium',\n",
    "                    'Total phenols', 'Flavanoids',\n",
    "                    'Nonflavanoid phenols',\n",
    "                    'Proanthocyanins',\n",
    "                    'Color intensity', 'Hue',\n",
    "                    'OD280/OD315 of diluted wines',\n",
    "                    'Proline']\n",
    "\n",
    "# Pegando (X, y)\n",
    "X, y = df_wine.iloc[:, 1:].values, df_wine.iloc[:, 0].values\n",
    "\n",
    "# Dividindo conjunto de dados\n",
    "X_train, X_test, y_train, y_test = train_test_split(X, y, test_size=0.15, random_state=0, stratify=y)\n",
    "\n",
    "# Normalizando os dados com zscore\n",
    "zscore = StandardScaler()\n",
    "Xz_train = zscore.fit_transform(X_train)\n",
    "Xz_test  = zscore.transform(X_test)\n",
    "\n",
    "# Criando classificador para avaliação\n",
    "clf = LogisticRegression(solver='liblinear', multi_class='ovr')\n",
    "\n",
    "# Função de avaliação\n",
    "def f(X_train, y_train, X_test, y_test, clf=clf):\n",
    "    clf.fit(X_train, y_train)\n",
    "    y_pred = clf.predict(X_test)\n",
    "    return accuracy_score(y_test, y_pred)\n",
    "\n",
    "# Selecionando de 1 até 11 melhores\n",
    "k=11\n",
    "(scores, indexes) = SFS(Xz_train, y_train, k, f)\n",
    "scores"
   ]
  },
  {
   "cell_type": "code",
   "execution_count": 57,
   "metadata": {},
   "outputs": [
    {
     "name": "stdout",
     "output_type": "stream",
     "text": [
      "Acurácia treinamento 98.67549668874173 %\n",
      "Acurácia teste 100.0 %\n"
     ]
    }
   ],
   "source": [
    "# Treinando o modelo com as k=10 melhores características\n",
    "clf.fit(Xz_train[:, indexes], y_train)\n",
    "print('Acurácia treinamento', accuracy_score(clf.predict(Xz_train[:, indexes]), y_train)*100, '%')\n",
    "print('Acurácia teste', accuracy_score(clf.predict(Xz_test[:, indexes]), y_test)*100, '%')"
   ]
  },
  {
   "cell_type": "code",
   "execution_count": null,
   "metadata": {},
   "outputs": [],
   "source": []
  }
 ],
 "metadata": {
  "kernelspec": {
   "display_name": "Python 3",
   "language": "python",
   "name": "python3"
  },
  "language_info": {
   "codemirror_mode": {
    "name": "ipython",
    "version": 3
   },
   "file_extension": ".py",
   "mimetype": "text/x-python",
   "name": "python",
   "nbconvert_exporter": "python",
   "pygments_lexer": "ipython3",
   "version": "3.7.3"
  }
 },
 "nbformat": 4,
 "nbformat_minor": 2
}
